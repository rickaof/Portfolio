{
 "cells": [
  {
   "cell_type": "code",
   "execution_count": 2,
   "id": "404dd0b8",
   "metadata": {},
   "outputs": [],
   "source": [
    "from sqlalchemy import create_engine\n",
    "import pyodbc\n",
    "import pandas as pd\n",
    "import numpy as np\n",
    "import matplotlib.pyplot as plt\n",
    "import seaborn as sns"
   ]
  },
  {
   "cell_type": "markdown",
   "id": "acb230cd",
   "metadata": {},
   "source": [
    "carregando os datasets."
   ]
  },
  {
   "cell_type": "code",
   "execution_count": 3,
   "id": "badb0292",
   "metadata": {},
   "outputs": [],
   "source": [
    "orders = pd.read_csv(\n",
    "    'C:/Users/ricka/Desktop/Area de Trabalho/Projeto de Estudo Machine '\n",
    "    'Learning/Projetos e Estudos Git - Machine Learning/Portifolio/'\n",
    "    'Olist_Ecommerce_Analysis/data/datasets originais/olist_orders_dataset.csv'\n",
    ")\n",
    "order_items = pd.read_csv(\n",
    "    'C:/Users/ricka/Desktop/Area de Trabalho/Projeto de Estudo Machine '\n",
    "    'Learning/Projetos e Estudos Git - Machine Learning/Portifolio/'\n",
    "    'Olist_Ecommerce_Analysis/data/datasets originais/olist_order_items_dataset.csv'\n",
    ")\n",
    "customers = pd.read_csv(\n",
    "    'C:/Users/ricka/Desktop/Area de Trabalho/Projeto de Estudo Machine '\n",
    "    'Learning/Projetos e Estudos Git - Machine Learning/Portifolio/'\n",
    "    'Olist_Ecommerce_Analysis/data/datasets originais/olist_customers_dataset.csv'\n",
    ")\n",
    "products = pd.read_csv(\n",
    "    'C:/Users/ricka/Desktop/Area de Trabalho/Projeto de Estudo Machine '\n",
    "    'Learning/Projetos e Estudos Git - Machine Learning/Portifolio/'\n",
    "    'Olist_Ecommerce_Analysis/data/datasets originais/olist_products_dataset.csv'\n",
    ")\n",
    "sellers = pd.read_csv(\n",
    "    'C:/Users/ricka/Desktop/Area de Trabalho/Projeto de Estudo Machine '\n",
    "    'Learning/Projetos e Estudos Git - Machine Learning/Portifolio/'\n",
    "    'Olist_Ecommerce_Analysis/data/datasets originais/olist_sellers_dataset.csv'\n",
    ")\n",
    "payments = pd.read_csv(\n",
    "    'C:/Users/ricka/Desktop/Area de Trabalho/Projeto de Estudo Machine '\n",
    "    'Learning/Projetos e Estudos Git - Machine Learning/Portifolio/'\n",
    "    'Olist_Ecommerce_Analysis/data/datasets originais/olist_order_payments_dataset.csv'\n",
    ")\n",
    "geolocation = pd.read_csv(\n",
    "    'C:/Users/ricka/Desktop/Area de Trabalho/Projeto de Estudo Machine '\n",
    "    'Learning/Projetos e Estudos Git - Machine Learning/Portifolio/'\n",
    "    'Olist_Ecommerce_Analysis/data/datasets originais/olist_geolocation_dataset.csv'\n",
    ")"
   ]
  },
  {
   "cell_type": "markdown",
   "id": "781395f6",
   "metadata": {},
   "source": [
    "Verificando o números de linhas e colunas de cada dataset."
   ]
  },
  {
   "cell_type": "code",
   "execution_count": 4,
   "id": "8f4523c6",
   "metadata": {},
   "outputs": [
    {
     "name": "stdout",
     "output_type": "stream",
     "text": [
      "Orders: (99441, 8)\n",
      "Order Items: (112650, 7)\n",
      "Customers: (99441, 5)\n",
      "Products: (32951, 9)\n",
      "Sellers: (3095, 4)\n",
      "Payments: (103886, 5)\n",
      "Geolocation: (1000163, 5)\n"
     ]
    }
   ],
   "source": [
    "print(\"Orders:\", orders.shape)\n",
    "print(\"Order Items:\", order_items.shape)\n",
    "print(\"Customers:\", customers.shape)\n",
    "print(\"Products:\", products.shape)\n",
    "print(\"Sellers:\", sellers.shape)\n",
    "print(\"Payments:\", payments.shape)\n",
    "print(\"Geolocation:\", geolocation.shape)"
   ]
  },
  {
   "cell_type": "code",
   "execution_count": 5,
   "id": "837bc33a",
   "metadata": {
    "lines_to_next_cell": 2
   },
   "outputs": [
    {
     "name": "stdout",
     "output_type": "stream",
     "text": [
      "                           order_id                       customer_id  \\\n",
      "0  e481f51cbdc54678b7cc49136f2d6af7  9ef432eb6251297304e76186b10a928d   \n",
      "1  53cdb2fc8bc7dce0b6741e2150273451  b0830fb4747a6c6d20dea0b8c802d7ef   \n",
      "2  47770eb9100c2d0c44946d9cf07ec65d  41ce2a54c0b03bf3443c3d931a367089   \n",
      "3  949d5b44dbf5de918fe9c16f97b45f8a  f88197465ea7920adcdbec7375364d82   \n",
      "4  ad21c59c0840e6cb83a9ceb5573f8159  8ab97904e6daea8866dbdbc4fb7aad2c   \n",
      "\n",
      "  order_status order_purchase_timestamp    order_approved_at  \\\n",
      "0    delivered      2017-10-02 10:56:33  2017-10-02 11:07:15   \n",
      "1    delivered      2018-07-24 20:41:37  2018-07-26 03:24:27   \n",
      "2    delivered      2018-08-08 08:38:49  2018-08-08 08:55:23   \n",
      "3    delivered      2017-11-18 19:28:06  2017-11-18 19:45:59   \n",
      "4    delivered      2018-02-13 21:18:39  2018-02-13 22:20:29   \n",
      "\n",
      "  order_delivered_carrier_date order_delivered_customer_date  \\\n",
      "0          2017-10-04 19:55:00           2017-10-10 21:25:13   \n",
      "1          2018-07-26 14:31:00           2018-08-07 15:27:45   \n",
      "2          2018-08-08 13:50:00           2018-08-17 18:06:29   \n",
      "3          2017-11-22 13:39:59           2017-12-02 00:28:42   \n",
      "4          2018-02-14 19:46:34           2018-02-16 18:17:02   \n",
      "\n",
      "  order_estimated_delivery_date  \n",
      "0           2017-10-18 00:00:00  \n",
      "1           2018-08-13 00:00:00  \n",
      "2           2018-09-04 00:00:00  \n",
      "3           2017-12-15 00:00:00  \n",
      "4           2018-02-26 00:00:00  \n"
     ]
    }
   ],
   "source": [
    "# ANALISANDO O DATASET \"ORDERS\"\n",
    "pd.set_option(\"display.max_columns\", None)\n",
    "print(orders.head())"
   ]
  },
  {
   "cell_type": "code",
   "execution_count": 6,
   "id": "87d20d22",
   "metadata": {},
   "outputs": [
    {
     "name": "stdout",
     "output_type": "stream",
     "text": [
      "order_id                            0\n",
      "customer_id                         0\n",
      "order_status                        0\n",
      "order_purchase_timestamp            0\n",
      "order_approved_at                 160\n",
      "order_delivered_carrier_date     1783\n",
      "order_delivered_customer_date    2965\n",
      "order_estimated_delivery_date       0\n",
      "dtype: int64\n"
     ]
    }
   ],
   "source": [
    "# Verificando se existem valores nulos.\n",
    "print(orders.isnull().sum())"
   ]
  },
  {
   "cell_type": "code",
   "execution_count": 7,
   "id": "aa7f2f10",
   "metadata": {},
   "outputs": [
    {
     "data": {
      "text/plain": [
       "' Existem dados numéricos nulos na coluna de data de aprovação da ordem,\\nindicando que as ordens não foram aprovadas. A coluna de data de envio também\\npossui dados nulos, indicando que o pedido não foi enviado. E, por fim, na coluna\\ndata de entrega, indicando que o pedido não foi entregue. Contudo, os dados serão\\nmantidos como estão, pois o tipo da coluna será alterado para datetime e os valores\\nnulos serão NaT (Not a time). Isso mantém a coerência dos dados e evita problemas\\ncom operações envolvendo datas.'"
      ]
     },
     "execution_count": 7,
     "metadata": {},
     "output_type": "execute_result"
    }
   ],
   "source": [
    "\"\"\" Existem dados numéricos nulos na coluna de data de aprovação da ordem,\n",
    "indicando que as ordens não foram aprovadas. A coluna de data de envio também\n",
    "possui dados nulos, indicando que o pedido não foi enviado. E, por fim, na coluna\n",
    "data de entrega, indicando que o pedido não foi entregue. Contudo, os dados serão\n",
    "mantidos como estão, pois o tipo da coluna será alterado para datetime e os valores\n",
    "nulos serão NaT (Not a time). Isso mantém a coerência dos dados e evita problemas\n",
    "com operações envolvendo datas.\"\"\""
   ]
  },
  {
   "cell_type": "code",
   "execution_count": 8,
   "id": "acec4206",
   "metadata": {},
   "outputs": [
    {
     "name": "stdout",
     "output_type": "stream",
     "text": [
      "order_id                         object\n",
      "customer_id                      object\n",
      "order_status                     object\n",
      "order_purchase_timestamp         object\n",
      "order_approved_at                object\n",
      "order_delivered_carrier_date     object\n",
      "order_delivered_customer_date    object\n",
      "order_estimated_delivery_date    object\n",
      "dtype: object\n"
     ]
    }
   ],
   "source": [
    "# Verificando o tipo dos dados.\n",
    "print(orders.dtypes)"
   ]
  },
  {
   "cell_type": "code",
   "execution_count": 9,
   "id": "c94f30bd",
   "metadata": {},
   "outputs": [],
   "source": [
    "# Convertendo conlunas de data para datetime\n",
    "date_columns = [\n",
    "    \"order_purchase_timestamp\",\n",
    "    \"order_approved_at\",\n",
    "    \"order_delivered_carrier_date\",\n",
    "    \"order_delivered_customer_date\",\n",
    "    \"order_estimated_delivery_date\"\n",
    "]"
   ]
  },
  {
   "cell_type": "code",
   "execution_count": 10,
   "id": "24ef62e7",
   "metadata": {},
   "outputs": [],
   "source": [
    "for col in date_columns:\n",
    "    orders[col] = pd.to_datetime(orders[col], errors=\"coerce\")"
   ]
  },
  {
   "cell_type": "code",
   "execution_count": 11,
   "id": "1cbcad4d",
   "metadata": {},
   "outputs": [],
   "source": [
    "# Convertendo colunas IDs para string.\n",
    "orders[\"order_id\"] = orders[\"order_id\"].astype(str)\n",
    "orders[\"customer_id\"] = orders[\"customer_id\"].astype(str)"
   ]
  },
  {
   "cell_type": "code",
   "execution_count": 12,
   "id": "a73cf9e7",
   "metadata": {},
   "outputs": [],
   "source": [
    "# Convertendo a coluna \"order status\" para o tipo categoria.\n",
    "orders[\"order_status\"] = orders[\"order_status\"].astype(\"category\")"
   ]
  },
  {
   "cell_type": "code",
   "execution_count": 13,
   "id": "8406a7b1",
   "metadata": {},
   "outputs": [
    {
     "name": "stdout",
     "output_type": "stream",
     "text": [
      "order_id                                 object\n",
      "customer_id                              object\n",
      "order_status                           category\n",
      "order_purchase_timestamp         datetime64[ns]\n",
      "order_approved_at                datetime64[ns]\n",
      "order_delivered_carrier_date     datetime64[ns]\n",
      "order_delivered_customer_date    datetime64[ns]\n",
      "order_estimated_delivery_date    datetime64[ns]\n",
      "dtype: object\n"
     ]
    }
   ],
   "source": [
    "# Verificando se os tipos das variáveis corrigido.\n",
    "print(orders.dtypes)"
   ]
  },
  {
   "cell_type": "markdown",
   "id": "c0850048",
   "metadata": {},
   "source": [
    "ANALISANDO O DATASET \"ORDERS_ITEMS.\""
   ]
  },
  {
   "cell_type": "code",
   "execution_count": 14,
   "id": "6d27e721",
   "metadata": {},
   "outputs": [
    {
     "name": "stdout",
     "output_type": "stream",
     "text": [
      "                           order_id  order_item_id  \\\n",
      "0  00010242fe8c5a6d1ba2dd792cb16214              1   \n",
      "1  00018f77f2f0320c557190d7a144bdd3              1   \n",
      "2  000229ec398224ef6ca0657da4fc703e              1   \n",
      "3  00024acbcdf0a6daa1e931b038114c75              1   \n",
      "4  00042b26cf59d7ce69dfabb4e55b4fd9              1   \n",
      "\n",
      "                         product_id                         seller_id  \\\n",
      "0  4244733e06e7ecb4970a6e2683c13e61  48436dade18ac8b2bce089ec2a041202   \n",
      "1  e5f2d52b802189ee658865ca93d83a8f  dd7ddc04e1b6c2c614352b383efe2d36   \n",
      "2  c777355d18b72b67abbeef9df44fd0fd  5b51032eddd242adc84c38acab88f23d   \n",
      "3  7634da152a4610f1595efa32f14722fc  9d7a1d34a5052409006425275ba1c2b4   \n",
      "4  ac6c3623068f30de03045865e4e10089  df560393f3a51e74553ab94004ba5c87   \n",
      "\n",
      "   shipping_limit_date   price  freight_value  \n",
      "0  2017-09-19 09:45:35   58.90          13.29  \n",
      "1  2017-05-03 11:05:13  239.90          19.93  \n",
      "2  2018-01-18 14:48:30  199.00          17.87  \n",
      "3  2018-08-15 10:10:18   12.99          12.79  \n",
      "4  2017-02-13 13:57:51  199.90          18.14  \n"
     ]
    }
   ],
   "source": [
    "pd.set_option(\"display.max_columns\", None)\n",
    "print(order_items.head())"
   ]
  },
  {
   "cell_type": "code",
   "execution_count": 15,
   "id": "a35f145d",
   "metadata": {},
   "outputs": [
    {
     "name": "stdout",
     "output_type": "stream",
     "text": [
      "order_id               0\n",
      "order_item_id          0\n",
      "product_id             0\n",
      "seller_id              0\n",
      "shipping_limit_date    0\n",
      "price                  0\n",
      "freight_value          0\n",
      "dtype: int64\n"
     ]
    },
    {
     "data": {
      "text/plain": [
       "' Não existem dados nulos.'"
      ]
     },
     "execution_count": 15,
     "metadata": {},
     "output_type": "execute_result"
    }
   ],
   "source": [
    "# Verificando a existência de dados nulos.\n",
    "print(order_items.isnull().sum())\n",
    "\"\"\" Não existem dados nulos.\"\"\""
   ]
  },
  {
   "cell_type": "code",
   "execution_count": 16,
   "id": "1f33d621",
   "metadata": {},
   "outputs": [
    {
     "name": "stdout",
     "output_type": "stream",
     "text": [
      "order_id                object\n",
      "order_item_id            int64\n",
      "product_id              object\n",
      "seller_id               object\n",
      "shipping_limit_date     object\n",
      "price                  float64\n",
      "freight_value          float64\n",
      "dtype: object\n"
     ]
    },
    {
     "data": {
      "text/plain": [
       "' O tipo de dado encontrado que não condiz com o tipo de dado correto\\nda coluna, é o Shipping_limit_date, portanto essa coluna será convertida\\ndo tipo objeto para datetime.'"
      ]
     },
     "execution_count": 16,
     "metadata": {},
     "output_type": "execute_result"
    }
   ],
   "source": [
    "# Verificando o tipo dos dados.\n",
    "print(order_items.dtypes)\n",
    "\"\"\" O tipo de dado encontrado que não condiz com o tipo de dado correto\n",
    "da coluna, é o Shipping_limit_date, portanto essa coluna será convertida\n",
    "do tipo objeto para datetime.\"\"\""
   ]
  },
  {
   "cell_type": "code",
   "execution_count": 17,
   "id": "2c36c1fa",
   "metadata": {},
   "outputs": [],
   "source": [
    "# Convertendo a coluna shipping_limit_date para datetime.\n",
    "order_items[\"shipping_limit_date\"] = pd.to_datetime(\n",
    "    order_items[\"shipping_limit_date\"], errors=\"coerce\")"
   ]
  },
  {
   "cell_type": "code",
   "execution_count": 18,
   "id": "2dc2ddf5",
   "metadata": {},
   "outputs": [
    {
     "name": "stdout",
     "output_type": "stream",
     "text": [
      "order_id                       object\n",
      "order_item_id                   int64\n",
      "product_id                     object\n",
      "seller_id                      object\n",
      "shipping_limit_date    datetime64[ns]\n",
      "price                         float64\n",
      "freight_value                 float64\n",
      "dtype: object\n"
     ]
    }
   ],
   "source": [
    "# Verificando se o tipo de dado foi alterado.\n",
    "print(order_items.dtypes)"
   ]
  },
  {
   "cell_type": "markdown",
   "id": "e9915cb7",
   "metadata": {},
   "source": [
    "ANALISANDO O DATASET \"CUSTOMERS\"."
   ]
  },
  {
   "cell_type": "code",
   "execution_count": null,
   "id": "4486107e",
   "metadata": {},
   "outputs": [],
   "source": [
    "pd.set_option(\"display.max_columns\", None)\n",
    "print(customers.head())"
   ]
  },
  {
   "cell_type": "code",
   "execution_count": null,
   "id": "505a2f91",
   "metadata": {},
   "outputs": [],
   "source": [
    "# Verificando a existência de dados nulos.\n",
    "print(customers.isnull().sum())\n",
    "\"\"\" Não existem dados nulos.\"\"\""
   ]
  },
  {
   "cell_type": "code",
   "execution_count": null,
   "id": "ad12c8ab",
   "metadata": {},
   "outputs": [],
   "source": [
    "# Verificando o tipo de dados de cada coluna.\n",
    "print(customers.dtypes)\n",
    "\"\"\" Os tipos de dados estão corretos.\"\"\""
   ]
  },
  {
   "cell_type": "markdown",
   "id": "6c3326f1",
   "metadata": {},
   "source": [
    "ANALISANDO O DATASET \"PRODUCTS\"."
   ]
  },
  {
   "cell_type": "code",
   "execution_count": null,
   "id": "115bf822",
   "metadata": {},
   "outputs": [],
   "source": [
    "pd.set_option(\"display.max_columns\", None)\n",
    "print(products.head())"
   ]
  },
  {
   "cell_type": "code",
   "execution_count": null,
   "id": "537622f4",
   "metadata": {},
   "outputs": [],
   "source": [
    "# Verificando a existência de dados nulos.\n",
    "print(products.isnull().sum())\n",
    "\"\"\" Foram encontrados dados nulos no nome da categoria do produto,\n",
    "o que será preenchido por \"Desconhecido\". Dados nulos também foram\n",
    "encontrados nas colunas: comprimento do nome do produto, comprimento\n",
    "da descrição e quantidade de fotos, os dados serão preenchidos com a\n",
    "mediana para evitar distorções causadas por valores extremos. Por fim,\n",
    "fora encontrados dois dados nulos na colunas: peso, comprimento, altura\n",
    "e largura, todos os dados também serão preenchidos com a mediana.\n",
    "\"\"\"\n",
    "# Verificando o tipo de dados de cada coluna.\n",
    "print(products.dtypes)\n",
    "\"\"\" Os tipos de dados estão corretos.\"\"\""
   ]
  },
  {
   "cell_type": "code",
   "execution_count": null,
   "id": "5f0aa69c",
   "metadata": {},
   "outputs": [],
   "source": [
    "# Tratando os dados nulos.\n",
    "products[\"product_category_name\"].fillna(\"Desconhecido\", inplace=True)\n",
    "num_cols = [\n",
    "    \"product_name_lenght\", \"product_description_lenght\",\n",
    "    \"product_photos_qty\", \"product_weight_g\", \"product_length_cm\",\n",
    "    \"product_height_cm\", \"product_width_cm\"\n",
    "]\n",
    "for col in num_cols:\n",
    "    products[col].fillna(products[col].median(), inplace=True)"
   ]
  },
  {
   "cell_type": "code",
   "execution_count": null,
   "id": "c822ca3d",
   "metadata": {},
   "outputs": [],
   "source": [
    "# Verificando se os dados nulos foram tratados.\n",
    "print(products.isnull().sum())\n",
    "\"\"\" Os dados foram tratados.\"\"\""
   ]
  },
  {
   "cell_type": "markdown",
   "id": "9719f86f",
   "metadata": {},
   "source": [
    "ANALISANDO O DATASET \"SELLERS\"."
   ]
  },
  {
   "cell_type": "code",
   "execution_count": null,
   "id": "292b3472",
   "metadata": {},
   "outputs": [],
   "source": [
    "pd.set_option(\"display.max_columns\", None)\n",
    "print(sellers.head())"
   ]
  },
  {
   "cell_type": "code",
   "execution_count": null,
   "id": "ce95c437",
   "metadata": {},
   "outputs": [],
   "source": [
    "# Verificando a existência de dados nulos.\n",
    "print(sellers.isnull().sum())\n",
    "\"\"\"O dataset não possui dados nulos.\"\"\""
   ]
  },
  {
   "cell_type": "code",
   "execution_count": null,
   "id": "3ba6a852",
   "metadata": {},
   "outputs": [],
   "source": [
    "# Verificando o tipo de dados de cada coluna.\n",
    "print(sellers.dtypes)\n",
    "\"\"\" Os tipos de dados estão corretos.\"\"\""
   ]
  },
  {
   "cell_type": "markdown",
   "id": "91232d14",
   "metadata": {},
   "source": [
    "ANALISANDO O DATASET \"PAYMENTS\"."
   ]
  },
  {
   "cell_type": "code",
   "execution_count": null,
   "id": "04ffd7c8",
   "metadata": {},
   "outputs": [],
   "source": [
    "pd.set_option(\"display.max_columns\", None)\n",
    "print(payments.head())"
   ]
  },
  {
   "cell_type": "code",
   "execution_count": null,
   "id": "38552ecd",
   "metadata": {},
   "outputs": [],
   "source": [
    "# Analisando a presença de dados nulos.\n",
    "print(payments.isnull().sum())\n",
    "\"\"\" O dataset não possui dados nulos. \"\"\""
   ]
  },
  {
   "cell_type": "code",
   "execution_count": null,
   "id": "04c36031",
   "metadata": {},
   "outputs": [],
   "source": [
    "# Analisando os tipos de dados de cada coluna.\n",
    "print(payments.dtypes)"
   ]
  },
  {
   "cell_type": "code",
   "execution_count": null,
   "id": "510a08a4",
   "metadata": {},
   "outputs": [],
   "source": [
    "# Alterando o tipo de dados da coluna payment_type para categoria.\n",
    "print(payments[\"payment_type\"].unique())\n",
    "payments[\"payment_type\"] = payments[\"payment_type\"].astype(\"category\")"
   ]
  },
  {
   "cell_type": "code",
   "execution_count": null,
   "id": "8189906c",
   "metadata": {},
   "outputs": [],
   "source": [
    "# Verificando se o tipo da coluna foi alterado.\n",
    "print(payments[\"payment_type\"].dtypes)\n",
    "\"\"\" O tipo de dado foi alterado. \"\"\""
   ]
  },
  {
   "cell_type": "markdown",
   "id": "3fbdb255",
   "metadata": {},
   "source": [
    "ANALISANDO O DATASET \"GEOLOCATION\"."
   ]
  },
  {
   "cell_type": "code",
   "execution_count": null,
   "id": "267f4dfb",
   "metadata": {},
   "outputs": [],
   "source": [
    "pd.set_option(\"display.max_columns\", None)\n",
    "print(geolocation.head())"
   ]
  },
  {
   "cell_type": "code",
   "execution_count": null,
   "id": "b08af24b",
   "metadata": {},
   "outputs": [],
   "source": [
    "# Verificando a existencia de dados nulos.\n",
    "print(geolocation.isnull().sum())\n",
    "\"\"\" O dataset não possui dados nulos. \"\"\""
   ]
  },
  {
   "cell_type": "code",
   "execution_count": null,
   "id": "c6d163ba",
   "metadata": {},
   "outputs": [],
   "source": [
    "# Verificando se os tipos de dados estão corretos.\n",
    "print(geolocation.dtypes)\n",
    "\"\"\" Os tipos de dados estão corretos. \"\"\""
   ]
  },
  {
   "cell_type": "markdown",
   "id": "2e857e93",
   "metadata": {},
   "source": [
    "ANALISE EXPLORATÓRIA DOS DADOS COM VISUALIZAÇÕES."
   ]
  },
  {
   "cell_type": "code",
   "execution_count": 19,
   "id": "d06f1e50",
   "metadata": {},
   "outputs": [
    {
     "data": {
      "image/png": "[encoded data removed]",
      "text/plain": [
       "<Figure size 1000x500 with 1 Axes>"
      ]
     },
     "metadata": {},
     "output_type": "display_data"
    },
    {
     "data": {
      "text/plain": [
       "' A grande maioria dos pedidos foram entregues, indicando que o sistema de\\nentrega dos pedidos está funcionando bem. '"
      ]
     },
     "execution_count": 19,
     "metadata": {},
     "output_type": "execute_result"
    }
   ],
   "source": [
    "# Contagem de pedidos por status.\n",
    "plt.figure(figsize=(10, 5))\n",
    "ax = sns.countplot(data=orders, x=\"order_status\", order=orders[\n",
    "    \"order_status\"].value_counts().index, palette=\"pastel\")\n",
    "plt.xticks(rotation=45)\n",
    "plt.yscale(\"log\")\n",
    "plt.title(\"Distribuição dos Status dos Pedidos\")\n",
    "plt.xlabel(\"Status do pedido\")\n",
    "plt.ylabel(\"Quantidade\")\n",
    "for p in ax.patches:\n",
    "    ax.annotate(\n",
    "        f\"{int(p.get_height())}\",\n",
    "        (p.get_x() + p.get_width() / 2, p.get_height()),\n",
    "        ha=\"center\",\n",
    "        va=\"bottom\",\n",
    "        fontsize=10,\n",
    "        color=\"black\"\n",
    "    )\n",
    "plt.show()\n",
    "\"\"\" A grande maioria dos pedidos foram entregues, indicando que o sistema de\n",
    "entrega dos pedidos está funcionando bem. \"\"\""
   ]
  },
  {
   "cell_type": "markdown",
   "id": "13013a33",
   "metadata": {},
   "source": [
    "Análise dos pedidos ao longo do tempo."
   ]
  },
  {
   "cell_type": "code",
   "execution_count": 20,
   "id": "3ecf91a1",
   "metadata": {},
   "outputs": [
    {
     "data": {
      "image/png": "[encoded data removed]",
      "text/plain": [
       "<Figure size 1200x600 with 1 Axes>"
      ]
     },
     "metadata": {},
     "output_type": "display_data"
    }
   ],
   "source": [
    "orders[\"order_purchase_month\"] = orders[\"order_purchase_timestamp\"].dt.to_period(\n",
    "    \"M\")\n",
    "monthly_orders = orders.groupby(\"order_purchase_month\")[\"order_id\"].count()\n",
    "plt.figure(figsize=(12, 6))\n",
    "plt.plot(monthly_orders.index.astype(\n",
    "    str), monthly_orders.values, marker='o', linestyle=\"-\", color=\"royalblue\")\n",
    "plt.title(\"Evolução dos pedidos ao Longo do tempo\")\n",
    "plt.xlabel(\"Mês\")\n",
    "plt.ylabel(\"Quantidade de Pedidos\")\n",
    "plt.xticks(rotation=45)\n",
    "plt.grid(True)\n",
    "plt.show()"
   ]
  },
  {
   "cell_type": "code",
   "execution_count": null,
   "id": "e5f82fee",
   "metadata": {},
   "outputs": [],
   "source": [
    "\"\"\" Os pedidos tiveram uma tendência de crescimento entre dezembro de 2016 até \n",
    "novembro de 2017, seguido de um perído de estabilização entre dezembro de 2017 até\n",
    "agosto de 2018. Contudo, houve uma queda acentuada do número de pedidos de Agosto a \n",
    "Outubro, por isso é preciso checar se existem dados referente aos últimos meses\n",
    "ou se os dados simplesmente acabaram.\"\"\""
   ]
  },
  {
   "cell_type": "code",
   "execution_count": 21,
   "id": "df106c42",
   "metadata": {},
   "outputs": [
    {
     "name": "stdout",
     "output_type": "stream",
     "text": [
      "order_purchase_month\n",
      "2017-11    7544\n",
      "2017-12    5673\n",
      "2018-01    7269\n",
      "2018-02    6728\n",
      "2018-03    7211\n",
      "2018-04    6939\n",
      "2018-05    6873\n",
      "2018-06    6167\n",
      "2018-07    6292\n",
      "2018-08    6512\n",
      "2018-09      16\n",
      "2018-10       4\n",
      "Freq: M, Name: order_id, dtype: int64\n"
     ]
    },
    {
     "data": {
      "text/plain": [
       "' Houveram pedidos nos últimos meses.'"
      ]
     },
     "execution_count": 21,
     "metadata": {},
     "output_type": "execute_result"
    }
   ],
   "source": [
    "# Verificando se existem informações de pedidos nos últimos meses.\n",
    "print(monthly_orders.tail(12))  # Últimos 12 meses disponíveis\n",
    "\"\"\" Houveram pedidos nos últimos meses.\"\"\""
   ]
  },
  {
   "cell_type": "code",
   "execution_count": 22,
   "id": "6061fd77",
   "metadata": {},
   "outputs": [
    {
     "name": "stdout",
     "output_type": "stream",
     "text": [
      "                               order_id                       customer_id  \\\n",
      "60938  10a045cdf6a5650c21e9cfeb60384c16  a4b417188addbc05b26b72d5e44837a1   \n",
      "68373  b059ee4de278302d550a3035c4cdb740  856336203359aa6a61bf3826f7d84c49   \n",
      "31891  a2ac6dad85cf8af5b0afb510a240fe8c  4c2ec60c29d10c34bd49cb88aa85cfc4   \n",
      "88500  616fa7d4871b87832197b2a137a115d2  bf6181a85bbb4115736c0a8db1a53be3   \n",
      "50387  392ed9afd714e3c74767d0c4d3e3f477  2823ffda607a2316375088e0d00005ec   \n",
      "37003  869997fbe01f39d184956b5c6bccfdbe  55c9dad94ec1a2ba57998bdb376c230a   \n",
      "33979  5aac76cf7b07dd06fa4d50bf461d2f40  7a8a02e54cf3472df427e927f8b9c046   \n",
      "1801   ed3efbd3a87bea76c2812c66a0b32219  191984a8ba4cbb2145acb4fe35b69664   \n",
      "16366  bd35b677fd239386e9861d11ae98ab56  ad2eb5d02c0808bcd8743117f6383cf6   \n",
      "5149   ea844c92cf978ea23321fa7fe5871761  6ddc45ad08e6a2c885ca2255fc52d6df   \n",
      "\n",
      "      order_status order_purchase_timestamp order_approved_at  \\\n",
      "60938     canceled      2018-10-17 17:30:18               NaT   \n",
      "68373     canceled      2018-10-16 20:16:02               NaT   \n",
      "31891     canceled      2018-10-03 18:55:29               NaT   \n",
      "88500     canceled      2018-10-01 15:30:09               NaT   \n",
      "50387     canceled      2018-09-29 09:13:03               NaT   \n",
      "37003     canceled      2018-09-26 08:40:15               NaT   \n",
      "33979     canceled      2018-09-25 11:59:18               NaT   \n",
      "1801      canceled      2018-09-20 13:54:16               NaT   \n",
      "16366     canceled      2018-09-17 17:21:16               NaT   \n",
      "5149      canceled      2018-09-13 09:56:12               NaT   \n",
      "\n",
      "      order_delivered_carrier_date order_delivered_customer_date  \\\n",
      "60938                          NaT                           NaT   \n",
      "68373                          NaT                           NaT   \n",
      "31891                          NaT                           NaT   \n",
      "88500                          NaT                           NaT   \n",
      "50387                          NaT                           NaT   \n",
      "37003                          NaT                           NaT   \n",
      "33979                          NaT                           NaT   \n",
      "1801                           NaT                           NaT   \n",
      "16366                          NaT                           NaT   \n",
      "5149                           NaT                           NaT   \n",
      "\n",
      "      order_estimated_delivery_date order_purchase_month  \n",
      "60938                    2018-10-30              2018-10  \n",
      "68373                    2018-11-12              2018-10  \n",
      "31891                    2018-10-16              2018-10  \n",
      "88500                    2018-10-23              2018-10  \n",
      "50387                    2018-10-15              2018-09  \n",
      "37003                    2018-10-25              2018-09  \n",
      "33979                    2018-10-11              2018-09  \n",
      "1801                     2018-10-17              2018-09  \n",
      "16366                    2018-10-01              2018-09  \n",
      "5149                     2018-09-27              2018-09  \n"
     ]
    }
   ],
   "source": [
    "# Verificando os últimos 10 pedidos.\n",
    "pd.set_option(\"display.max_columns\", None)\n",
    "print(orders.sort_values(by=\"order_purchase_timestamp\", ascending=False).head(10))"
   ]
  },
  {
   "cell_type": "code",
   "execution_count": null,
   "id": "a44bdae7",
   "metadata": {},
   "outputs": [],
   "source": [
    "\"\"\" Todos os últimos 10 pedidos foram cancelados, indicando que houve algum grave problema\n",
    "nos últimos meses, ainda não é possível identificar a razão e o motivo dos\n",
    "cancelamentos e da queda tão acentuada no número de pedidos. \"\"\""
   ]
  },
  {
   "cell_type": "markdown",
   "id": "96a46236",
   "metadata": {},
   "source": [
    "Analisando o tempo de entrega dos pedidos."
   ]
  },
  {
   "cell_type": "code",
   "execution_count": 23,
   "id": "1c3a8029",
   "metadata": {},
   "outputs": [],
   "source": [
    "# Criando coluna de tempo de entrega em dias.\n",
    "orders[\"delivery_time\"] = (\n",
    "    orders[\"order_delivered_customer_date\"] - orders[\"order_purchase_timestamp\"]).dt.days"
   ]
  },
  {
   "cell_type": "code",
   "execution_count": 24,
   "id": "76a3a8f2",
   "metadata": {},
   "outputs": [
    {
     "name": "stdout",
     "output_type": "stream",
     "text": [
      "count    96476.000000\n",
      "mean        12.094086\n",
      "std          9.551746\n",
      "min          0.000000\n",
      "25%          6.000000\n",
      "50%         10.000000\n",
      "75%         15.000000\n",
      "max        209.000000\n",
      "Name: delivery_time, dtype: float64\n"
     ]
    }
   ],
   "source": [
    "# Análise do tempo de entrega.\n",
    "print(orders[\"delivery_time\"].describe())"
   ]
  },
  {
   "cell_type": "code",
   "execution_count": 25,
   "id": "5890fac7",
   "metadata": {},
   "outputs": [
    {
     "data": {
      "image/png": "[encoded data removed]",
      "text/plain": [
       "<Figure size 800x500 with 1 Axes>"
      ]
     },
     "metadata": {},
     "output_type": "display_data"
    }
   ],
   "source": [
    "plt.figure(figsize=(8, 5))\n",
    "sns.histplot(orders[\"delivery_time\"].dropna(), bins=20, kde=True, color=\"blue\")\n",
    "plt.title(\"Distribuição do Tempo de Entrega\")\n",
    "plt.xlabel(\"Dias\")\n",
    "plt.ylabel(\"frequência\")\n",
    "plt.show()"
   ]
  },
  {
   "cell_type": "code",
   "execution_count": null,
   "id": "3a2658cf",
   "metadata": {},
   "outputs": [],
   "source": [
    "\"\"\" O gráfico indica que o tempo de entrega se concentra entre 10 e 20 dias, é importante\n",
    "analisar se o tempo médio de entrega aumentou nos últimos meses, podendo ser uma\n",
    "possível razão para a queda acentuada de pedidos nos últimos meses. \"\"\""
   ]
  },
  {
   "cell_type": "markdown",
   "id": "cf4c30d6",
   "metadata": {},
   "source": [
    "Analisando o tempo médio de entrega ao longo dos meses."
   ]
  },
  {
   "cell_type": "code",
   "execution_count": null,
   "id": "e5a0725c",
   "metadata": {},
   "outputs": [],
   "source": [
    "# Criando uma nova coluna com o mês de compra\n",
    "orders[\"order_purchase_month\"] = orders[\"order_purchase_timestamp\"].dt.to_period(\n",
    "    \"M\")"
   ]
  },
  {
   "cell_type": "code",
   "execution_count": null,
   "id": "113a1d96",
   "metadata": {},
   "outputs": [],
   "source": [
    "# Calculando o tempo médio de entrega por mês\n",
    "monthly_delivery_time = orders.groupby(\"order_purchase_month\")[\n",
    "    \"delivery_time\"].mean()"
   ]
  },
  {
   "cell_type": "code",
   "execution_count": null,
   "id": "dad8bf09",
   "metadata": {},
   "outputs": [],
   "source": [
    "# Plotando o gráfico\n",
    "plt.figure(figsize=(12, 5))\n",
    "plt.plot(monthly_delivery_time.index.astype(\n",
    "    str), monthly_delivery_time.values, marker='o', linestyle=\"-\", color=\"purple\")\n",
    "plt.xticks(rotation=45)\n",
    "plt.title(\"Tempo Médio de Entrega ao Longo dos Meses\")\n",
    "plt.xlabel(\"Mês\")\n",
    "plt.ylabel(\"Tempo Médio de Entrega (dias)\")\n",
    "plt.grid(True)\n",
    "plt.show()"
   ]
  },
  {
   "cell_type": "code",
   "execution_count": null,
   "id": "dcc47a8b",
   "metadata": {},
   "outputs": [],
   "source": [
    "\"\"\" O tempo médio de entregas era alto no início, mas abaixou consideravelmente a partir\n",
    "do 3 mês. O tempo médio teve baixa oscilação ao longo dos meses posteriores, com uma ligeira\n",
    "queda nos últimos 3 meses. Portanto, não se pode atribuir a queda no número de pedidos ao\n",
    "tempo de entrega dos produtos. \"\"\""
   ]
  },
  {
   "cell_type": "code",
   "execution_count": null,
   "id": "f367a509",
   "metadata": {},
   "outputs": [],
   "source": [
    "# Verificando a proporção de cancelamentos ao longo dos meses.\n",
    "orders.groupby(\"order_purchase_month\")[\"order_status\"].value_counts(\n",
    "    normalize=True).unstack()[\"canceled\"].plot(kind=\"line\", figsize=(12, 5))\n",
    "plt.title(\"Proporção de Pedidos Cancelados por Mês\")\n",
    "plt.xlabel(\"Mês\")\n",
    "plt.ylabel(\"Cancelamentos (%)\")\n",
    "plt.show()"
   ]
  },
  {
   "cell_type": "code",
   "execution_count": null,
   "id": "da62b1eb",
   "metadata": {},
   "outputs": [],
   "source": [
    "\"\"\" O gráfico indicou que a proporção de pedidos cancelados aumentaram cerca de 90% \n",
    "nos últimos meses. É necessário, portanto, aprofundar com consultas em SQL para \n",
    "insights mais detalhados.\"\"\""
   ]
  },
  {
   "cell_type": "markdown",
   "id": "8e323105",
   "metadata": {},
   "source": [
    "Enviando os arquivos pro SQL server."
   ]
  },
  {
   "cell_type": "code",
   "execution_count": null,
   "id": "d171129c",
   "metadata": {},
   "outputs": [],
   "source": [
    "orders[\"order_purchase_month\"] = orders[\"order_purchase_month\"].astype(str)"
   ]
  },
  {
   "cell_type": "code",
   "execution_count": null,
   "id": "2418096e",
   "metadata": {},
   "outputs": [],
   "source": [
    "# Configuração da conexão\n",
    "server = \"SEU_SERVIDOR\"  # Exemplo: \"localhost\\SQLEXPRESS\" ou \"192.168.1.100\"\n",
    "database = \"SEU_BANCO\"    # Exemplo: \"OlistDB\"\n",
    "username = \"SEU_USUARIO\"   # Se usar autenticação do Windows, pode não precisar\n",
    "password = \"SUA_SENHA\"       # Se houver senha, coloque aqui"
   ]
  },
  {
   "cell_type": "code",
   "execution_count": null,
   "id": "c88a2eba",
   "metadata": {},
   "outputs": [],
   "source": [
    "# Criar a conexão usando SQLAlchemy\n",
    "engine = create_engine(\n",
    "    f\"mssql+pyodbc://{username}:{password}@{server}/{database}?driver=ODBC+Driver+17+for+SQL+Server\")"
   ]
  },
  {
   "cell_type": "code",
   "execution_count": null,
   "id": "8cd0aeb3",
   "metadata": {},
   "outputs": [],
   "source": [
    "# Lista de tabelas tratadas para enviar ao SQL\n",
    "datasets = {\n",
    "    \"orders\": orders,\n",
    "    \"order_items\": order_items,\n",
    "    \"customers\": customers,\n",
    "    \"products\": products,\n",
    "    \"sellers\": sellers,\n",
    "    \"payments\": payments,\n",
    "    \"geolocation\": geolocation\n",
    "}"
   ]
  },
  {
   "cell_type": "code",
   "execution_count": null,
   "id": "aa0d73fa",
   "metadata": {},
   "outputs": [],
   "source": [
    "executar_envio = False\n",
    "# Alterar \"executar_envio para \"True\" se desejar enviar as tabelas para o SQL server."
   ]
  },
  {
   "cell_type": "code",
   "execution_count": null,
   "id": "1f5d30ae",
   "metadata": {},
   "outputs": [],
   "source": [
    "if executar_envio:\n",
    "    # Enviar os DataFrames para o SQL Server\n",
    "    for nome, df in datasets.items():\n",
    "        if not df.empty:  # Verifica se o DataFrame não está vazio\n",
    "            df.to_sql(nome, con=engine, if_exists=\"append\", index=False)\n",
    "            print(f\"✅ {nome} carregado com sucesso no SQL Server!\")\n",
    "        else:\n",
    "            print(f\"⚠ Atenção: {nome} está vazio e não será carregado!\")"
   ]
  }
 ],
 "metadata": {
  "jupytext": {
   "cell_metadata_filter": "-all",
   "main_language": "python",
   "notebook_metadata_filter": "-all"
  },
  "kernelspec": {
   "display_name": "base",
   "language": "python",
   "name": "python3"
  },
  "language_info": {
   "codemirror_mode": {
    "name": "ipython",
    "version": 3
   },
   "file_extension": ".py",
   "mimetype": "text/x-python",
   "name": "python",
   "nbconvert_exporter": "python",
   "pygments_lexer": "ipython3",
   "version": "3.11.3"
  }
 },
 "nbformat": 4,
 "nbformat_minor": 5
}
