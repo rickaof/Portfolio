{
 "cells": [
  {
   "cell_type": "markdown",
   "id": "bfd4992e",
   "metadata": {},
   "source": [
    "# Exploratory Data Analysis"
   ]
  },
  {
   "cell_type": "markdown",
   "id": "a5dd11f1",
   "metadata": {},
   "source": [
    "The focus of this analysis is to explore and analyze the delivery delays of orders in a Brazilian e-commerce marketplace. We will identify patterns related to late deliveries, look for factors that could influence delays."
   ]
  },
  {
   "cell_type": "markdown",
   "id": "e2325bd0",
   "metadata": {},
   "source": [
    "#### Data Loading\n"
   ]
  },
  {
   "cell_type": "code",
   "execution_count": 3,
   "id": "f869d73a",
   "metadata": {},
   "outputs": [],
   "source": [
    "# importing required libraries\n",
    "import pandas as pd\n",
    "import numpy as np\n",
    "import matplotlib.pyplot as plt\n",
    "import seaborn as sns"
   ]
  },
  {
   "cell_type": "code",
   "execution_count": 4,
   "id": "0a219d4e",
   "metadata": {},
   "outputs": [
    {
     "name": "stdout",
     "output_type": "stream",
     "text": [
      "'orders.csv' loaded suceccessfully\n",
      "(92909, 10)\n"
     ]
    }
   ],
   "source": [
    "# loading the processed data\n",
    "import os\n",
    "\n",
    "current_dir = os.getcwd()\n",
    "processed_path = os.path.abspath(os.path.join(current_dir, \"..\", \"data\", \"processed\"))\n",
    "\n",
    "# Loading the main dataset\n",
    "orders = pd.read_csv(os.path.join(processed_path, \"orders.csv\"))\n",
    "print(\"'orders.csv' loaded suceccessfully\")\n",
    "print(orders.shape)"
   ]
  },
  {
   "cell_type": "markdown",
   "id": "da8e3603",
   "metadata": {},
   "source": [
    "#### Initial Data Overview and type checking"
   ]
  },
  {
   "cell_type": "markdown",
   "id": "fb3afd92",
   "metadata": {},
   "source": [
    "Before diving into deeper analysis, it's essential to explore the structure of the dataset. Looking for aspects that helps guide decisions in the Exploratory Data Analysis (EDA) process."
   ]
  },
  {
   "cell_type": "code",
   "execution_count": 5,
   "id": "48d59a5d",
   "metadata": {},
   "outputs": [
    {
     "name": "stdout",
     "output_type": "stream",
     "text": [
      "<class 'pandas.core.frame.DataFrame'>\n",
      "RangeIndex: 92909 entries, 0 to 92908\n",
      "Data columns (total 10 columns):\n",
      " #   Column                         Non-Null Count  Dtype  \n",
      "---  ------                         --------------  -----  \n",
      " 0   order_id                       92909 non-null  object \n",
      " 1   customer_id                    92909 non-null  object \n",
      " 2   order_status                   92909 non-null  object \n",
      " 3   order_purchase_timestamp       92909 non-null  object \n",
      " 4   order_approved_at              92821 non-null  object \n",
      " 5   order_delivered_carrier_date   91259 non-null  object \n",
      " 6   order_delivered_customer_date  90125 non-null  object \n",
      " 7   order_estimated_delivery_date  92909 non-null  object \n",
      " 8   order_purchase_month           92909 non-null  object \n",
      " 9   delivery_time                  90125 non-null  float64\n",
      "dtypes: float64(1), object(9)\n",
      "memory usage: 7.1+ MB\n"
     ]
    }
   ],
   "source": [
    "# Check general info about the dataset\n",
    "orders.info()"
   ]
  },
  {
   "cell_type": "code",
   "execution_count": 8,
   "id": "62199ffb",
   "metadata": {},
   "outputs": [
    {
     "name": "stdout",
     "output_type": "stream",
     "text": [
      "<class 'pandas.core.frame.DataFrame'>\n",
      "RangeIndex: 92909 entries, 0 to 92908\n",
      "Data columns (total 10 columns):\n",
      " #   Column                         Non-Null Count  Dtype         \n",
      "---  ------                         --------------  -----         \n",
      " 0   order_id                       92909 non-null  object        \n",
      " 1   customer_id                    92909 non-null  object        \n",
      " 2   order_status                   92909 non-null  category      \n",
      " 3   order_purchase_timestamp       92909 non-null  datetime64[ns]\n",
      " 4   order_approved_at              92821 non-null  datetime64[ns]\n",
      " 5   order_delivered_carrier_date   91259 non-null  datetime64[ns]\n",
      " 6   order_delivered_customer_date  90125 non-null  datetime64[ns]\n",
      " 7   order_estimated_delivery_date  92909 non-null  datetime64[ns]\n",
      " 8   order_purchase_month           92909 non-null  object        \n",
      " 9   delivery_time                  90125 non-null  float64       \n",
      "dtypes: category(1), datetime64[ns](5), float64(1), object(3)\n",
      "memory usage: 6.5+ MB\n"
     ]
    }
   ],
   "source": [
    "# Converting date columns from object to datetime.\n",
    "date_columns = [\n",
    "    \"order_purchase_timestamp\",\n",
    "    \"order_approved_at\",\n",
    "    \"order_delivered_carrier_date\",\n",
    "    \"order_delivered_customer_date\",\n",
    "    \"order_estimated_delivery_date\"\n",
    "]\n",
    "\n",
    "for col in date_columns:\n",
    "    orders[col] = pd.to_datetime(orders[col])\n",
    "\n",
    "# Converting \"order status\" column from object to category\n",
    "orders[\"order_status\"] = orders[\"order_status\"].astype(\"category\")\n",
    "\n",
    "# Checking\n",
    "orders.info()"
   ]
  },
  {
   "cell_type": "code",
   "execution_count": 11,
   "id": "a33cf4bc",
   "metadata": {},
   "outputs": [
    {
     "data": {
      "text/html": [
       "<div>\n",
       "<style scoped>\n",
       "    .dataframe tbody tr th:only-of-type {\n",
       "        vertical-align: middle;\n",
       "    }\n",
       "\n",
       "    .dataframe tbody tr th {\n",
       "        vertical-align: top;\n",
       "    }\n",
       "\n",
       "    .dataframe thead th {\n",
       "        text-align: right;\n",
       "    }\n",
       "</style>\n",
       "<table border=\"1\" class=\"dataframe\">\n",
       "  <thead>\n",
       "    <tr style=\"text-align: right;\">\n",
       "      <th></th>\n",
       "      <th>delivery_time</th>\n",
       "    </tr>\n",
       "  </thead>\n",
       "  <tbody>\n",
       "    <tr>\n",
       "      <th>count</th>\n",
       "      <td>90125.000000</td>\n",
       "    </tr>\n",
       "    <tr>\n",
       "      <th>mean</th>\n",
       "      <td>12.432877</td>\n",
       "    </tr>\n",
       "    <tr>\n",
       "      <th>std</th>\n",
       "      <td>9.725835</td>\n",
       "    </tr>\n",
       "    <tr>\n",
       "      <th>min</th>\n",
       "      <td>0.000000</td>\n",
       "    </tr>\n",
       "    <tr>\n",
       "      <th>25%</th>\n",
       "      <td>6.000000</td>\n",
       "    </tr>\n",
       "    <tr>\n",
       "      <th>50%</th>\n",
       "      <td>10.000000</td>\n",
       "    </tr>\n",
       "    <tr>\n",
       "      <th>75%</th>\n",
       "      <td>16.000000</td>\n",
       "    </tr>\n",
       "    <tr>\n",
       "      <th>max</th>\n",
       "      <td>209.000000</td>\n",
       "    </tr>\n",
       "  </tbody>\n",
       "</table>\n",
       "</div>"
      ],
      "text/plain": [
       "       delivery_time\n",
       "count   90125.000000\n",
       "mean       12.432877\n",
       "std         9.725835\n",
       "min         0.000000\n",
       "25%         6.000000\n",
       "50%        10.000000\n",
       "75%        16.000000\n",
       "max       209.000000"
      ]
     },
     "execution_count": 11,
     "metadata": {},
     "output_type": "execute_result"
    }
   ],
   "source": [
    "# Display summary satitstics for numeric columns\n",
    "orders.describe()\n"
   ]
  },
  {
   "cell_type": "markdown",
   "id": "7eb581ad",
   "metadata": {},
   "source": [
    "#### Target Variable: Late Delivery"
   ]
  },
  {
   "cell_type": "markdown",
   "id": "85cc0b06",
   "metadata": {},
   "source": [
    "To predict whether an order will be delivered late, we compare the estimated delivery date with the actual delivery late. If the actual delivery occurred after the estimated date, the order is considered late."
   ]
  },
  {
   "cell_type": "markdown",
   "id": "d7572281",
   "metadata": {},
   "source": [
    "A new column called 'is_late' will be created with binary values:\n",
    "\n",
    "- 1: order was delivered late\n",
    "- 0: order was delivered on time or earlier"
   ]
  },
  {
   "cell_type": "code",
   "execution_count": 13,
   "id": "fb580b38",
   "metadata": {},
   "outputs": [
    {
     "data": {
      "text/plain": [
       "0    0.92286\n",
       "1    0.07714\n",
       "Name: is_late, dtype: float64"
      ]
     },
     "execution_count": 13,
     "metadata": {},
     "output_type": "execute_result"
    }
   ],
   "source": [
    "# Create a new column to flag late deliveries\n",
    "orders[\"is_late\"] = (\n",
    "    orders[\"order_delivered_customer_date\"] > orders[\"order_estimated_delivery_date\"]\n",
    ").astype(int)\n",
    "\n",
    "# Checking the distribution of the target variable\n",
    "orders[\"is_late\"].value_counts(normalize=True)"
   ]
  },
  {
   "cell_type": "markdown",
   "id": "887c88db",
   "metadata": {},
   "source": [
    "### Late Deliveries"
   ]
  },
  {
   "cell_type": "markdown",
   "id": "8e99ae6e",
   "metadata": {},
   "source": [
    "#### Late Deliveries Over time\n",
    "This chart shows the proportion of late deliveries by purchase month. It helps identify trends or periods with unusual delays."
   ]
  },
  {
   "cell_type": "code",
   "execution_count": 20,
   "id": "42ab98f0",
   "metadata": {},
   "outputs": [
    {
     "data": {
      "text/plain": [
       "pandas.core.series.Series"
      ]
     },
     "execution_count": 20,
     "metadata": {},
     "output_type": "execute_result"
    }
   ],
   "source": [
    "# calculate monthly late delivery rate\n",
    "late_by_month = orders.groupby(\"order_purchase_month\")[\"is_late\"].mean()\n",
    "type(late_by_month)"
   ]
  },
  {
   "cell_type": "code",
   "execution_count": 21,
   "id": "74004d3a",
   "metadata": {},
   "outputs": [
    {
     "data": {
      "image/png": "[encoded data removed]",
      "text/plain": [
       "<Figure size 1200x500 with 1 Axes>"
      ]
     },
     "metadata": {},
     "output_type": "display_data"
    }
   ],
   "source": [
    "# Plotting\n",
    "plt.figure(figsize = (12, 5))\n",
    "plt.plot(late_by_month.index.astype(str), late_by_month.values, marker='o', color=\"blue\")\n",
    "plt.title(\"Proportion of late deliveries by month\")\n",
    "plt.xlabel(\"Month\")\n",
    "plt.ylabel(\"Late Deliveries Rate\")\n",
    "plt.grid(True)\n",
    "plt.xticks (rotation=45)\n",
    "plt.show()"
   ]
  }
 ],
 "metadata": {
  "kernelspec": {
   "display_name": "base",
   "language": "python",
   "name": "python3"
  },
  "language_info": {
   "codemirror_mode": {
    "name": "ipython",
    "version": 3
   },
   "file_extension": ".py",
   "mimetype": "text/x-python",
   "name": "python",
   "nbconvert_exporter": "python",
   "pygments_lexer": "ipython3",
   "version": "3.11.3"
  }
 },
 "nbformat": 4,
 "nbformat_minor": 5
}
