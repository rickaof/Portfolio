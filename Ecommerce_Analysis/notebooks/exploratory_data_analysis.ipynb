{
 "cells": [
  {
   "cell_type": "markdown",
   "id": "5c6bb2af",
   "metadata": {},
   "source": [
    "# Exploratory Data Analysis"
   ]
  },
  {
   "cell_type": "markdown",
   "id": "80b0d6a2",
   "metadata": {},
   "source": [
    "In this section, we explore the dataset to gain insights into customer behavior, order patterns and the overall performance of a Brazilian e-commerce marketplace. Through visualizations and descriptive statistics, we aim to build a solid understanding of the dataset before moving on to more advanced analytics or machine learning steps."
   ]
  },
  {
   "cell_type": "markdown",
   "id": "71cd24b1",
   "metadata": {},
   "source": [
    "## Data Loading"
   ]
  },
  {
   "cell_type": "code",
   "execution_count": 8,
   "id": "d76d17e5",
   "metadata": {},
   "outputs": [],
   "source": [
    "# Importing libraries\n",
    "import pandas as pd\n",
    "import os\n",
    "import matplotlib.pyplot as plt\n",
    "import seaborn as sns"
   ]
  },
  {
   "cell_type": "code",
   "execution_count": 9,
   "id": "fd95da32",
   "metadata": {},
   "outputs": [],
   "source": [
    "# Define path to processed data files\n",
    "current_dir = os.getcwd()\n",
    "processed_path = os.path.abspath(os.path.join(current_dir, \"..\", \"data\", \"processed\"))"
   ]
  },
  {
   "cell_type": "code",
   "execution_count": 10,
   "id": "e18556d6",
   "metadata": {},
   "outputs": [
    {
     "name": "stdout",
     "output_type": "stream",
     "text": [
      "['.gitkeep', 'customer.csv', 'geolocation.csv', 'orders.csv', 'order_items.csv', 'payments.csv', 'products.csv', 'sellers.csv']\n"
     ]
    }
   ],
   "source": [
    "# List files in the processed directory\n",
    "files = os.listdir(processed_path)\n",
    "print(files)"
   ]
  },
  {
   "cell_type": "code",
   "execution_count": 11,
   "id": "6a95a286",
   "metadata": {},
   "outputs": [
    {
     "name": "stdout",
     "output_type": "stream",
     "text": [
      "customer.csv loaded successfully\n",
      "geolocation.csv loaded successfully\n",
      "orders.csv loaded successfully\n",
      "order_items.csv loaded successfully\n",
      "payments.csv loaded successfully\n",
      "products.csv loaded successfully\n",
      "sellers.csv loaded successfully\n"
     ]
    }
   ],
   "source": [
    "# DataFrames loading\n",
    "dfs = {}\n",
    "for file in files:\n",
    "    if file.endswith(\".csv\"):\n",
    "        df = pd.read_csv(os.path.join(processed_path, file))\n",
    "        dfs[file.replace(\".csv\", \"\")] = df\n",
    "        print(f\"{file} loaded successfully\")"
   ]
  },
  {
   "cell_type": "code",
   "execution_count": 14,
   "id": "16abd409",
   "metadata": {},
   "outputs": [
    {
     "name": "stdout",
     "output_type": "stream",
     "text": [
      "order_id                         object\n",
      "customer_id                      object\n",
      "order_status                     object\n",
      "order_purchase_timestamp         object\n",
      "order_approved_at                object\n",
      "order_delivered_carrier_date     object\n",
      "order_delivered_customer_date    object\n",
      "order_estimated_delivery_date    object\n",
      "dtype: object\n"
     ]
    }
   ],
   "source": [
    "orders = dfs[\"orders\"]\n",
    "print(orders.dtypes)"
   ]
  },
  {
   "cell_type": "markdown",
   "id": "06a20879",
   "metadata": {},
   "source": [
    "## Orders counts by status"
   ]
  },
  {
   "cell_type": "code",
   "execution_count": 13,
   "id": "3b1fc0b4",
   "metadata": {},
   "outputs": [
    {
     "ename": "SyntaxError",
     "evalue": "positional argument follows keyword argument (3651989949.py, line 1)",
     "output_type": "error",
     "traceback": [
      "\u001b[1;36m  Cell \u001b[1;32mIn[13], line 1\u001b[1;36m\u001b[0m\n\u001b[1;33m    plt.figure(figsize=10,5)\u001b[0m\n\u001b[1;37m                           ^\u001b[0m\n\u001b[1;31mSyntaxError\u001b[0m\u001b[1;31m:\u001b[0m positional argument follows keyword argument\n"
     ]
    }
   ],
   "source": [
    "plt.figure(figsize=10,5)"
   ]
  }
 ],
 "metadata": {
  "kernelspec": {
   "display_name": "base",
   "language": "python",
   "name": "python3"
  },
  "language_info": {
   "codemirror_mode": {
    "name": "ipython",
    "version": 3
   },
   "file_extension": ".py",
   "mimetype": "text/x-python",
   "name": "python",
   "nbconvert_exporter": "python",
   "pygments_lexer": "ipython3",
   "version": "3.11.3"
  }
 },
 "nbformat": 4,
 "nbformat_minor": 5
}
