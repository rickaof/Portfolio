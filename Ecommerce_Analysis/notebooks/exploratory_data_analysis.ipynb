{
 "cells": [
  {
   "cell_type": "markdown",
   "id": "5c6bb2af",
   "metadata": {},
   "source": [
    "## Exploratory Data Analysis"
   ]
  },
  {
   "cell_type": "markdown",
   "id": "80b0d6a2",
   "metadata": {},
   "source": [
    "In this section, we explore the dataset to gain insights into customer behavior, order patterns and the overall performance of a Brazilian e-commerce marketplace. Through visualizations and descriptive statistics, we aim to build a solid understanding of the dataset before moving on to more advanced analytics or machine learning steps."
   ]
  },
  {
   "cell_type": "code",
   "execution_count": null,
   "id": "992abe04",
   "metadata": {
    "vscode": {
     "languageId": "plaintext"
    }
   },
   "outputs": [],
   "source": []
  },
  {
   "cell_type": "markdown",
   "id": "06a20879",
   "metadata": {},
   "source": [
    "## Orders counts by status"
   ]
  },
  {
   "cell_type": "code",
   "execution_count": null,
   "id": "3b1fc0b4",
   "metadata": {
    "vscode": {
     "languageId": "plaintext"
    }
   },
   "outputs": [],
   "source": [
    "plt.figure(figsize=10,5)"
   ]
  }
 ],
 "metadata": {
  "language_info": {
   "name": "python"
  }
 },
 "nbformat": 4,
 "nbformat_minor": 5
}
