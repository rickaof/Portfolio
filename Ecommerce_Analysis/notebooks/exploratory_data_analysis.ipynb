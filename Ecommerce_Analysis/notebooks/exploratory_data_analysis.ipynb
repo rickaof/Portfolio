{
 "cells": [
  {
   "cell_type": "markdown",
   "id": "5c6bb2af",
   "metadata": {},
   "source": [
    "# Exploratory Data Analysis"
   ]
  },
  {
   "cell_type": "markdown",
   "id": "80b0d6a2",
   "metadata": {},
   "source": [
    "In this section, we explore the dataset to gain insights into customer behavior, order patterns and the overall performance of a Brazilian e-commerce marketplace. Through visualizations and descriptive statistics, we aim to build a solid understanding of the dataset before moving on to more advanced analytics or machine learning steps."
   ]
  },
  {
   "cell_type": "markdown",
   "id": "71cd24b1",
   "metadata": {},
   "source": [
    "## Data Loading"
   ]
  },
  {
   "cell_type": "code",
   "execution_count": 2,
   "id": "d76d17e5",
   "metadata": {},
   "outputs": [],
   "source": [
    "# Importing libraries\n",
    "import pandas as pd\n",
    "import os\n",
    "import matplotlib.pyplot as plt\n",
    "import seaborn as sns"
   ]
  },
  {
   "cell_type": "code",
   "execution_count": 4,
   "id": "fd95da32",
   "metadata": {},
   "outputs": [],
   "source": [
    "# Define path to processed data files\n",
    "current_dir = os.getcwd()\n",
    "processed_path = os.path.abspath(os.path.join(current_dir, \"..\", \"data\", \"processed\"))"
   ]
  },
  {
   "cell_type": "code",
   "execution_count": 7,
   "id": "e18556d6",
   "metadata": {},
   "outputs": [
    {
     "name": "stdout",
     "output_type": "stream",
     "text": [
      "['.gitkeep', 'customer', 'geolocation', 'orders', 'order_items', 'payments', 'products', 'sellers']\n"
     ]
    }
   ],
   "source": [
    "# List files in the processed directory\n",
    "files = os.listdir(processed_path)\n",
    "print(files)"
   ]
  },
  {
   "cell_type": "markdown",
   "id": "06a20879",
   "metadata": {},
   "source": [
    "## Orders counts by status"
   ]
  },
  {
   "cell_type": "code",
   "execution_count": null,
   "id": "3b1fc0b4",
   "metadata": {},
   "outputs": [],
   "source": [
    "plt.figure(figsize=10,5)"
   ]
  }
 ],
 "metadata": {
  "kernelspec": {
   "display_name": "base",
   "language": "python",
   "name": "python3"
  },
  "language_info": {
   "codemirror_mode": {
    "name": "ipython",
    "version": 3
   },
   "file_extension": ".py",
   "mimetype": "text/x-python",
   "name": "python",
   "nbconvert_exporter": "python",
   "pygments_lexer": "ipython3",
   "version": "3.11.3"
  }
 },
 "nbformat": 4,
 "nbformat_minor": 5
}
