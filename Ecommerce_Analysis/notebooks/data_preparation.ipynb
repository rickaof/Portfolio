{
 "cells": [
  {
   "cell_type": "markdown",
   "id": "d1e19b91",
   "metadata": {},
   "source": [
    "# Data Loading"
   ]
  },
  {
   "cell_type": "code",
   "execution_count": 6,
   "id": "fa334fc9",
   "metadata": {},
   "outputs": [],
   "source": [
    "# Importing libraries\n",
    "import pandas as pd\n",
    "import os\n",
    "import matplotlib.pyplot as plt\n",
    "import seaborn as sns"
   ]
  },
  {
   "cell_type": "code",
   "execution_count": null,
   "id": "eecab661",
   "metadata": {},
   "outputs": [],
   "source": [
    "# Define path to raw data files\n",
    "current_dir = os.getcwd()\n",
    "data_path = os.path.abspath(os.path.join(current_dir, \"..\", \"data\", \"raw\"))\n",
    "\n",
    "# files in the data directory\n",
    "files = os.listdir(data_path)\n"
   ]
  },
  {
   "cell_type": "code",
   "execution_count": null,
   "id": "ca2061ab",
   "metadata": {},
   "outputs": [],
   "source": [
    "# files in the data directory\n",
    "files = os.listdir(data_path)"
   ]
  },
  {
   "cell_type": "code",
   "execution_count": 9,
   "id": "8f5b05fd",
   "metadata": {},
   "outputs": [],
   "source": [
    "# Create a dictionary where each key is a file name and the value is a DataFrame with the data.\n",
    "custom_names = {\n",
    "    \"olist_customers_dataset.csv\": \"customer\",\n",
    "    \"olist_geolocation_dataset.csv\": \"geolocation\",\n",
    "    \"olist_order_items_dataset.csv\": \"order_items\",\n",
    "    \"olist_order_payments_dataset.csv\": \"payments\",\n",
    "    \"olist_orders_dataset.csv\": \"orders\",\n",
    "    \"olist_products_dataset.csv\": \"products\",\n",
    "    \"olist_sellers_dataset.csv\": \"sellers\"\n",
    "}\n",
    "\n",
    "dfs = {\n",
    "    custom_names[file]: pd.read_csv(os.path.join(data_path, file))\n",
    "    for file in files if file in custom_names\n",
    "}"
   ]
  },
  {
   "cell_type": "markdown",
   "id": "88923a8b",
   "metadata": {},
   "source": [
    "# Data Cleaning and preprocessing"
   ]
  },
  {
   "cell_type": "markdown",
   "id": "1df768ef",
   "metadata": {},
   "source": [
    "## Orders Dataframe: treatment and Type Conversion"
   ]
  },
  {
   "cell_type": "code",
   "execution_count": 11,
   "id": "e41db7c7",
   "metadata": {},
   "outputs": [],
   "source": [
    "orders = dfs[\"orders\"]  # Extract the 'orders' DataFrame"
   ]
  },
  {
   "cell_type": "markdown",
   "id": "dd3403eb",
   "metadata": {},
   "source": [
    "#### Null and Missing values treatment"
   ]
  },
  {
   "cell_type": "code",
   "execution_count": 13,
   "id": "ce8bc2e7",
   "metadata": {},
   "outputs": [
    {
     "name": "stdout",
     "output_type": "stream",
     "text": [
      "order_id                            0\n",
      "customer_id                         0\n",
      "order_status                        0\n",
      "order_purchase_timestamp            0\n",
      "order_approved_at                 160\n",
      "order_delivered_carrier_date     1783\n",
      "order_delivered_customer_date    2965\n",
      "order_estimated_delivery_date       0\n",
      "dtype: int64\n"
     ]
    }
   ],
   "source": [
    "# Identifying null or missing values.\n",
    "print(orders.isnull().sum())"
   ]
  },
  {
   "cell_type": "markdown",
   "id": "8d58c7a7",
   "metadata": {},
   "source": [
    "There are null numerical values in the order approval date column, indicating that the orders were not approved. The shipping date column also contains null values, indicating that the order was not shipped. Lastly, the delivery date column also contains null values, indicating that the order was not delivered. However, the data will be kept as is, since the column type will be changed to datetime and the null values will become NaT (Not a Time). This maintains data consistency and avoids issues with operations involving dates."
   ]
  },
  {
   "cell_type": "code",
   "execution_count": 14,
   "id": "72fae833",
   "metadata": {},
   "outputs": [
    {
     "name": "stdout",
     "output_type": "stream",
     "text": [
      "order_id                         object\n",
      "customer_id                      object\n",
      "order_status                     object\n",
      "order_purchase_timestamp         object\n",
      "order_approved_at                object\n",
      "order_delivered_carrier_date     object\n",
      "order_delivered_customer_date    object\n",
      "order_estimated_delivery_date    object\n",
      "dtype: object\n"
     ]
    }
   ],
   "source": [
    "# Checking column data types\n",
    "print(orders.dtypes)"
   ]
  },
  {
   "cell_type": "markdown",
   "id": "0021638d",
   "metadata": {},
   "source": [
    "#### Columns type conversion\n"
   ]
  },
  {
   "cell_type": "markdown",
   "id": "9f1d8739",
   "metadata": {},
   "source": [
    "Converting date columns from object to datetime"
   ]
  },
  {
   "cell_type": "code",
   "execution_count": 15,
   "id": "f75fec7b",
   "metadata": {},
   "outputs": [],
   "source": [
    "\n",
    "date_columns = [\n",
    "    \"order_purchase_timestamp\",\n",
    "    \"order_approved_at\",\n",
    "    \"order_delivered_carrier_date\",\n",
    "    \"order_delivered_customer_date\",\n",
    "    \"order_estimated_delivery_date\"\n",
    "]"
   ]
  },
  {
   "cell_type": "code",
   "execution_count": 16,
   "id": "0ac027b7",
   "metadata": {},
   "outputs": [],
   "source": [
    "for col in date_columns:\n",
    "    orders[col] = pd.to_datetime(orders[col], errors=\"coerce\")"
   ]
  },
  {
   "cell_type": "markdown",
   "id": "fc68bfe3",
   "metadata": {},
   "source": [
    "Converting \"order status\" column from object to category"
   ]
  },
  {
   "cell_type": "code",
   "execution_count": 17,
   "id": "ef321520",
   "metadata": {},
   "outputs": [],
   "source": [
    "orders[\"order_status\"] = orders[\"order_status\"].astype(\"category\")"
   ]
  },
  {
   "cell_type": "markdown",
   "id": "315a98e3",
   "metadata": {},
   "source": [
    "## Orders Items Dataframe: treatment and Type Conversion"
   ]
  },
  {
   "cell_type": "code",
   "execution_count": 19,
   "id": "488dd716",
   "metadata": {},
   "outputs": [],
   "source": [
    "order_items = dfs[\"order_items\"]  # Extract the 'order_items' DataFrame"
   ]
  },
  {
   "cell_type": "markdown",
   "id": "facc2223",
   "metadata": {},
   "source": [
    "#### Null and Missing values treatment"
   ]
  },
  {
   "cell_type": "code",
   "execution_count": 21,
   "id": "af4f837b",
   "metadata": {},
   "outputs": [
    {
     "name": "stdout",
     "output_type": "stream",
     "text": [
      "order_id               0\n",
      "order_item_id          0\n",
      "product_id             0\n",
      "seller_id              0\n",
      "shipping_limit_date    0\n",
      "price                  0\n",
      "freight_value          0\n",
      "dtype: int64\n"
     ]
    }
   ],
   "source": [
    "# Identifying null or missing values.\n",
    "print(order_items.isnull().sum())"
   ]
  },
  {
   "cell_type": "markdown",
   "id": "21af44da",
   "metadata": {},
   "source": [
    "There are no null or missing values in the dataframe."
   ]
  },
  {
   "cell_type": "markdown",
   "id": "9df8deb9",
   "metadata": {},
   "source": [
    "#### Columns type conversion"
   ]
  },
  {
   "cell_type": "code",
   "execution_count": 22,
   "id": "7036106d",
   "metadata": {},
   "outputs": [
    {
     "name": "stdout",
     "output_type": "stream",
     "text": [
      "order_id                object\n",
      "order_item_id            int64\n",
      "product_id              object\n",
      "seller_id               object\n",
      "shipping_limit_date     object\n",
      "price                  float64\n",
      "freight_value          float64\n",
      "dtype: object\n"
     ]
    }
   ],
   "source": [
    "# Checking column data types\n",
    "print(order_items.dtypes)"
   ]
  },
  {
   "cell_type": "markdown",
   "id": "74d82841",
   "metadata": {},
   "source": [
    "Converting date columns from object to datetime"
   ]
  },
  {
   "cell_type": "code",
   "execution_count": 23,
   "id": "e0cd5115",
   "metadata": {},
   "outputs": [],
   "source": [
    "order_items[\"shipping_limit_date\"] = pd.to_datetime(\n",
    "    order_items[\"shipping_limit_date\"], errors=\"coerce\")"
   ]
  },
  {
   "cell_type": "markdown",
   "id": "6af5edda",
   "metadata": {},
   "source": [
    "## Customers Dataframe: treatment and Type Conversion"
   ]
  },
  {
   "cell_type": "code",
   "execution_count": 25,
   "id": "d09bbb0b",
   "metadata": {},
   "outputs": [],
   "source": [
    "customer = dfs[\"customer\"]  # Extract the 'customers' DataFrame"
   ]
  },
  {
   "cell_type": "markdown",
   "id": "8f6ea127",
   "metadata": {},
   "source": [
    "#### Null and Missing values treatment"
   ]
  },
  {
   "cell_type": "code",
   "execution_count": 27,
   "id": "93bcbd27",
   "metadata": {},
   "outputs": [
    {
     "name": "stdout",
     "output_type": "stream",
     "text": [
      "customer_id                 0\n",
      "customer_unique_id          0\n",
      "customer_zip_code_prefix    0\n",
      "customer_city               0\n",
      "customer_state              0\n",
      "dtype: int64\n"
     ]
    }
   ],
   "source": [
    "# Identifying null or missing values.\n",
    "print(customer.isnull().sum())"
   ]
  },
  {
   "cell_type": "markdown",
   "id": "8b2b07db",
   "metadata": {},
   "source": [
    "There are no null or missing values in the dataframe."
   ]
  },
  {
   "cell_type": "markdown",
   "id": "f5350e8b",
   "metadata": {},
   "source": [
    "#### Columns type conversion"
   ]
  },
  {
   "cell_type": "code",
   "execution_count": 28,
   "id": "a5eab4b8",
   "metadata": {},
   "outputs": [
    {
     "name": "stdout",
     "output_type": "stream",
     "text": [
      "customer_id                 object\n",
      "customer_unique_id          object\n",
      "customer_zip_code_prefix     int64\n",
      "customer_city               object\n",
      "customer_state              object\n",
      "dtype: object\n"
     ]
    }
   ],
   "source": [
    "# Checking column data types\n",
    "print(customer.dtypes)"
   ]
  },
  {
   "cell_type": "markdown",
   "id": "b22f5acd",
   "metadata": {},
   "source": [
    "The column data types are correct."
   ]
  },
  {
   "cell_type": "markdown",
   "id": "327b9320",
   "metadata": {},
   "source": [
    "## Products Dataframe: treatment and Type Conversion"
   ]
  },
  {
   "cell_type": "code",
   "execution_count": 29,
   "id": "768b889d",
   "metadata": {},
   "outputs": [],
   "source": [
    "products = dfs[\"products\"]  # Extract the 'products' DataFrame"
   ]
  },
  {
   "cell_type": "markdown",
   "id": "cd118b51",
   "metadata": {},
   "source": [
    "#### Null and Missing values treatment"
   ]
  },
  {
   "cell_type": "code",
   "execution_count": 31,
   "id": "ba2c5318",
   "metadata": {},
   "outputs": [
    {
     "name": "stdout",
     "output_type": "stream",
     "text": [
      "product_id                      0\n",
      "product_category_name         610\n",
      "product_name_lenght           610\n",
      "product_description_lenght    610\n",
      "product_photos_qty            610\n",
      "product_weight_g                2\n",
      "product_length_cm               2\n",
      "product_height_cm               2\n",
      "product_width_cm                2\n",
      "dtype: int64\n"
     ]
    }
   ],
   "source": [
    "# Identifying null or missing values.\n",
    "print(products.isnull().sum())"
   ]
  },
  {
   "cell_type": "markdown",
   "id": "33402ace",
   "metadata": {},
   "source": [
    "Null values were found in the product category name, which will be filled with \"Unknown\". Null values were also found in the columns: product name length, description length, and number of photos. These will be filled with the median to avoid distortions caused by extreme values. Finally, two null values were found in the columns: weight, length, height, and width. All of these will also be filled with the median."
   ]
  },
  {
   "cell_type": "code",
   "execution_count": 32,
   "id": "7c109f9a",
   "metadata": {},
   "outputs": [],
   "source": [
    "# Null and missing values treatment.\n",
    "products[\"product_category_name\"].fillna(\"Unknown\", inplace=True)\n",
    "num_cols = [\n",
    "    \"product_name_lenght\", \"product_description_lenght\",\n",
    "    \"product_photos_qty\", \"product_weight_g\", \"product_length_cm\",\n",
    "    \"product_height_cm\", \"product_width_cm\"\n",
    "]\n",
    "for col in num_cols:\n",
    "    products[col].fillna(products[col].median(), inplace=True)"
   ]
  },
  {
   "cell_type": "markdown",
   "id": "0165b066",
   "metadata": {},
   "source": [
    "#### Columns type conversion"
   ]
  },
  {
   "cell_type": "code",
   "execution_count": null,
   "id": "8ab13bdc",
   "metadata": {},
   "outputs": [
    {
     "name": "stdout",
     "output_type": "stream",
     "text": [
      "customer_id                 object\n",
      "customer_unique_id          object\n",
      "customer_zip_code_prefix     int64\n",
      "customer_city               object\n",
      "customer_state              object\n",
      "dtype: object\n"
     ]
    }
   ],
   "source": [
    "# Checking column data types\n",
    "print(customer.dtypes)"
   ]
  },
  {
   "cell_type": "markdown",
   "id": "ba531290",
   "metadata": {},
   "source": [
    "The column data types are correct."
   ]
  },
  {
   "cell_type": "markdown",
   "id": "62f2ebe2",
   "metadata": {},
   "source": [
    "## Sellers Dataframe: treatment and Type Conversion"
   ]
  },
  {
   "cell_type": "code",
   "execution_count": 35,
   "id": "22f87c31",
   "metadata": {},
   "outputs": [],
   "source": [
    "sellers = dfs[\"sellers\"]  # Extract the 'sellers' DataFrame"
   ]
  },
  {
   "cell_type": "markdown",
   "id": "3d200ea0",
   "metadata": {},
   "source": [
    "#### Null and Missing values treatment"
   ]
  },
  {
   "cell_type": "code",
   "execution_count": 37,
   "id": "00a4c40d",
   "metadata": {},
   "outputs": [
    {
     "name": "stdout",
     "output_type": "stream",
     "text": [
      "seller_id                 0\n",
      "seller_zip_code_prefix    0\n",
      "seller_city               0\n",
      "seller_state              0\n",
      "dtype: int64\n"
     ]
    }
   ],
   "source": [
    "# Identifying null or missing values.\n",
    "print(sellers.isnull().sum())"
   ]
  },
  {
   "cell_type": "markdown",
   "id": "8022f12d",
   "metadata": {},
   "source": [
    "There are no null or missing values in the dataframe."
   ]
  },
  {
   "cell_type": "markdown",
   "id": "e4ac3d31",
   "metadata": {},
   "source": [
    "#### Columns type conversion"
   ]
  },
  {
   "cell_type": "code",
   "execution_count": 38,
   "id": "27ed8e1a",
   "metadata": {},
   "outputs": [
    {
     "name": "stdout",
     "output_type": "stream",
     "text": [
      "seller_id                 object\n",
      "seller_zip_code_prefix     int64\n",
      "seller_city               object\n",
      "seller_state              object\n",
      "dtype: object\n"
     ]
    }
   ],
   "source": [
    "# Checking column data types\n",
    "print(sellers.dtypes)"
   ]
  },
  {
   "cell_type": "markdown",
   "id": "960c5158",
   "metadata": {},
   "source": [
    "The column data types are correct."
   ]
  },
  {
   "cell_type": "markdown",
   "id": "6fcc1f9c",
   "metadata": {},
   "source": [
    "## Payments Dataframe: treatment and Type Conversion"
   ]
  },
  {
   "cell_type": "code",
   "execution_count": 39,
   "id": "383deb1a",
   "metadata": {},
   "outputs": [],
   "source": [
    "payments = dfs[\"payments\"]  # Extract the 'payments' DataFrame"
   ]
  },
  {
   "cell_type": "markdown",
   "id": "58ead4e7",
   "metadata": {},
   "source": [
    "#### Null and Missing values treatment"
   ]
  },
  {
   "cell_type": "code",
   "execution_count": 41,
   "id": "e83593cc",
   "metadata": {},
   "outputs": [
    {
     "name": "stdout",
     "output_type": "stream",
     "text": [
      "order_id                0\n",
      "payment_sequential      0\n",
      "payment_type            0\n",
      "payment_installments    0\n",
      "payment_value           0\n",
      "dtype: int64\n"
     ]
    }
   ],
   "source": [
    "# Identifying null or missing values.\n",
    "print(payments.isnull().sum())"
   ]
  },
  {
   "cell_type": "markdown",
   "id": "a9123a83",
   "metadata": {},
   "source": [
    "There are no null or missing values in the dataframe."
   ]
  },
  {
   "cell_type": "markdown",
   "id": "4c12bda1",
   "metadata": {},
   "source": [
    "#### Columns type conversion"
   ]
  },
  {
   "cell_type": "code",
   "execution_count": 42,
   "id": "ea882b1b",
   "metadata": {},
   "outputs": [
    {
     "name": "stdout",
     "output_type": "stream",
     "text": [
      "order_id                 object\n",
      "payment_sequential        int64\n",
      "payment_type             object\n",
      "payment_installments      int64\n",
      "payment_value           float64\n",
      "dtype: object\n"
     ]
    }
   ],
   "source": [
    "# Checking column data types\n",
    "print(payments.dtypes)"
   ]
  },
  {
   "cell_type": "markdown",
   "id": "e5053e71",
   "metadata": {},
   "source": [
    "Converting 'payment_type' column from object to category."
   ]
  },
  {
   "cell_type": "code",
   "execution_count": 43,
   "id": "4eb2d1d8",
   "metadata": {},
   "outputs": [],
   "source": [
    "payments[\"payment_type\"] = payments[\"payment_type\"].astype(\"category\")"
   ]
  },
  {
   "cell_type": "markdown",
   "id": "9985fdb8",
   "metadata": {},
   "source": [
    "## Geolocation: treatment and Type Conversion"
   ]
  },
  {
   "cell_type": "code",
   "execution_count": 45,
   "id": "8df77f61",
   "metadata": {},
   "outputs": [],
   "source": [
    "geolocation = dfs[\"geolocation\"]  # Extract the 'geolocation' DataFrame"
   ]
  },
  {
   "cell_type": "markdown",
   "id": "c6fb7b54",
   "metadata": {},
   "source": [
    "#### Null and Missing values treatment"
   ]
  },
  {
   "cell_type": "code",
   "execution_count": 47,
   "id": "12302f2a",
   "metadata": {},
   "outputs": [
    {
     "name": "stdout",
     "output_type": "stream",
     "text": [
      "geolocation_zip_code_prefix    0\n",
      "geolocation_lat                0\n",
      "geolocation_lng                0\n",
      "geolocation_city               0\n",
      "geolocation_state              0\n",
      "dtype: int64\n"
     ]
    }
   ],
   "source": [
    "# Identifying null or missing values.\n",
    "print(geolocation.isnull().sum())"
   ]
  },
  {
   "cell_type": "markdown",
   "id": "ab5c891d",
   "metadata": {},
   "source": [
    "There are no null or missing values in the dataframe."
   ]
  },
  {
   "cell_type": "markdown",
   "id": "68f4d01d",
   "metadata": {},
   "source": [
    "#### Columns type conversion"
   ]
  },
  {
   "cell_type": "code",
   "execution_count": 48,
   "id": "628d42c4",
   "metadata": {},
   "outputs": [
    {
     "name": "stdout",
     "output_type": "stream",
     "text": [
      "geolocation_zip_code_prefix      int64\n",
      "geolocation_lat                float64\n",
      "geolocation_lng                float64\n",
      "geolocation_city                object\n",
      "geolocation_state               object\n",
      "dtype: object\n"
     ]
    }
   ],
   "source": [
    "# Checking column data types\n",
    "print(geolocation.dtypes)"
   ]
  },
  {
   "cell_type": "markdown",
   "id": "7af2277a",
   "metadata": {},
   "source": [
    "The column data types are correct."
   ]
  },
  {
   "cell_type": "markdown",
   "id": "3c5c2cff",
   "metadata": {},
   "source": [
    "## Saving the processed Dataframes"
   ]
  },
  {
   "cell_type": "code",
   "execution_count": 49,
   "id": "212acc17",
   "metadata": {},
   "outputs": [],
   "source": [
    "# Saving the processed Dataframes in the \"../data/processed\".\n",
    "processed_path = os.path.abspath(\n",
    "    os.path.join(current_dir, \"..\", \"data\", \"processed\"))"
   ]
  },
  {
   "cell_type": "code",
   "execution_count": 100,
   "id": "9a913cb7",
   "metadata": {},
   "outputs": [],
   "source": [
    "for file, df in dfs.items():\n",
    "    file_name = f\"{file}.csv\"\n",
    "    df.to_csv(os.path.join(processed_path, file_name), index=False)\n"
   ]
  },
  {
   "cell_type": "markdown",
   "id": "a81ed0b7",
   "metadata": {},
   "source": [
    "# Exploratory Data Analysis"
   ]
  },
  {
   "cell_type": "markdown",
   "id": "db1773b4",
   "metadata": {},
   "source": [
    "In this section, we explore the dataset to gain insights into customer behavior, order patterns and the overall performance of a Brazilian e-commerce marketplace. Through visualizations and descriptive statistics, we aim to build a solid understanding of the dataset before moving on to more advanced analytics or machine learning steps."
   ]
  },
  {
   "cell_type": "markdown",
   "id": "7a1f6abd",
   "metadata": {},
   "source": [
    "## Orders counts by status"
   ]
  },
  {
   "cell_type": "code",
   "execution_count": 51,
   "id": "07e5df50",
   "metadata": {},
   "outputs": [
    {
     "data": {
      "image/png": "[encoded data removed]",
      "text/plain": [
       "<Figure size 1000x500 with 1 Axes>"
      ]
     },
     "metadata": {},
     "output_type": "display_data"
    }
   ],
   "source": [
    "plt.figure(figsize=(10, 5))\n",
    "ax = sns.countplot(data=orders, x =\"order_status\", order=orders[\"order_status\"].value_counts().index, palette=\"pastel\")\n",
    "plt.xticks(rotation=45)\n",
    "plt.yscale(\"log\")\n",
    "plt.title(\"Order Status Distribution\")\n",
    "plt.xlabel(\"Order Status\")\n",
    "plt.ylabel(\"Number of orders\")\n",
    "for p in ax.patches:\n",
    "    ax.annotate(\n",
    "        f\"{int(p.get_height())}\",\n",
    "        (p.get_x() + p.get_width() / 2, p.get_height()),\n",
    "        ha=\"center\",\n",
    "        va=\"bottom\",\n",
    "        fontsize=10,\n",
    "        color=\"black\"\n",
    "    )\n",
    "plt.show()\n",
    "\n"
   ]
  },
  {
   "cell_type": "markdown",
   "id": "cc680675",
   "metadata": {},
   "source": [
    "## Orders over time"
   ]
  },
  {
   "cell_type": "code",
   "execution_count": 52,
   "id": "74001847",
   "metadata": {},
   "outputs": [
    {
     "data": {
      "image/png": "[encoded data removed]",
      "text/plain": [
       "<Figure size 1200x600 with 1 Axes>"
      ]
     },
     "metadata": {},
     "output_type": "display_data"
    }
   ],
   "source": [
    "orders[\"order_purchase_month\"] = orders[\"order_purchase_timestamp\"].dt.to_period(\n",
    "    \"M\")\n",
    "monthly_orders = orders.groupby(\"order_purchase_month\")[\"order_id\"].count()\n",
    "plt.figure(figsize=(12, 6))\n",
    "plt.plot(monthly_orders.index.astype(\n",
    "    str), monthly_orders.values, marker='o', linestyle=\"-\", color=\"royalblue\")\n",
    "plt.title(\"Order Trends Over Time\")\n",
    "plt.xlabel(\"Month\")\n",
    "plt.ylabel(\"Number of Orders\")\n",
    "plt.xticks(rotation=45)\n",
    "plt.grid(True)\n",
    "plt.show()"
   ]
  },
  {
   "cell_type": "markdown",
   "id": "53dc6521",
   "metadata": {},
   "source": [
    "There was a growth trend in the number of orders from December 2016 to November 2017, \n",
    "followed by a stabilization period from December 2017 to August 2018. However, there was \n",
    "a sharp drop in orders from August to October. It's important to check whether there is \n",
    "data available for the final months or if the dataset simply ends there."
   ]
  },
  {
   "cell_type": "code",
   "execution_count": 53,
   "id": "c68998db",
   "metadata": {},
   "outputs": [
    {
     "name": "stdout",
     "output_type": "stream",
     "text": [
      "order_purchase_month\n",
      "2018-01    7269\n",
      "2018-02    6728\n",
      "2018-03    7211\n",
      "2018-04    6939\n",
      "2018-05    6873\n",
      "2018-06    6167\n",
      "2018-07    6292\n",
      "2018-08    6512\n",
      "2018-09      16\n",
      "2018-10       4\n",
      "Freq: M, Name: order_id, dtype: int64\n"
     ]
    }
   ],
   "source": [
    "# Checking if data exists for the last months\n",
    "print(monthly_orders.tail(10))  # Last 10 months available"
   ]
  },
  {
   "cell_type": "markdown",
   "id": "3e8530cd",
   "metadata": {},
   "source": [
    "There were orders in the last months, but the quantity is well below normal, indicating that the dataset is likely incomplete for the final months."
   ]
  },
  {
   "cell_type": "markdown",
   "id": "4e75aeeb",
   "metadata": {},
   "source": [
    "## Checking order cancellations over time"
   ]
  },
  {
   "cell_type": "code",
   "execution_count": 56,
   "id": "683ffe97",
   "metadata": {},
   "outputs": [
    {
     "data": {
      "image/png": "[encoded data removed]",
      "text/plain": [
       "<Figure size 1200x500 with 1 Axes>"
      ]
     },
     "metadata": {},
     "output_type": "display_data"
    }
   ],
   "source": [
    "orders.groupby(\"order_purchase_month\")[\"order_status\"].value_counts(normalize=True).unstack()[\"canceled\"].plot(\n",
    "    kind=\"line\", figsize=(12, 5))\n",
    "plt.title(\"Proportion of Canceled Orders per Month\")\n",
    "plt.xlabel(\"Month\")\n",
    "plt.ylabel(\"Cancellations (%)\")\n",
    "plt.show()"
   ]
  },
  {
   "cell_type": "markdown",
   "id": "6c3b190f",
   "metadata": {},
   "source": [
    "The graph shows that the proportion of canceled orders rose to around 100% in the last few months."
   ]
  },
  {
   "cell_type": "markdown",
   "id": "87390516",
   "metadata": {},
   "source": [
    "## Data Note"
   ]
  },
  {
   "cell_type": "markdown",
   "id": "6d0590dc",
   "metadata": {},
   "source": [
    "The charts indicate that there is a normal pattern in the data, except for the months starting from August. The likely reason is that the data from August onward is incomplete, with only cancellations being imported. Therefore, the chosen approach to prevent this discrepancy in order volume from affecting further analyses and models will be remove the rows related to those months."
   ]
  },
  {
   "cell_type": "markdown",
   "id": "40627759",
   "metadata": {},
   "source": [
    "#### REMOVING ROWS RELATED TO MONTHS WITH DATA DISCREPANCIES"
   ]
  },
  {
   "cell_type": "code",
   "execution_count": 102,
   "id": "e221a353",
   "metadata": {},
   "outputs": [
    {
     "data": {
      "text/plain": [
       "{'orders':                                order_id                       customer_id  \\\n",
       " 0      e481f51cbdc54678b7cc49136f2d6af7  9ef432eb6251297304e76186b10a928d   \n",
       " 1      53cdb2fc8bc7dce0b6741e2150273451  b0830fb4747a6c6d20dea0b8c802d7ef   \n",
       " 2      949d5b44dbf5de918fe9c16f97b45f8a  f88197465ea7920adcdbec7375364d82   \n",
       " 3      ad21c59c0840e6cb83a9ceb5573f8159  8ab97904e6daea8866dbdbc4fb7aad2c   \n",
       " 4      a4591c265e18cb1dcee52889e2d8acc3  503740e9ca751ccdda7ba28e9ab8f608   \n",
       " ...                                 ...                               ...   \n",
       " 92904  9c5dedf39a927c1b2549525ed64a053c  39bd1228ee8140590ac3aca26f2dfe00   \n",
       " 92905  63943bddc261676b46f01ca7ac2f7bd8  1fca14ff2861355f6e5f14306ff977a7   \n",
       " 92906  83c1379a015df1e13d02aae0204711ab  1aa71eb042121263aafbe80c1b562c9c   \n",
       " 92907  11c177c8e97725db2631073c19f07b62  b331b74b18dc79bcdf6532d51e1637c1   \n",
       " 92908  66dea50a8b16d9b4dee7af250b4be1a5  edb027a75a1449115f6b43211ae02a24   \n",
       " \n",
       "       order_status order_purchase_timestamp    order_approved_at  \\\n",
       " 0        delivered      2017-10-02 10:56:33  2017-10-02 11:07:15   \n",
       " 1        delivered      2018-07-24 20:41:37  2018-07-26 03:24:27   \n",
       " 2        delivered      2017-11-18 19:28:06  2017-11-18 19:45:59   \n",
       " 3        delivered      2018-02-13 21:18:39  2018-02-13 22:20:29   \n",
       " 4        delivered      2017-07-09 21:57:05  2017-07-09 22:10:13   \n",
       " ...            ...                      ...                  ...   \n",
       " 92904    delivered      2017-03-09 09:54:05  2017-03-09 09:54:05   \n",
       " 92905    delivered      2018-02-06 12:58:58  2018-02-06 13:10:37   \n",
       " 92906    delivered      2017-08-27 14:46:43  2017-08-27 15:04:16   \n",
       " 92907    delivered      2018-01-08 21:28:27  2018-01-08 21:36:21   \n",
       " 92908    delivered      2018-03-08 20:57:30  2018-03-09 11:20:28   \n",
       " \n",
       "       order_delivered_carrier_date order_delivered_customer_date  \\\n",
       " 0              2017-10-04 19:55:00           2017-10-10 21:25:13   \n",
       " 1              2018-07-26 14:31:00           2018-08-07 15:27:45   \n",
       " 2              2017-11-22 13:39:59           2017-12-02 00:28:42   \n",
       " 3              2018-02-14 19:46:34           2018-02-16 18:17:02   \n",
       " 4              2017-07-11 14:58:04           2017-07-26 10:57:55   \n",
       " ...                            ...                           ...   \n",
       " 92904          2017-03-10 11:18:03           2017-03-17 15:08:01   \n",
       " 92905          2018-02-07 23:22:42           2018-02-28 17:37:56   \n",
       " 92906          2017-08-28 20:52:26           2017-09-21 11:24:17   \n",
       " 92907          2018-01-12 15:35:03           2018-01-25 23:32:54   \n",
       " 92908          2018-03-09 22:11:59           2018-03-16 13:08:30   \n",
       " \n",
       "       order_estimated_delivery_date order_purchase_month  delivery_time  \n",
       " 0                        2017-10-18              2017-10            8.0  \n",
       " 1                        2018-08-13              2018-07           13.0  \n",
       " 2                        2017-12-15              2017-11           13.0  \n",
       " 3                        2018-02-26              2018-02            2.0  \n",
       " 4                        2017-08-01              2017-07           16.0  \n",
       " ...                             ...                  ...            ...  \n",
       " 92904                    2017-03-28              2017-03            8.0  \n",
       " 92905                    2018-03-02              2018-02           22.0  \n",
       " 92906                    2017-09-27              2017-08           24.0  \n",
       " 92907                    2018-02-15              2018-01           17.0  \n",
       " 92908                    2018-04-03              2018-03            7.0  \n",
       " \n",
       " [92909 rows x 10 columns],\n",
       " 'order_items':                                 order_id  order_item_id  \\\n",
       " 0       00010242fe8c5a6d1ba2dd792cb16214              1   \n",
       " 1       00018f77f2f0320c557190d7a144bdd3              1   \n",
       " 2       000229ec398224ef6ca0657da4fc703e              1   \n",
       " 4       00042b26cf59d7ce69dfabb4e55b4fd9              1   \n",
       " 5       00048cc3ae777c65dbb7d2a0634bc1ea              1   \n",
       " ...                                  ...            ...   \n",
       " 112645  fffc94f6ce00a00581880bf54a75a037              1   \n",
       " 112646  fffcd46ef2263f404302a634eb57f7eb              1   \n",
       " 112647  fffce4705a9662cd70adb13d4a31832d              1   \n",
       " 112648  fffe18544ffabc95dfada21779c9644f              1   \n",
       " 112649  fffe41c64501cc87c801fd61db3f6244              1   \n",
       " \n",
       "                               product_id                         seller_id  \\\n",
       " 0       4244733e06e7ecb4970a6e2683c13e61  48436dade18ac8b2bce089ec2a041202   \n",
       " 1       e5f2d52b802189ee658865ca93d83a8f  dd7ddc04e1b6c2c614352b383efe2d36   \n",
       " 2       c777355d18b72b67abbeef9df44fd0fd  5b51032eddd242adc84c38acab88f23d   \n",
       " 4       ac6c3623068f30de03045865e4e10089  df560393f3a51e74553ab94004ba5c87   \n",
       " 5       ef92defde845ab8450f9d70c526ef70f  6426d21aca402a131fc0a5d0960a3c90   \n",
       " ...                                  ...                               ...   \n",
       " 112645  4aa6014eceb682077f9dc4bffebc05b0  b8bc237ba3788b23da09c0f1f3a3288c   \n",
       " 112646  32e07fd915822b0765e448c4dd74c828  f3c38ab652836d21de61fb8314b69182   \n",
       " 112647  72a30483855e2eafc67aee5dc2560482  c3cfdc648177fdbbbb35635a37472c53   \n",
       " 112648  9c422a519119dcad7575db5af1ba540e  2b3e4a2a3ea8e01938cabda2a3e5cc79   \n",
       " 112649  350688d9dc1e75ff97be326363655e01  f7ccf836d21b2fb1de37564105216cc1   \n",
       " \n",
       "        shipping_limit_date   price  freight_value  \n",
       " 0      2017-09-19 09:45:35   58.90          13.29  \n",
       " 1      2017-05-03 11:05:13  239.90          19.93  \n",
       " 2      2018-01-18 14:48:30  199.00          17.87  \n",
       " 4      2017-02-13 13:57:51  199.90          18.14  \n",
       " 5      2017-05-23 03:55:27   21.90          12.69  \n",
       " ...                    ...     ...            ...  \n",
       " 112645 2018-05-02 04:11:01  299.99          43.41  \n",
       " 112646 2018-07-20 04:31:48  350.00          36.53  \n",
       " 112647 2017-10-30 17:14:25   99.90          16.95  \n",
       " 112648 2017-08-21 00:04:32   55.99           8.72  \n",
       " 112649 2018-06-12 17:10:13   43.00          12.79  \n",
       " \n",
       " [105401 rows x 7 columns],\n",
       " 'payments':                                 order_id  payment_sequential payment_type  \\\n",
       " 0       b81ef226f3fe1789b1e8b2acac839d17                   1  credit_card   \n",
       " 1       a9810da82917af2d9aefd1278f1dcfa0                   1  credit_card   \n",
       " 2       25e8ea4e93396b6fa0d3dd708e76c1bd                   1  credit_card   \n",
       " 3       ba78997921bbcdc1373bb41e913ab953                   1  credit_card   \n",
       " 4       42fdf880ba16b47b59251dd489d4441a                   1  credit_card   \n",
       " ...                                  ...                 ...          ...   \n",
       " 103880  7159096c5aa9be77f7f0c26c01ee9793                   1  credit_card   \n",
       " 103881  0406037ad97740d563a178ecc7a2075c                   1       boleto   \n",
       " 103882  7b905861d7c825891d6347454ea7863f                   1  credit_card   \n",
       " 103883  32609bbb3dd69b3c066a6860554a77bf                   1  credit_card   \n",
       " 103885  28bbae6599b09d39ca406b747b6632b1                   1       boleto   \n",
       " \n",
       "         payment_installments  payment_value  \n",
       " 0                          8          99.33  \n",
       " 1                          1          24.39  \n",
       " 2                          1          65.71  \n",
       " 3                          8         107.78  \n",
       " 4                          2         128.45  \n",
       " ...                      ...            ...  \n",
       " 103880                     4         280.65  \n",
       " 103881                     1         363.31  \n",
       " 103882                     2          96.80  \n",
       " 103883                     1          47.77  \n",
       " 103885                     1         191.58  \n",
       " \n",
       " [97168 rows x 5 columns],\n",
       " 'customer':                             customer_id                customer_unique_id  \\\n",
       " 0      06b8999e2fba1a1fbc88172c00ba8bc7  861eff4711a542e4b93843c6dd7febb0   \n",
       " 1      18955e83d337fd6b2def6b18a428ac77  290c77bc529b7ac935b93aa66c333dc3   \n",
       " 2      4e7b3e00288586ebd08712fdd0374a03  060e732b5b29e8181a18229c7b0b2b5e   \n",
       " 3      b2b6027bc5c5109e529d4dc6358b12c3  259dac757896d24d7702b9acbbff3f3c   \n",
       " 4      4f2d8ab171c80ec8364f7c12e35b23ad  345ecd01c38d18a9036ed96c73b8d066   \n",
       " ...                                 ...                               ...   \n",
       " 99436  17ddf5dd5d51696bb3d7c6291687be6f  1a29b476fee25c95fbafc67c5ac95cf8   \n",
       " 99437  e7b71a9017aa05c9a7fd292d714858e8  d52a67c98be1cf6a5c84435bd38d095d   \n",
       " 99438  5e28dfe12db7fb50a4b2f691faecea5e  e9f50caf99f032f0bf3c55141f019d99   \n",
       " 99439  56b18e2166679b8a959d72dd06da27f9  73c2643a0a458b49f58cea58833b192e   \n",
       " 99440  274fa6071e5e17fe303b9748641082c8  84732c5050c01db9b23e19ba39899398   \n",
       " \n",
       "        customer_zip_code_prefix          customer_city customer_state  \n",
       " 0                         14409                 franca             SP  \n",
       " 1                          9790  sao bernardo do campo             SP  \n",
       " 2                          1151              sao paulo             SP  \n",
       " 3                          8775        mogi das cruzes             SP  \n",
       " 4                         13056               campinas             SP  \n",
       " ...                         ...                    ...            ...  \n",
       " 99436                      3937              sao paulo             SP  \n",
       " 99437                      6764        taboao da serra             SP  \n",
       " 99438                     60115              fortaleza             CE  \n",
       " 99439                     92120                 canoas             RS  \n",
       " 99440                      6703                  cotia             SP  \n",
       " \n",
       " [92909 rows x 5 columns],\n",
       " 'products':                              product_id              product_category_name  \\\n",
       " 0      1e9e8ef04dbcff4541ed26657ea517e5                         perfumaria   \n",
       " 1      3aa071139cb16b67ca9e5dea641aaa2f                              artes   \n",
       " 2      96bd76ec8810374ed1b65e291975717f                      esporte_lazer   \n",
       " 4      9dc1a7de274444849c219cff195d0b71              utilidades_domesticas   \n",
       " 5      41d3672d4792049fa1779bb35283ed13              instrumentos_musicais   \n",
       " ...                                 ...                                ...   \n",
       " 32946  a0b7d5a992ccda646f2d34e418fff5a0                   moveis_decoracao   \n",
       " 32947  bf4538d88321d0fd4412a93c974510e6  construcao_ferramentas_iluminacao   \n",
       " 32948  9a7c6041fa9592d9d9ef6cfe62a71f8c                    cama_mesa_banho   \n",
       " 32949  83808703fc0706a22e264b9d75f04a2e             informatica_acessorios   \n",
       " 32950  106392145fca363410d287a815be6de4                    cama_mesa_banho   \n",
       " \n",
       "        product_name_lenght  product_description_lenght  product_photos_qty  \\\n",
       " 0                     40.0                       287.0                 1.0   \n",
       " 1                     44.0                       276.0                 1.0   \n",
       " 2                     46.0                       250.0                 1.0   \n",
       " 4                     37.0                       402.0                 4.0   \n",
       " 5                     60.0                       745.0                 1.0   \n",
       " ...                    ...                         ...                 ...   \n",
       " 32946                 45.0                        67.0                 2.0   \n",
       " 32947                 41.0                       971.0                 1.0   \n",
       " 32948                 50.0                       799.0                 1.0   \n",
       " 32949                 60.0                       156.0                 2.0   \n",
       " 32950                 58.0                       309.0                 1.0   \n",
       " \n",
       "        product_weight_g  product_length_cm  product_height_cm  \\\n",
       " 0                 225.0               16.0               10.0   \n",
       " 1                1000.0               30.0               18.0   \n",
       " 2                 154.0               18.0                9.0   \n",
       " 4                 625.0               20.0               17.0   \n",
       " 5                 200.0               38.0                5.0   \n",
       " ...                 ...                ...                ...   \n",
       " 32946           12300.0               40.0               40.0   \n",
       " 32947            1700.0               16.0               19.0   \n",
       " 32948            1400.0               27.0                7.0   \n",
       " 32949             700.0               31.0               13.0   \n",
       " 32950            2083.0               12.0                2.0   \n",
       " \n",
       "        product_width_cm  \n",
       " 0                  14.0  \n",
       " 1                  20.0  \n",
       " 2                  15.0  \n",
       " 4                  13.0  \n",
       " 5                  11.0  \n",
       " ...                 ...  \n",
       " 32946              40.0  \n",
       " 32947              16.0  \n",
       " 32948              27.0  \n",
       " 32949              20.0  \n",
       " 32950               7.0  \n",
       " \n",
       " [30860 rows x 9 columns],\n",
       " 'sellers':                              seller_id  seller_zip_code_prefix  \\\n",
       " 0     3442f8959a84dea7ee197c632cb2df15                   13023   \n",
       " 1     d1b65fc7debc3361ea86b5f14c68d2e2                   13844   \n",
       " 2     ce3ad9de960102d0677a81f5d0bb7b2d                   20031   \n",
       " 4     51a04a8a6bdcb23deccc82b0b80742cf                   12914   \n",
       " 5     c240c4061717ac1806ae6ee72be3533b                   20920   \n",
       " ...                                ...                     ...   \n",
       " 3090  98dddbc4601dd4443ca174359b237166                   87111   \n",
       " 3091  f8201cab383e484733266d1906e2fdfa                   88137   \n",
       " 3092  74871d19219c7d518d0090283e03c137                    4650   \n",
       " 3093  e603cf3fec55f8697c9059638d6c8eb5                   96080   \n",
       " 3094  9e25199f6ef7e7c347120ff175652c3b                   12051   \n",
       " \n",
       "             seller_city seller_state  \n",
       " 0              campinas           SP  \n",
       " 1            mogi guacu           SP  \n",
       " 2        rio de janeiro           RJ  \n",
       " 4     braganca paulista           SP  \n",
       " 5        rio de janeiro           RJ  \n",
       " ...                 ...          ...  \n",
       " 3090            sarandi           PR  \n",
       " 3091            palhoca           SC  \n",
       " 3092          sao paulo           SP  \n",
       " 3093            pelotas           RS  \n",
       " 3094            taubate           SP  \n",
       " \n",
       " [2940 rows x 4 columns]}"
      ]
     },
     "execution_count": 102,
     "metadata": {},
     "output_type": "execute_result"
    }
   ],
   "source": [
    "def olist_filter_and_save(\n",
    "    orders, order_items, payments, customer, products, sellers\n",
    "):\n",
    "    # Filtra as ordens até julho de 2018\n",
    "    orders_filtered = orders[orders['order_purchase_timestamp'] < '2018-08-01']\n",
    "\n",
    "    # IDs válidos\n",
    "    valid_order_ids = orders_filtered['order_id']\n",
    "    valid_customer_ids = orders_filtered['customer_id']\n",
    "\n",
    "    # Filtrando os demais dataframes com base nos dados válidos\n",
    "    order_items_filtered = order_items[order_items['order_id'].isin(valid_order_ids)]\n",
    "    payments_filtered = payments[payments['order_id'].isin(valid_order_ids)]\n",
    "    customer_filtered = customer[customer['customer_id'].isin(valid_customer_ids)]\n",
    "    products_filtered = products[products['product_id'].isin(order_items_filtered['product_id'])]\n",
    "    sellers_filtered = sellers[sellers['seller_id'].isin(order_items_filtered['seller_id'])]\n",
    "\n",
    "    # Dicionário com os DataFrames filtrados\n",
    "    dfs = {\n",
    "        \"orders\": orders_filtered,\n",
    "        \"order_items\": order_items_filtered,\n",
    "        \"payments\": payments_filtered,\n",
    "        \"customer\": customer_filtered,\n",
    "        \"products\": products_filtered,\n",
    "        \"sellers\": sellers_filtered,\n",
    "    }\n",
    "\n",
    "    # Caminho relativo para salvar\n",
    "    current_dir = os.getcwd()\n",
    "    processed_path = os.path.abspath(os.path.join(current_dir, \"..\", \"data\", \"processed\"))\n",
    "\n",
    "    # Salvar os DataFrames em arquivos CSV\n",
    "    for file_name, df in dfs.items():\n",
    "        file_path = os.path.join(processed_path, f\"{file_name}.csv\")\n",
    "        df.to_csv(file_path, index=False)\n",
    "\n",
    "    return dfs\n",
    "\n",
    "# Chama a função para aplicar o filtro e salvar os arquivos\n",
    "olist_filter_and_save(orders, order_items, payments, customer, products, sellers)\n",
    "\n"
   ]
  }
 ],
 "metadata": {
  "jupytext": {
   "cell_metadata_filter": "-all",
   "main_language": "python",
   "notebook_metadata_filter": "-all"
  },
  "kernelspec": {
   "display_name": "base",
   "language": "python",
   "name": "python3"
  },
  "language_info": {
   "codemirror_mode": {
    "name": "ipython",
    "version": 3
   },
   "file_extension": ".py",
   "mimetype": "text/x-python",
   "name": "python",
   "nbconvert_exporter": "python",
   "pygments_lexer": "ipython3",
   "version": "3.11.3"
  }
 },
 "nbformat": 4,
 "nbformat_minor": 5
}
