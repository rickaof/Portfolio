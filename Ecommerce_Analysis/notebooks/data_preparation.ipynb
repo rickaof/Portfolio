{
 "cells": [
  {
   "cell_type": "markdown",
   "id": "d1e19b91",
   "metadata": {},
   "source": [
    "## Data Loading"
   ]
  },
  {
   "cell_type": "code",
   "execution_count": 93,
   "id": "fa334fc9",
   "metadata": {},
   "outputs": [],
   "source": [
    "# Importing libraries\n",
    "import pandas as pd\n",
    "import os\n",
    "import matplotlib.pyplot as plt\n",
    "import seaborn as sns"
   ]
  },
  {
   "cell_type": "code",
   "execution_count": 49,
   "id": "eecab661",
   "metadata": {},
   "outputs": [],
   "source": [
    "# Define path to raw data files\n",
    "current_dir = os.getcwd()\n",
    "data_path = os.path.abspath(os.path.join(current_dir, \"..\", \"data\", \"raw\"))"
   ]
  },
  {
   "cell_type": "code",
   "execution_count": 50,
   "id": "ca2061ab",
   "metadata": {},
   "outputs": [],
   "source": [
    "# List files in the data directory\n",
    "files = os.listdir(data_path)"
   ]
  },
  {
   "cell_type": "code",
   "execution_count": 51,
   "id": "8f5b05fd",
   "metadata": {},
   "outputs": [],
   "source": [
    "# Create a dictionary where each key is a file name and the value is a DataFrame with the data.\n",
    "custom_names = {\n",
    "    \"olist_customers_dataset.csv\": \"customer\",\n",
    "    \"olist_geolocation_dataset.csv\": \"geolocation\",\n",
    "    \"olist_order_items_dataset.csv\": \"order_items\",\n",
    "    \"olist_order_payments_dataset.csv\": \"payments\",\n",
    "    \"olist_orders_dataset.csv\": \"orders\",\n",
    "    \"olist_products_dataset.csv\": \"products\",\n",
    "    \"olist_sellers_dataset.csv\": \"sellers\"\n",
    "}\n",
    "\n",
    "dfs = {\n",
    "    custom_names[file]: pd.read_csv(os.path.join(data_path, file))\n",
    "    for file in files if file in custom_names\n",
    "}"
   ]
  },
  {
   "cell_type": "code",
   "execution_count": 52,
   "id": "332feb0f",
   "metadata": {},
   "outputs": [
    {
     "name": "stdout",
     "output_type": "stream",
     "text": [
      "\n",
      "Dataset: customer\n",
      "(99441, 5)\n",
      "                        customer_id                customer_unique_id  \\\n",
      "0  06b8999e2fba1a1fbc88172c00ba8bc7  861eff4711a542e4b93843c6dd7febb0   \n",
      "1  18955e83d337fd6b2def6b18a428ac77  290c77bc529b7ac935b93aa66c333dc3   \n",
      "2  4e7b3e00288586ebd08712fdd0374a03  060e732b5b29e8181a18229c7b0b2b5e   \n",
      "3  b2b6027bc5c5109e529d4dc6358b12c3  259dac757896d24d7702b9acbbff3f3c   \n",
      "4  4f2d8ab171c80ec8364f7c12e35b23ad  345ecd01c38d18a9036ed96c73b8d066   \n",
      "\n",
      "   customer_zip_code_prefix          customer_city customer_state  \n",
      "0                     14409                 franca             SP  \n",
      "1                      9790  sao bernardo do campo             SP  \n",
      "2                      1151              sao paulo             SP  \n",
      "3                      8775        mogi das cruzes             SP  \n",
      "4                     13056               campinas             SP  \n",
      "\n",
      "Dataset: geolocation\n",
      "(1000163, 5)\n",
      "   geolocation_zip_code_prefix  geolocation_lat  geolocation_lng  \\\n",
      "0                         1037       -23.545621       -46.639292   \n",
      "1                         1046       -23.546081       -46.644820   \n",
      "2                         1046       -23.546129       -46.642951   \n",
      "3                         1041       -23.544392       -46.639499   \n",
      "4                         1035       -23.541578       -46.641607   \n",
      "\n",
      "  geolocation_city geolocation_state  \n",
      "0        sao paulo                SP  \n",
      "1        sao paulo                SP  \n",
      "2        sao paulo                SP  \n",
      "3        sao paulo                SP  \n",
      "4        sao paulo                SP  \n",
      "\n",
      "Dataset: orders\n",
      "(99441, 8)\n",
      "                           order_id                       customer_id  \\\n",
      "0  e481f51cbdc54678b7cc49136f2d6af7  9ef432eb6251297304e76186b10a928d   \n",
      "1  53cdb2fc8bc7dce0b6741e2150273451  b0830fb4747a6c6d20dea0b8c802d7ef   \n",
      "2  47770eb9100c2d0c44946d9cf07ec65d  41ce2a54c0b03bf3443c3d931a367089   \n",
      "3  949d5b44dbf5de918fe9c16f97b45f8a  f88197465ea7920adcdbec7375364d82   \n",
      "4  ad21c59c0840e6cb83a9ceb5573f8159  8ab97904e6daea8866dbdbc4fb7aad2c   \n",
      "\n",
      "  order_status order_purchase_timestamp    order_approved_at  \\\n",
      "0    delivered      2017-10-02 10:56:33  2017-10-02 11:07:15   \n",
      "1    delivered      2018-07-24 20:41:37  2018-07-26 03:24:27   \n",
      "2    delivered      2018-08-08 08:38:49  2018-08-08 08:55:23   \n",
      "3    delivered      2017-11-18 19:28:06  2017-11-18 19:45:59   \n",
      "4    delivered      2018-02-13 21:18:39  2018-02-13 22:20:29   \n",
      "\n",
      "  order_delivered_carrier_date order_delivered_customer_date  \\\n",
      "0          2017-10-04 19:55:00           2017-10-10 21:25:13   \n",
      "1          2018-07-26 14:31:00           2018-08-07 15:27:45   \n",
      "2          2018-08-08 13:50:00           2018-08-17 18:06:29   \n",
      "3          2017-11-22 13:39:59           2017-12-02 00:28:42   \n",
      "4          2018-02-14 19:46:34           2018-02-16 18:17:02   \n",
      "\n",
      "  order_estimated_delivery_date  \n",
      "0           2017-10-18 00:00:00  \n",
      "1           2018-08-13 00:00:00  \n",
      "2           2018-09-04 00:00:00  \n",
      "3           2017-12-15 00:00:00  \n",
      "4           2018-02-26 00:00:00  \n",
      "\n",
      "Dataset: order_items\n",
      "(112650, 7)\n",
      "                           order_id  order_item_id  \\\n",
      "0  00010242fe8c5a6d1ba2dd792cb16214              1   \n",
      "1  00018f77f2f0320c557190d7a144bdd3              1   \n",
      "2  000229ec398224ef6ca0657da4fc703e              1   \n",
      "3  00024acbcdf0a6daa1e931b038114c75              1   \n",
      "4  00042b26cf59d7ce69dfabb4e55b4fd9              1   \n",
      "\n",
      "                         product_id                         seller_id  \\\n",
      "0  4244733e06e7ecb4970a6e2683c13e61  48436dade18ac8b2bce089ec2a041202   \n",
      "1  e5f2d52b802189ee658865ca93d83a8f  dd7ddc04e1b6c2c614352b383efe2d36   \n",
      "2  c777355d18b72b67abbeef9df44fd0fd  5b51032eddd242adc84c38acab88f23d   \n",
      "3  7634da152a4610f1595efa32f14722fc  9d7a1d34a5052409006425275ba1c2b4   \n",
      "4  ac6c3623068f30de03045865e4e10089  df560393f3a51e74553ab94004ba5c87   \n",
      "\n",
      "   shipping_limit_date   price  freight_value  \n",
      "0  2017-09-19 09:45:35   58.90          13.29  \n",
      "1  2017-05-03 11:05:13  239.90          19.93  \n",
      "2  2018-01-18 14:48:30  199.00          17.87  \n",
      "3  2018-08-15 10:10:18   12.99          12.79  \n",
      "4  2017-02-13 13:57:51  199.90          18.14  \n",
      "\n",
      "Dataset: payments\n",
      "(103886, 5)\n",
      "                           order_id  payment_sequential payment_type  \\\n",
      "0  b81ef226f3fe1789b1e8b2acac839d17                   1  credit_card   \n",
      "1  a9810da82917af2d9aefd1278f1dcfa0                   1  credit_card   \n",
      "2  25e8ea4e93396b6fa0d3dd708e76c1bd                   1  credit_card   \n",
      "3  ba78997921bbcdc1373bb41e913ab953                   1  credit_card   \n",
      "4  42fdf880ba16b47b59251dd489d4441a                   1  credit_card   \n",
      "\n",
      "   payment_installments  payment_value  \n",
      "0                     8          99.33  \n",
      "1                     1          24.39  \n",
      "2                     1          65.71  \n",
      "3                     8         107.78  \n",
      "4                     2         128.45  \n",
      "\n",
      "Dataset: products\n",
      "(32951, 9)\n",
      "                         product_id  product_category_name  \\\n",
      "0  1e9e8ef04dbcff4541ed26657ea517e5             perfumaria   \n",
      "1  3aa071139cb16b67ca9e5dea641aaa2f                  artes   \n",
      "2  96bd76ec8810374ed1b65e291975717f          esporte_lazer   \n",
      "3  cef67bcfe19066a932b7673e239eb23d                  bebes   \n",
      "4  9dc1a7de274444849c219cff195d0b71  utilidades_domesticas   \n",
      "\n",
      "   product_name_lenght  product_description_lenght  product_photos_qty  \\\n",
      "0                 40.0                       287.0                 1.0   \n",
      "1                 44.0                       276.0                 1.0   \n",
      "2                 46.0                       250.0                 1.0   \n",
      "3                 27.0                       261.0                 1.0   \n",
      "4                 37.0                       402.0                 4.0   \n",
      "\n",
      "   product_weight_g  product_length_cm  product_height_cm  product_width_cm  \n",
      "0             225.0               16.0               10.0              14.0  \n",
      "1            1000.0               30.0               18.0              20.0  \n",
      "2             154.0               18.0                9.0              15.0  \n",
      "3             371.0               26.0                4.0              26.0  \n",
      "4             625.0               20.0               17.0              13.0  \n",
      "\n",
      "Dataset: sellers\n",
      "(3095, 4)\n",
      "                          seller_id  seller_zip_code_prefix  \\\n",
      "0  3442f8959a84dea7ee197c632cb2df15                   13023   \n",
      "1  d1b65fc7debc3361ea86b5f14c68d2e2                   13844   \n",
      "2  ce3ad9de960102d0677a81f5d0bb7b2d                   20031   \n",
      "3  c0f3eea2e14555b6faeea3dd58c1b1c3                    4195   \n",
      "4  51a04a8a6bdcb23deccc82b0b80742cf                   12914   \n",
      "\n",
      "         seller_city seller_state  \n",
      "0           campinas           SP  \n",
      "1         mogi guacu           SP  \n",
      "2     rio de janeiro           RJ  \n",
      "3          sao paulo           SP  \n",
      "4  braganca paulista           SP  \n"
     ]
    }
   ],
   "source": [
    "# Display information about each loaded dataset.\n",
    "for file, df in dfs.items():\n",
    "    print(f\"\\nDataset: {file}\")\n",
    "    print(df.shape)\n",
    "    print(df.head())"
   ]
  },
  {
   "cell_type": "markdown",
   "id": "1df768ef",
   "metadata": {},
   "source": [
    "## Orders Dataframe: treatment and Type Conversion"
   ]
  },
  {
   "cell_type": "code",
   "execution_count": 53,
   "id": "e41db7c7",
   "metadata": {},
   "outputs": [],
   "source": [
    "orders = dfs[\"orders\"]  # Extract the 'orders' DataFrame"
   ]
  },
  {
   "cell_type": "code",
   "execution_count": 54,
   "id": "903530c1",
   "metadata": {},
   "outputs": [
    {
     "name": "stdout",
     "output_type": "stream",
     "text": [
      "                           order_id                       customer_id  \\\n",
      "0  e481f51cbdc54678b7cc49136f2d6af7  9ef432eb6251297304e76186b10a928d   \n",
      "1  53cdb2fc8bc7dce0b6741e2150273451  b0830fb4747a6c6d20dea0b8c802d7ef   \n",
      "2  47770eb9100c2d0c44946d9cf07ec65d  41ce2a54c0b03bf3443c3d931a367089   \n",
      "3  949d5b44dbf5de918fe9c16f97b45f8a  f88197465ea7920adcdbec7375364d82   \n",
      "4  ad21c59c0840e6cb83a9ceb5573f8159  8ab97904e6daea8866dbdbc4fb7aad2c   \n",
      "\n",
      "  order_status order_purchase_timestamp    order_approved_at  \\\n",
      "0    delivered      2017-10-02 10:56:33  2017-10-02 11:07:15   \n",
      "1    delivered      2018-07-24 20:41:37  2018-07-26 03:24:27   \n",
      "2    delivered      2018-08-08 08:38:49  2018-08-08 08:55:23   \n",
      "3    delivered      2017-11-18 19:28:06  2017-11-18 19:45:59   \n",
      "4    delivered      2018-02-13 21:18:39  2018-02-13 22:20:29   \n",
      "\n",
      "  order_delivered_carrier_date order_delivered_customer_date  \\\n",
      "0          2017-10-04 19:55:00           2017-10-10 21:25:13   \n",
      "1          2018-07-26 14:31:00           2018-08-07 15:27:45   \n",
      "2          2018-08-08 13:50:00           2018-08-17 18:06:29   \n",
      "3          2017-11-22 13:39:59           2017-12-02 00:28:42   \n",
      "4          2018-02-14 19:46:34           2018-02-16 18:17:02   \n",
      "\n",
      "  order_estimated_delivery_date  \n",
      "0           2017-10-18 00:00:00  \n",
      "1           2018-08-13 00:00:00  \n",
      "2           2018-09-04 00:00:00  \n",
      "3           2017-12-15 00:00:00  \n",
      "4           2018-02-26 00:00:00  \n"
     ]
    }
   ],
   "source": [
    "pd.set_option(\"display.max_columns\", None)\n",
    "print(orders.head())"
   ]
  },
  {
   "cell_type": "markdown",
   "id": "dd3403eb",
   "metadata": {},
   "source": [
    "#### Null and Missing values treatment"
   ]
  },
  {
   "cell_type": "code",
   "execution_count": 55,
   "id": "ce8bc2e7",
   "metadata": {},
   "outputs": [
    {
     "name": "stdout",
     "output_type": "stream",
     "text": [
      "order_id                            0\n",
      "customer_id                         0\n",
      "order_status                        0\n",
      "order_purchase_timestamp            0\n",
      "order_approved_at                 160\n",
      "order_delivered_carrier_date     1783\n",
      "order_delivered_customer_date    2965\n",
      "order_estimated_delivery_date       0\n",
      "dtype: int64\n"
     ]
    }
   ],
   "source": [
    "# Identifying null or missing values.\n",
    "print(orders.isnull().sum())"
   ]
  },
  {
   "cell_type": "markdown",
   "id": "8d58c7a7",
   "metadata": {},
   "source": [
    "There are null numerical values in the order approval date column, indicating that the orders were not approved. The shipping date column also contains null values, indicating that the order was not shipped. Lastly, the delivery date column also contains null values, indicating that the order was not delivered. However, the data will be kept as is, since the column type will be changed to datetime and the null values will become NaT (Not a Time). This maintains data consistency and avoids issues with operations involving dates."
   ]
  },
  {
   "cell_type": "code",
   "execution_count": 56,
   "id": "72fae833",
   "metadata": {},
   "outputs": [
    {
     "name": "stdout",
     "output_type": "stream",
     "text": [
      "order_id                         object\n",
      "customer_id                      object\n",
      "order_status                     object\n",
      "order_purchase_timestamp         object\n",
      "order_approved_at                object\n",
      "order_delivered_carrier_date     object\n",
      "order_delivered_customer_date    object\n",
      "order_estimated_delivery_date    object\n",
      "dtype: object\n"
     ]
    }
   ],
   "source": [
    "# Checking column data types\n",
    "print(orders.dtypes)"
   ]
  },
  {
   "cell_type": "markdown",
   "id": "0021638d",
   "metadata": {},
   "source": [
    "#### Columns type conversion\n"
   ]
  },
  {
   "cell_type": "markdown",
   "id": "9f1d8739",
   "metadata": {},
   "source": [
    "Converting date columns from object to datetime"
   ]
  },
  {
   "cell_type": "code",
   "execution_count": 57,
   "id": "f75fec7b",
   "metadata": {},
   "outputs": [],
   "source": [
    "\n",
    "date_columns = [\n",
    "    \"order_purchase_timestamp\",\n",
    "    \"order_approved_at\",\n",
    "    \"order_delivered_carrier_date\",\n",
    "    \"order_delivered_customer_date\",\n",
    "    \"order_estimated_delivery_date\"\n",
    "]"
   ]
  },
  {
   "cell_type": "code",
   "execution_count": 58,
   "id": "0ac027b7",
   "metadata": {},
   "outputs": [],
   "source": [
    "for col in date_columns:\n",
    "    orders[col] = pd.to_datetime(orders[col], errors=\"coerce\")"
   ]
  },
  {
   "cell_type": "markdown",
   "id": "fc68bfe3",
   "metadata": {},
   "source": [
    "Converting \"order status\" column from object to category"
   ]
  },
  {
   "cell_type": "code",
   "execution_count": 59,
   "id": "ef321520",
   "metadata": {},
   "outputs": [],
   "source": [
    "orders[\"order_status\"] = orders[\"order_status\"].astype(\"category\")"
   ]
  },
  {
   "cell_type": "code",
   "execution_count": 60,
   "id": "6b280975",
   "metadata": {},
   "outputs": [
    {
     "name": "stdout",
     "output_type": "stream",
     "text": [
      "order_id                                 object\n",
      "customer_id                              object\n",
      "order_status                           category\n",
      "order_purchase_timestamp         datetime64[ns]\n",
      "order_approved_at                datetime64[ns]\n",
      "order_delivered_carrier_date     datetime64[ns]\n",
      "order_delivered_customer_date    datetime64[ns]\n",
      "order_estimated_delivery_date    datetime64[ns]\n",
      "dtype: object\n"
     ]
    }
   ],
   "source": [
    "# Checking if the type conversion was succeessful\n",
    "print(orders.dtypes)"
   ]
  },
  {
   "cell_type": "markdown",
   "id": "315a98e3",
   "metadata": {},
   "source": [
    "## Orders Items Dataframe: treatment and Type Conversion"
   ]
  },
  {
   "cell_type": "code",
   "execution_count": 61,
   "id": "488dd716",
   "metadata": {},
   "outputs": [],
   "source": [
    "order_items = dfs[\"order_items\"]  # Extract the 'order_items' DataFrame"
   ]
  },
  {
   "cell_type": "code",
   "execution_count": 62,
   "id": "b15053af",
   "metadata": {},
   "outputs": [
    {
     "name": "stdout",
     "output_type": "stream",
     "text": [
      "                           order_id  order_item_id  \\\n",
      "0  00010242fe8c5a6d1ba2dd792cb16214              1   \n",
      "1  00018f77f2f0320c557190d7a144bdd3              1   \n",
      "2  000229ec398224ef6ca0657da4fc703e              1   \n",
      "3  00024acbcdf0a6daa1e931b038114c75              1   \n",
      "4  00042b26cf59d7ce69dfabb4e55b4fd9              1   \n",
      "\n",
      "                         product_id                         seller_id  \\\n",
      "0  4244733e06e7ecb4970a6e2683c13e61  48436dade18ac8b2bce089ec2a041202   \n",
      "1  e5f2d52b802189ee658865ca93d83a8f  dd7ddc04e1b6c2c614352b383efe2d36   \n",
      "2  c777355d18b72b67abbeef9df44fd0fd  5b51032eddd242adc84c38acab88f23d   \n",
      "3  7634da152a4610f1595efa32f14722fc  9d7a1d34a5052409006425275ba1c2b4   \n",
      "4  ac6c3623068f30de03045865e4e10089  df560393f3a51e74553ab94004ba5c87   \n",
      "\n",
      "   shipping_limit_date   price  freight_value  \n",
      "0  2017-09-19 09:45:35   58.90          13.29  \n",
      "1  2017-05-03 11:05:13  239.90          19.93  \n",
      "2  2018-01-18 14:48:30  199.00          17.87  \n",
      "3  2018-08-15 10:10:18   12.99          12.79  \n",
      "4  2017-02-13 13:57:51  199.90          18.14  \n"
     ]
    }
   ],
   "source": [
    "pd.set_option(\"display.max_columns\", None)\n",
    "print(order_items.head())"
   ]
  },
  {
   "cell_type": "markdown",
   "id": "facc2223",
   "metadata": {},
   "source": [
    "#### Null and Missing values treatment"
   ]
  },
  {
   "cell_type": "code",
   "execution_count": 63,
   "id": "af4f837b",
   "metadata": {},
   "outputs": [
    {
     "name": "stdout",
     "output_type": "stream",
     "text": [
      "order_id               0\n",
      "order_item_id          0\n",
      "product_id             0\n",
      "seller_id              0\n",
      "shipping_limit_date    0\n",
      "price                  0\n",
      "freight_value          0\n",
      "dtype: int64\n"
     ]
    }
   ],
   "source": [
    "# Identifying null or missing values.\n",
    "print(order_items.isnull().sum())"
   ]
  },
  {
   "cell_type": "markdown",
   "id": "21af44da",
   "metadata": {},
   "source": [
    "There are no null or missing values in the dataframe."
   ]
  },
  {
   "cell_type": "markdown",
   "id": "9df8deb9",
   "metadata": {},
   "source": [
    "#### Columns type conversion"
   ]
  },
  {
   "cell_type": "code",
   "execution_count": 64,
   "id": "7036106d",
   "metadata": {},
   "outputs": [
    {
     "name": "stdout",
     "output_type": "stream",
     "text": [
      "order_id                object\n",
      "order_item_id            int64\n",
      "product_id              object\n",
      "seller_id               object\n",
      "shipping_limit_date     object\n",
      "price                  float64\n",
      "freight_value          float64\n",
      "dtype: object\n"
     ]
    }
   ],
   "source": [
    "# Checking column data types\n",
    "print(order_items.dtypes)"
   ]
  },
  {
   "cell_type": "markdown",
   "id": "74d82841",
   "metadata": {},
   "source": [
    "Converting date columns from object to datetime"
   ]
  },
  {
   "cell_type": "code",
   "execution_count": 65,
   "id": "e0cd5115",
   "metadata": {},
   "outputs": [],
   "source": [
    "order_items[\"shipping_limit_date\"] = pd.to_datetime(\n",
    "    order_items[\"shipping_limit_date\"], errors=\"coerce\")"
   ]
  },
  {
   "cell_type": "code",
   "execution_count": 66,
   "id": "21311f2b",
   "metadata": {},
   "outputs": [
    {
     "name": "stdout",
     "output_type": "stream",
     "text": [
      "order_id                       object\n",
      "order_item_id                   int64\n",
      "product_id                     object\n",
      "seller_id                      object\n",
      "shipping_limit_date    datetime64[ns]\n",
      "price                         float64\n",
      "freight_value                 float64\n",
      "dtype: object\n"
     ]
    }
   ],
   "source": [
    "# Checking if the type conversion was succeessful\n",
    "print(order_items.dtypes)"
   ]
  },
  {
   "cell_type": "markdown",
   "id": "6af5edda",
   "metadata": {},
   "source": [
    "## Customers Dataframe: treatment and Type Conversion"
   ]
  },
  {
   "cell_type": "code",
   "execution_count": 67,
   "id": "d09bbb0b",
   "metadata": {},
   "outputs": [],
   "source": [
    "customer = dfs[\"customer\"]  # Extract the 'customers' DataFrame"
   ]
  },
  {
   "cell_type": "code",
   "execution_count": 68,
   "id": "66185dce",
   "metadata": {},
   "outputs": [
    {
     "name": "stdout",
     "output_type": "stream",
     "text": [
      "                        customer_id                customer_unique_id  \\\n",
      "0  06b8999e2fba1a1fbc88172c00ba8bc7  861eff4711a542e4b93843c6dd7febb0   \n",
      "1  18955e83d337fd6b2def6b18a428ac77  290c77bc529b7ac935b93aa66c333dc3   \n",
      "2  4e7b3e00288586ebd08712fdd0374a03  060e732b5b29e8181a18229c7b0b2b5e   \n",
      "3  b2b6027bc5c5109e529d4dc6358b12c3  259dac757896d24d7702b9acbbff3f3c   \n",
      "4  4f2d8ab171c80ec8364f7c12e35b23ad  345ecd01c38d18a9036ed96c73b8d066   \n",
      "\n",
      "   customer_zip_code_prefix          customer_city customer_state  \n",
      "0                     14409                 franca             SP  \n",
      "1                      9790  sao bernardo do campo             SP  \n",
      "2                      1151              sao paulo             SP  \n",
      "3                      8775        mogi das cruzes             SP  \n",
      "4                     13056               campinas             SP  \n"
     ]
    }
   ],
   "source": [
    "pd.set_option(\"display.max_columns\", None)\n",
    "print(customer.head())"
   ]
  },
  {
   "cell_type": "markdown",
   "id": "8f6ea127",
   "metadata": {},
   "source": [
    "#### Null and Missing values treatment"
   ]
  },
  {
   "cell_type": "code",
   "execution_count": 69,
   "id": "93bcbd27",
   "metadata": {},
   "outputs": [
    {
     "name": "stdout",
     "output_type": "stream",
     "text": [
      "customer_id                 0\n",
      "customer_unique_id          0\n",
      "customer_zip_code_prefix    0\n",
      "customer_city               0\n",
      "customer_state              0\n",
      "dtype: int64\n"
     ]
    }
   ],
   "source": [
    "# Identifying null or missing values.\n",
    "print(customer.isnull().sum())"
   ]
  },
  {
   "cell_type": "markdown",
   "id": "8b2b07db",
   "metadata": {},
   "source": [
    "There are no null or missing values in the dataframe."
   ]
  },
  {
   "cell_type": "markdown",
   "id": "f5350e8b",
   "metadata": {},
   "source": [
    "#### Columns type conversion"
   ]
  },
  {
   "cell_type": "code",
   "execution_count": 70,
   "id": "a5eab4b8",
   "metadata": {},
   "outputs": [
    {
     "name": "stdout",
     "output_type": "stream",
     "text": [
      "customer_id                 object\n",
      "customer_unique_id          object\n",
      "customer_zip_code_prefix     int64\n",
      "customer_city               object\n",
      "customer_state              object\n",
      "dtype: object\n"
     ]
    }
   ],
   "source": [
    "# Checking column data types\n",
    "print(customer.dtypes)"
   ]
  },
  {
   "cell_type": "markdown",
   "id": "b22f5acd",
   "metadata": {},
   "source": [
    "The column data types are correct."
   ]
  },
  {
   "cell_type": "markdown",
   "id": "327b9320",
   "metadata": {},
   "source": [
    "## Products Dataframe: treatment and Type Conversion"
   ]
  },
  {
   "cell_type": "code",
   "execution_count": 71,
   "id": "768b889d",
   "metadata": {},
   "outputs": [],
   "source": [
    "products = dfs[\"products\"]  # Extract the 'products' DataFrame"
   ]
  },
  {
   "cell_type": "code",
   "execution_count": 72,
   "id": "453db718",
   "metadata": {},
   "outputs": [
    {
     "name": "stdout",
     "output_type": "stream",
     "text": [
      "                         product_id  product_category_name  \\\n",
      "0  1e9e8ef04dbcff4541ed26657ea517e5             perfumaria   \n",
      "1  3aa071139cb16b67ca9e5dea641aaa2f                  artes   \n",
      "2  96bd76ec8810374ed1b65e291975717f          esporte_lazer   \n",
      "3  cef67bcfe19066a932b7673e239eb23d                  bebes   \n",
      "4  9dc1a7de274444849c219cff195d0b71  utilidades_domesticas   \n",
      "\n",
      "   product_name_lenght  product_description_lenght  product_photos_qty  \\\n",
      "0                 40.0                       287.0                 1.0   \n",
      "1                 44.0                       276.0                 1.0   \n",
      "2                 46.0                       250.0                 1.0   \n",
      "3                 27.0                       261.0                 1.0   \n",
      "4                 37.0                       402.0                 4.0   \n",
      "\n",
      "   product_weight_g  product_length_cm  product_height_cm  product_width_cm  \n",
      "0             225.0               16.0               10.0              14.0  \n",
      "1            1000.0               30.0               18.0              20.0  \n",
      "2             154.0               18.0                9.0              15.0  \n",
      "3             371.0               26.0                4.0              26.0  \n",
      "4             625.0               20.0               17.0              13.0  \n"
     ]
    }
   ],
   "source": [
    "pd.set_option(\"display.max_columns\", None)\n",
    "print(products.head())"
   ]
  },
  {
   "cell_type": "markdown",
   "id": "cd118b51",
   "metadata": {},
   "source": [
    "#### Null and Missing values treatment"
   ]
  },
  {
   "cell_type": "code",
   "execution_count": 73,
   "id": "ba2c5318",
   "metadata": {},
   "outputs": [
    {
     "name": "stdout",
     "output_type": "stream",
     "text": [
      "product_id                      0\n",
      "product_category_name         610\n",
      "product_name_lenght           610\n",
      "product_description_lenght    610\n",
      "product_photos_qty            610\n",
      "product_weight_g                2\n",
      "product_length_cm               2\n",
      "product_height_cm               2\n",
      "product_width_cm                2\n",
      "dtype: int64\n"
     ]
    }
   ],
   "source": [
    "# Identifying null or missing values.\n",
    "print(products.isnull().sum())"
   ]
  },
  {
   "cell_type": "markdown",
   "id": "33402ace",
   "metadata": {},
   "source": [
    "Null values were found in the product category name, which will be filled with \"Unknown\". Null values were also found in the columns: product name length, description length, and number of photos. These will be filled with the median to avoid distortions caused by extreme values. Finally, two null values were found in the columns: weight, length, height, and width. All of these will also be filled with the median."
   ]
  },
  {
   "cell_type": "code",
   "execution_count": 74,
   "id": "7c109f9a",
   "metadata": {},
   "outputs": [],
   "source": [
    "# Null and missing values treatment.\n",
    "products[\"product_category_name\"].fillna(\"Unknown\", inplace=True)\n",
    "num_cols = [\n",
    "    \"product_name_lenght\", \"product_description_lenght\",\n",
    "    \"product_photos_qty\", \"product_weight_g\", \"product_length_cm\",\n",
    "    \"product_height_cm\", \"product_width_cm\"\n",
    "]\n",
    "for col in num_cols:\n",
    "    products[col].fillna(products[col].median(), inplace=True)"
   ]
  },
  {
   "cell_type": "code",
   "execution_count": 75,
   "id": "ece07073",
   "metadata": {},
   "outputs": [
    {
     "name": "stdout",
     "output_type": "stream",
     "text": [
      "product_id                    0\n",
      "product_category_name         0\n",
      "product_name_lenght           0\n",
      "product_description_lenght    0\n",
      "product_photos_qty            0\n",
      "product_weight_g              0\n",
      "product_length_cm             0\n",
      "product_height_cm             0\n",
      "product_width_cm              0\n",
      "dtype: int64\n"
     ]
    }
   ],
   "source": [
    "# Checking if the null and missing values were treated.\n",
    "print(products.isnull().sum())"
   ]
  },
  {
   "cell_type": "markdown",
   "id": "0165b066",
   "metadata": {},
   "source": [
    "#### Columns type conversion"
   ]
  },
  {
   "cell_type": "code",
   "execution_count": 76,
   "id": "8ab13bdc",
   "metadata": {},
   "outputs": [
    {
     "name": "stdout",
     "output_type": "stream",
     "text": [
      "customer_id                 object\n",
      "customer_unique_id          object\n",
      "customer_zip_code_prefix     int64\n",
      "customer_city               object\n",
      "customer_state              object\n",
      "dtype: object\n"
     ]
    }
   ],
   "source": [
    "# Checking column data types\n",
    "# Check data_preparation.ipynb notebook for treatment details.\n",
    "print(customer.dtypes)"
   ]
  },
  {
   "cell_type": "markdown",
   "id": "ba531290",
   "metadata": {},
   "source": [
    "The column data types are correct."
   ]
  },
  {
   "cell_type": "markdown",
   "id": "62f2ebe2",
   "metadata": {},
   "source": [
    "## Sellers Dataframe: treatment and Type Conversion"
   ]
  },
  {
   "cell_type": "code",
   "execution_count": 77,
   "id": "22f87c31",
   "metadata": {},
   "outputs": [],
   "source": [
    "sellers = dfs[\"sellers\"]  # Extract the 'sellers' DataFrame"
   ]
  },
  {
   "cell_type": "code",
   "execution_count": 78,
   "id": "b1b89b6b",
   "metadata": {},
   "outputs": [
    {
     "name": "stdout",
     "output_type": "stream",
     "text": [
      "                          seller_id  seller_zip_code_prefix  \\\n",
      "0  3442f8959a84dea7ee197c632cb2df15                   13023   \n",
      "1  d1b65fc7debc3361ea86b5f14c68d2e2                   13844   \n",
      "2  ce3ad9de960102d0677a81f5d0bb7b2d                   20031   \n",
      "3  c0f3eea2e14555b6faeea3dd58c1b1c3                    4195   \n",
      "4  51a04a8a6bdcb23deccc82b0b80742cf                   12914   \n",
      "\n",
      "         seller_city seller_state  \n",
      "0           campinas           SP  \n",
      "1         mogi guacu           SP  \n",
      "2     rio de janeiro           RJ  \n",
      "3          sao paulo           SP  \n",
      "4  braganca paulista           SP  \n"
     ]
    }
   ],
   "source": [
    "pd.set_option(\"display.max_columns\", None)\n",
    "print(sellers.head())"
   ]
  },
  {
   "cell_type": "markdown",
   "id": "3d200ea0",
   "metadata": {},
   "source": [
    "#### Null and Missing values treatment"
   ]
  },
  {
   "cell_type": "code",
   "execution_count": 79,
   "id": "00a4c40d",
   "metadata": {},
   "outputs": [
    {
     "name": "stdout",
     "output_type": "stream",
     "text": [
      "seller_id                 0\n",
      "seller_zip_code_prefix    0\n",
      "seller_city               0\n",
      "seller_state              0\n",
      "dtype: int64\n"
     ]
    }
   ],
   "source": [
    "# Identifying null or missing values.\n",
    "print(sellers.isnull().sum())"
   ]
  },
  {
   "cell_type": "markdown",
   "id": "8022f12d",
   "metadata": {},
   "source": [
    "There are no null or missing values in the dataframe."
   ]
  },
  {
   "cell_type": "markdown",
   "id": "e4ac3d31",
   "metadata": {},
   "source": [
    "#### Columns type conversion"
   ]
  },
  {
   "cell_type": "code",
   "execution_count": 80,
   "id": "27ed8e1a",
   "metadata": {},
   "outputs": [
    {
     "name": "stdout",
     "output_type": "stream",
     "text": [
      "seller_id                 object\n",
      "seller_zip_code_prefix     int64\n",
      "seller_city               object\n",
      "seller_state              object\n",
      "dtype: object\n"
     ]
    }
   ],
   "source": [
    "# Checking column data types\n",
    "print(sellers.dtypes)"
   ]
  },
  {
   "cell_type": "markdown",
   "id": "960c5158",
   "metadata": {},
   "source": [
    "The column data types are correct."
   ]
  },
  {
   "cell_type": "markdown",
   "id": "6fcc1f9c",
   "metadata": {},
   "source": [
    "## Payments Dataframe: treatment and Type Conversion"
   ]
  },
  {
   "cell_type": "code",
   "execution_count": 81,
   "id": "383deb1a",
   "metadata": {},
   "outputs": [],
   "source": [
    "payments = dfs[\"payments\"]  # Extract the 'payments' DataFrame"
   ]
  },
  {
   "cell_type": "code",
   "execution_count": 82,
   "id": "1eed9058",
   "metadata": {},
   "outputs": [
    {
     "name": "stdout",
     "output_type": "stream",
     "text": [
      "                           order_id  payment_sequential payment_type  \\\n",
      "0  b81ef226f3fe1789b1e8b2acac839d17                   1  credit_card   \n",
      "1  a9810da82917af2d9aefd1278f1dcfa0                   1  credit_card   \n",
      "2  25e8ea4e93396b6fa0d3dd708e76c1bd                   1  credit_card   \n",
      "3  ba78997921bbcdc1373bb41e913ab953                   1  credit_card   \n",
      "4  42fdf880ba16b47b59251dd489d4441a                   1  credit_card   \n",
      "\n",
      "   payment_installments  payment_value  \n",
      "0                     8          99.33  \n",
      "1                     1          24.39  \n",
      "2                     1          65.71  \n",
      "3                     8         107.78  \n",
      "4                     2         128.45  \n"
     ]
    }
   ],
   "source": [
    "pd.set_option(\"display.max_columns\", None)\n",
    "print(payments.head())"
   ]
  },
  {
   "cell_type": "markdown",
   "id": "58ead4e7",
   "metadata": {},
   "source": [
    "#### Null and Missing values treatment"
   ]
  },
  {
   "cell_type": "code",
   "execution_count": 83,
   "id": "e83593cc",
   "metadata": {},
   "outputs": [
    {
     "name": "stdout",
     "output_type": "stream",
     "text": [
      "order_id                0\n",
      "payment_sequential      0\n",
      "payment_type            0\n",
      "payment_installments    0\n",
      "payment_value           0\n",
      "dtype: int64\n"
     ]
    }
   ],
   "source": [
    "# Identifying null or missing values.\n",
    "print(payments.isnull().sum())"
   ]
  },
  {
   "cell_type": "markdown",
   "id": "a9123a83",
   "metadata": {},
   "source": [
    "There are no null or missing values in the dataframe."
   ]
  },
  {
   "cell_type": "markdown",
   "id": "4c12bda1",
   "metadata": {},
   "source": [
    "#### Columns type conversion"
   ]
  },
  {
   "cell_type": "code",
   "execution_count": 84,
   "id": "ea882b1b",
   "metadata": {},
   "outputs": [
    {
     "name": "stdout",
     "output_type": "stream",
     "text": [
      "order_id                 object\n",
      "payment_sequential        int64\n",
      "payment_type             object\n",
      "payment_installments      int64\n",
      "payment_value           float64\n",
      "dtype: object\n"
     ]
    }
   ],
   "source": [
    "# Checking column data types\n",
    "print(payments.dtypes)"
   ]
  },
  {
   "cell_type": "markdown",
   "id": "e5053e71",
   "metadata": {},
   "source": [
    "Converting 'payment_type' column from object to category."
   ]
  },
  {
   "cell_type": "code",
   "execution_count": 85,
   "id": "4eb2d1d8",
   "metadata": {},
   "outputs": [],
   "source": [
    "payments[\"payment_type\"] = payments[\"payment_type\"].astype(\"category\")"
   ]
  },
  {
   "cell_type": "code",
   "execution_count": 86,
   "id": "506ca581",
   "metadata": {},
   "outputs": [
    {
     "name": "stdout",
     "output_type": "stream",
     "text": [
      "category\n"
     ]
    }
   ],
   "source": [
    "# Checking if the type conversion was succeessful\n",
    "print(payments[\"payment_type\"].dtypes)"
   ]
  },
  {
   "cell_type": "markdown",
   "id": "9985fdb8",
   "metadata": {},
   "source": [
    "## Geolocation: treatment and Type Conversion"
   ]
  },
  {
   "cell_type": "code",
   "execution_count": 87,
   "id": "8df77f61",
   "metadata": {},
   "outputs": [],
   "source": [
    "geolocation = dfs[\"geolocation\"]  # Extract the 'geolocation' DataFrame"
   ]
  },
  {
   "cell_type": "code",
   "execution_count": 88,
   "id": "901b9f8d",
   "metadata": {},
   "outputs": [
    {
     "name": "stdout",
     "output_type": "stream",
     "text": [
      "   geolocation_zip_code_prefix  geolocation_lat  geolocation_lng  \\\n",
      "0                         1037       -23.545621       -46.639292   \n",
      "1                         1046       -23.546081       -46.644820   \n",
      "2                         1046       -23.546129       -46.642951   \n",
      "3                         1041       -23.544392       -46.639499   \n",
      "4                         1035       -23.541578       -46.641607   \n",
      "\n",
      "  geolocation_city geolocation_state  \n",
      "0        sao paulo                SP  \n",
      "1        sao paulo                SP  \n",
      "2        sao paulo                SP  \n",
      "3        sao paulo                SP  \n",
      "4        sao paulo                SP  \n"
     ]
    }
   ],
   "source": [
    "pd.set_option(\"display.max_columns\", None)\n",
    "print(geolocation.head())"
   ]
  },
  {
   "cell_type": "markdown",
   "id": "c6fb7b54",
   "metadata": {},
   "source": [
    "#### Null and Missing values treatment"
   ]
  },
  {
   "cell_type": "code",
   "execution_count": 89,
   "id": "12302f2a",
   "metadata": {},
   "outputs": [
    {
     "name": "stdout",
     "output_type": "stream",
     "text": [
      "geolocation_zip_code_prefix    0\n",
      "geolocation_lat                0\n",
      "geolocation_lng                0\n",
      "geolocation_city               0\n",
      "geolocation_state              0\n",
      "dtype: int64\n"
     ]
    }
   ],
   "source": [
    "# Identifying null or missing values.\n",
    "print(geolocation.isnull().sum())"
   ]
  },
  {
   "cell_type": "markdown",
   "id": "ab5c891d",
   "metadata": {},
   "source": [
    "There are no null or missing values in the dataframe."
   ]
  },
  {
   "cell_type": "markdown",
   "id": "68f4d01d",
   "metadata": {},
   "source": [
    "#### Columns type conversion"
   ]
  },
  {
   "cell_type": "code",
   "execution_count": 90,
   "id": "628d42c4",
   "metadata": {},
   "outputs": [
    {
     "name": "stdout",
     "output_type": "stream",
     "text": [
      "geolocation_zip_code_prefix      int64\n",
      "geolocation_lat                float64\n",
      "geolocation_lng                float64\n",
      "geolocation_city                object\n",
      "geolocation_state               object\n",
      "dtype: object\n"
     ]
    }
   ],
   "source": [
    "# Checking column data types\n",
    "print(geolocation.dtypes)"
   ]
  },
  {
   "cell_type": "markdown",
   "id": "7af2277a",
   "metadata": {},
   "source": [
    "The column data types are correct."
   ]
  },
  {
   "cell_type": "markdown",
   "id": "3c5c2cff",
   "metadata": {},
   "source": [
    "## Saving the processed Dataframes"
   ]
  },
  {
   "cell_type": "code",
   "execution_count": 91,
   "id": "212acc17",
   "metadata": {},
   "outputs": [],
   "source": [
    "# Saving the processed Dataframes in the \"../data/processed\".\n",
    "processed_path = os.path.abspath(\n",
    "    os.path.join(current_dir, \"..\", \"data\", \"processed\"))"
   ]
  },
  {
   "cell_type": "code",
   "execution_count": 92,
   "id": "9a913cb7",
   "metadata": {},
   "outputs": [
    {
     "name": "stdout",
     "output_type": "stream",
     "text": [
      "Processed dataset 'customer.csv' saved to c:\\Users\\ricka\\Desktop\\Area de Trabalho\\Projeto de Estudo Machine Learning\\Projetos e Estudos Git - Machine Learning\\Portifolio\\Ecommerce_Analysis\\data\\processed\n",
      "Processed dataset 'geolocation.csv' saved to c:\\Users\\ricka\\Desktop\\Area de Trabalho\\Projeto de Estudo Machine Learning\\Projetos e Estudos Git - Machine Learning\\Portifolio\\Ecommerce_Analysis\\data\\processed\n",
      "Processed dataset 'orders.csv' saved to c:\\Users\\ricka\\Desktop\\Area de Trabalho\\Projeto de Estudo Machine Learning\\Projetos e Estudos Git - Machine Learning\\Portifolio\\Ecommerce_Analysis\\data\\processed\n",
      "Processed dataset 'order_items.csv' saved to c:\\Users\\ricka\\Desktop\\Area de Trabalho\\Projeto de Estudo Machine Learning\\Projetos e Estudos Git - Machine Learning\\Portifolio\\Ecommerce_Analysis\\data\\processed\n",
      "Processed dataset 'payments.csv' saved to c:\\Users\\ricka\\Desktop\\Area de Trabalho\\Projeto de Estudo Machine Learning\\Projetos e Estudos Git - Machine Learning\\Portifolio\\Ecommerce_Analysis\\data\\processed\n",
      "Processed dataset 'products.csv' saved to c:\\Users\\ricka\\Desktop\\Area de Trabalho\\Projeto de Estudo Machine Learning\\Projetos e Estudos Git - Machine Learning\\Portifolio\\Ecommerce_Analysis\\data\\processed\n",
      "Processed dataset 'sellers.csv' saved to c:\\Users\\ricka\\Desktop\\Area de Trabalho\\Projeto de Estudo Machine Learning\\Projetos e Estudos Git - Machine Learning\\Portifolio\\Ecommerce_Analysis\\data\\processed\n"
     ]
    }
   ],
   "source": [
    "for file, df in dfs.items():\n",
    "    file_name = f\"{file}.csv\"\n",
    "    df.to_csv(os.path.join(processed_path, file_name), index=False)\n",
    "    print(f\"Processed dataset '{file_name}' saved to {processed_path}\")\n"
   ]
  },
  {
   "cell_type": "markdown",
   "id": "a81ed0b7",
   "metadata": {},
   "source": [
    "# Exploratory Data Analysis"
   ]
  },
  {
   "cell_type": "markdown",
   "id": "db1773b4",
   "metadata": {},
   "source": [
    "In this section, we explore the dataset to gain insights into customer behavior, order patterns and the overall performance of a Brazilian e-commerce marketplace. Through visualizations and descriptive statistics, we aim to build a solid understanding of the dataset before moving on to more advanced analytics or machine learning steps."
   ]
  },
  {
   "cell_type": "markdown",
   "id": "7a1f6abd",
   "metadata": {},
   "source": [
    "## Orders counts by status"
   ]
  },
  {
   "cell_type": "code",
   "execution_count": 97,
   "id": "07e5df50",
   "metadata": {},
   "outputs": [
    {
     "data": {
      "image/png": "[encoded data removed]",
      "text/plain": [
       "<Figure size 1000x500 with 1 Axes>"
      ]
     },
     "metadata": {},
     "output_type": "display_data"
    }
   ],
   "source": [
    "plt.figure(figsize=(10, 5))\n",
    "ax = sns.countplot(data=orders, x =\"order_status\", order=orders[\"order_status\"].value_counts().index, palette=\"pastel\")\n",
    "plt.xticks(rotation=45)\n",
    "plt.yscale(\"log\")\n",
    "plt.title(\"Order Status Distribution\")\n",
    "plt.xlabel(\"Order Status\")\n",
    "plt.ylabel(\"Number of orders\")\n",
    "for p in ax.patches:\n",
    "    ax.annotate(\n",
    "        f\"{int(p.get_height())}\",\n",
    "        (p.get_x() + p.get_width() / 2, p.get_height()),\n",
    "        ha=\"center\",\n",
    "        va=\"bottom\",\n",
    "        fontsize=10,\n",
    "        color=\"black\"\n",
    "    )\n",
    "plt.show()\n",
    "\n"
   ]
  },
  {
   "cell_type": "markdown",
   "id": "206ead61",
   "metadata": {},
   "source": [
    "Most orders were successfully delivered, suggesting that the delivery system is performing efficiently."
   ]
  },
  {
   "cell_type": "markdown",
   "id": "cc680675",
   "metadata": {},
   "source": [
    "## Orders over time"
   ]
  },
  {
   "cell_type": "code",
   "execution_count": 99,
   "id": "74001847",
   "metadata": {},
   "outputs": [
    {
     "data": {
      "image/png": "[encoded data removed]",
      "text/plain": [
       "<Figure size 1200x600 with 1 Axes>"
      ]
     },
     "metadata": {},
     "output_type": "display_data"
    }
   ],
   "source": [
    "orders[\"order_purchase_month\"] = orders[\"order_purchase_timestamp\"].dt.to_period(\n",
    "    \"M\")\n",
    "monthly_orders = orders.groupby(\"order_purchase_month\")[\"order_id\"].count()\n",
    "plt.figure(figsize=(12, 6))\n",
    "plt.plot(monthly_orders.index.astype(\n",
    "    str), monthly_orders.values, marker='o', linestyle=\"-\", color=\"royalblue\")\n",
    "plt.title(\"Order Trends Over Time\")\n",
    "plt.xlabel(\"Month\")\n",
    "plt.ylabel(\"Number of Orders\")\n",
    "plt.xticks(rotation=45)\n",
    "plt.grid(True)\n",
    "plt.show()"
   ]
  },
  {
   "cell_type": "markdown",
   "id": "53dc6521",
   "metadata": {},
   "source": [
    "There was a growth trend in the number of orders from December 2016 to November 2017, \n",
    "followed by a stabilization period from December 2017 to August 2018. However, there was \n",
    "a sharp drop in orders from August to October. It's important to check whether there is \n",
    "data available for the final months or if the dataset simply ends there."
   ]
  },
  {
   "cell_type": "code",
   "execution_count": 100,
   "id": "c68998db",
   "metadata": {},
   "outputs": [
    {
     "name": "stdout",
     "output_type": "stream",
     "text": [
      "order_purchase_month\n",
      "2018-01    7269\n",
      "2018-02    6728\n",
      "2018-03    7211\n",
      "2018-04    6939\n",
      "2018-05    6873\n",
      "2018-06    6167\n",
      "2018-07    6292\n",
      "2018-08    6512\n",
      "2018-09      16\n",
      "2018-10       4\n",
      "Freq: M, Name: order_id, dtype: int64\n"
     ]
    }
   ],
   "source": [
    "# Checking if data exists for the last months\n",
    "print(monthly_orders.tail(10))  # Last 10 months available"
   ]
  },
  {
   "cell_type": "markdown",
   "id": "3e8530cd",
   "metadata": {},
   "source": [
    "There were orders in the last months, but the quantity is well below normal, indicating that the dataset is likely incomplete for the final months."
   ]
  },
  {
   "cell_type": "markdown",
   "id": "8cfef1df",
   "metadata": {},
   "source": [
    "## Delivery Time Analysis"
   ]
  },
  {
   "cell_type": "code",
   "execution_count": 101,
   "id": "a059fb60",
   "metadata": {},
   "outputs": [
    {
     "name": "stdout",
     "output_type": "stream",
     "text": [
      "count    96476.000000\n",
      "mean        12.094086\n",
      "std          9.551746\n",
      "min          0.000000\n",
      "25%          6.000000\n",
      "50%         10.000000\n",
      "75%         15.000000\n",
      "max        209.000000\n",
      "Name: delivery_time, dtype: float64\n"
     ]
    },
    {
     "data": {
      "image/png": "[encoded data removed]",
      "text/plain": [
       "<Figure size 800x500 with 1 Axes>"
      ]
     },
     "metadata": {},
     "output_type": "display_data"
    }
   ],
   "source": [
    "# Creating a delivery time column in days\n",
    "orders[\"delivery_time\"] = (\n",
    "    orders[\"order_delivered_customer_date\"] - orders[\"order_purchase_timestamp\"]\n",
    ").dt.days\n",
    "\n",
    "# Delivery time analysis\n",
    "print(orders[\"delivery_time\"].describe())\n",
    "\n",
    "plt.figure(figsize=(8, 5))\n",
    "sns.histplot(orders[\"delivery_time\"].dropna(), bins=20, kde=True, color=\"blue\")\n",
    "plt.title(\"Delivery Time Distribution\")\n",
    "plt.xlabel(\"Days\")\n",
    "plt.ylabel(\"Frequency\")\n",
    "plt.show()"
   ]
  },
  {
   "cell_type": "markdown",
   "id": "802024f3",
   "metadata": {},
   "source": [
    "The chart shows that delivery times are concentrated between 10 and 20 days.\n",
    "It is important to analyze whether the average delivery time increased in recent months,"
   ]
  },
  {
   "cell_type": "markdown",
   "id": "f03d9d84",
   "metadata": {},
   "source": [
    "## Average Delivery Time Over Months"
   ]
  },
  {
   "cell_type": "code",
   "execution_count": 102,
   "id": "7b8ba685",
   "metadata": {},
   "outputs": [
    {
     "data": {
      "image/png": "[encoded data removed]",
      "text/plain": [
       "<Figure size 1200x500 with 1 Axes>"
      ]
     },
     "metadata": {},
     "output_type": "display_data"
    }
   ],
   "source": [
    "orders[\"order_purchase_month\"] = orders[\"order_purchase_timestamp\"].dt.to_period(\"M\")\n",
    "\n",
    "monthly_delivery_time = orders.groupby(\"order_purchase_month\")[\"delivery_time\"].mean()\n",
    "\n",
    "plt.figure(figsize=(12, 5))\n",
    "plt.plot(monthly_delivery_time.index.astype(str), monthly_delivery_time.values,\n",
    "         marker='o', linestyle=\"-\", color=\"purple\")\n",
    "plt.xticks(rotation=45)\n",
    "plt.title(\"Average Delivery Time Over the Months\")\n",
    "plt.xlabel(\"Month\")\n",
    "plt.ylabel(\"Average Delivery Time (days)\")\n",
    "plt.grid(True)\n",
    "plt.show()"
   ]
  },
  {
   "cell_type": "markdown",
   "id": "198bc587",
   "metadata": {},
   "source": [
    "The average delivery time was high at first but dropped significantly after the third month.\n",
    "It remained relatively stable in the following months, with a slight decrease in the last three.\n",
    "Therefore, the drop in order volume cannot be attributed to delivery delays."
   ]
  },
  {
   "cell_type": "markdown",
   "id": "4e75aeeb",
   "metadata": {},
   "source": [
    "## Checking order cancellations over time"
   ]
  },
  {
   "cell_type": "code",
   "execution_count": 103,
   "id": "683ffe97",
   "metadata": {},
   "outputs": [
    {
     "data": {
      "image/png": "[encoded data removed]",
      "text/plain": [
       "<Figure size 1200x500 with 1 Axes>"
      ]
     },
     "metadata": {},
     "output_type": "display_data"
    }
   ],
   "source": [
    "orders.groupby(\"order_purchase_month\")[\"order_status\"].value_counts(normalize=True).unstack()[\"canceled\"].plot(\n",
    "    kind=\"line\", figsize=(12, 5))\n",
    "plt.title(\"Proportion of Canceled Orders per Month\")\n",
    "plt.xlabel(\"Month\")\n",
    "plt.ylabel(\"Cancellations (%)\")\n",
    "plt.show()"
   ]
  },
  {
   "cell_type": "markdown",
   "id": "6c3b190f",
   "metadata": {},
   "source": [
    "The graph shows that the proportion of canceled orders rose to around 100% in the last few months."
   ]
  },
  {
   "cell_type": "markdown",
   "id": "6d0590dc",
   "metadata": {},
   "source": [
    "The charts indicate that there is a normal pattern in the data, except for the months starting from August. The likely reason is that the data from August onward is incomplete, with only cancellations being imported. Therefore, the chosen approach to prevent this discrepancy in order volume from affecting further analyses and models will be remove the rows related to those months."
   ]
  }
 ],
 "metadata": {
  "jupytext": {
   "cell_metadata_filter": "-all",
   "main_language": "python",
   "notebook_metadata_filter": "-all"
  },
  "kernelspec": {
   "display_name": "base",
   "language": "python",
   "name": "python3"
  },
  "language_info": {
   "codemirror_mode": {
    "name": "ipython",
    "version": 3
   },
   "file_extension": ".py",
   "mimetype": "text/x-python",
   "name": "python",
   "nbconvert_exporter": "python",
   "pygments_lexer": "ipython3",
   "version": "3.11.3"
  }
 },
 "nbformat": 4,
 "nbformat_minor": 5
}
