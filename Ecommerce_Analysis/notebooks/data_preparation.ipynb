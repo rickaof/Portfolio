{
 "cells": [
  {
   "cell_type": "markdown",
   "id": "d1e19b91",
   "metadata": {},
   "source": [
    "# Data Loading"
   ]
  },
  {
   "cell_type": "code",
   "execution_count": 227,
   "id": "fa334fc9",
   "metadata": {},
   "outputs": [],
   "source": [
    "# import libraries\n",
    "import pandas as pd\n",
    "import numpy as np\n",
    "import os\n",
    "import matplotlib.pyplot as plt\n",
    "import seaborn as sns\n",
    "import math\n",
    "from pandas.io.parquet import to_parquet"
   ]
  },
  {
   "cell_type": "code",
   "execution_count": 228,
   "id": "eecab661",
   "metadata": {},
   "outputs": [],
   "source": [
    "# Define path to raw data files\n",
    "current_dir = os.getcwd()\n",
    "data_path = os.path.abspath(os.path.join(current_dir, \"..\", \"data\", \"raw\"))"
   ]
  },
  {
   "cell_type": "code",
   "execution_count": 229,
   "id": "ca2061ab",
   "metadata": {},
   "outputs": [],
   "source": [
    "# files in the data directory\n",
    "files = os.listdir(data_path)"
   ]
  },
  {
   "cell_type": "code",
   "execution_count": 230,
   "id": "8f5b05fd",
   "metadata": {},
   "outputs": [],
   "source": [
    "# Create a dictionary where each key is a file name and the value is a DataFrame with the data.\n",
    "custom_names = {\n",
    "    \"olist_customers_dataset.csv\": \"customer\",\n",
    "    \"olist_geolocation_dataset.csv\": \"geolocation\",\n",
    "    \"olist_order_items_dataset.csv\": \"order_items\",\n",
    "    \"olist_order_payments_dataset.csv\": \"payments\",\n",
    "    \"olist_orders_dataset.csv\": \"orders\",\n",
    "    \"olist_products_dataset.csv\": \"products\",\n",
    "    \"olist_sellers_dataset.csv\": \"sellers\"\n",
    "}\n",
    "\n",
    "dfs = {\n",
    "    custom_names[file]: pd.read_csv(os.path.join(data_path, file))\n",
    "    for file in files if file in custom_names\n",
    "}"
   ]
  },
  {
   "cell_type": "markdown",
   "id": "88923a8b",
   "metadata": {},
   "source": [
    "# Data Cleaning and preprocessing"
   ]
  },
  {
   "cell_type": "markdown",
   "id": "1df768ef",
   "metadata": {},
   "source": [
    "## Orders Dataframe: treatment and Type Conversion"
   ]
  },
  {
   "cell_type": "code",
   "execution_count": 231,
   "id": "e41db7c7",
   "metadata": {},
   "outputs": [],
   "source": [
    "orders = dfs[\"orders\"]  # Extract the 'orders' DataFrame"
   ]
  },
  {
   "cell_type": "markdown",
   "id": "dd3403eb",
   "metadata": {},
   "source": [
    "#### Null and Missing values treatment"
   ]
  },
  {
   "cell_type": "code",
   "execution_count": 232,
   "id": "ce8bc2e7",
   "metadata": {},
   "outputs": [
    {
     "name": "stdout",
     "output_type": "stream",
     "text": [
      "order_id                            0\n",
      "customer_id                         0\n",
      "order_status                        0\n",
      "order_purchase_timestamp            0\n",
      "order_approved_at                 160\n",
      "order_delivered_carrier_date     1783\n",
      "order_delivered_customer_date    2965\n",
      "order_estimated_delivery_date       0\n",
      "dtype: int64\n"
     ]
    }
   ],
   "source": [
    "# Identifying null or missing values.\n",
    "print(orders.isnull().sum())"
   ]
  },
  {
   "cell_type": "markdown",
   "id": "8d58c7a7",
   "metadata": {},
   "source": [
    "There are null numerical values in the order approval date column, indicating that the orders were not approved. The shipping date column also contains null values, indicating that the order was not shipped. Lastly, the delivery date column also contains null values, indicating that the order was not delivered. However, the data will be kept as is, since the column type will be changed to datetime and the null values will become NaT (Not a Time). This maintains data consistency and avoids issues with operations involving dates."
   ]
  },
  {
   "cell_type": "code",
   "execution_count": 233,
   "id": "72fae833",
   "metadata": {},
   "outputs": [
    {
     "name": "stdout",
     "output_type": "stream",
     "text": [
      "order_id                         object\n",
      "customer_id                      object\n",
      "order_status                     object\n",
      "order_purchase_timestamp         object\n",
      "order_approved_at                object\n",
      "order_delivered_carrier_date     object\n",
      "order_delivered_customer_date    object\n",
      "order_estimated_delivery_date    object\n",
      "dtype: object\n"
     ]
    }
   ],
   "source": [
    "# Checking column data types\n",
    "print(orders.dtypes)"
   ]
  },
  {
   "cell_type": "markdown",
   "id": "0021638d",
   "metadata": {},
   "source": [
    "#### Columns type conversion\n"
   ]
  },
  {
   "cell_type": "markdown",
   "id": "9f1d8739",
   "metadata": {},
   "source": [
    "Converting date columns from object to datetime"
   ]
  },
  {
   "cell_type": "code",
   "execution_count": 234,
   "id": "f75fec7b",
   "metadata": {},
   "outputs": [],
   "source": [
    "\n",
    "date_columns = [\n",
    "    \"order_purchase_timestamp\",\n",
    "    \"order_approved_at\",\n",
    "    \"order_delivered_carrier_date\",\n",
    "    \"order_delivered_customer_date\",\n",
    "    \"order_estimated_delivery_date\"\n",
    "]"
   ]
  },
  {
   "cell_type": "code",
   "execution_count": 235,
   "id": "0ac027b7",
   "metadata": {},
   "outputs": [],
   "source": [
    "for col in date_columns:\n",
    "    orders[col] = pd.to_datetime(orders[col], errors=\"coerce\")"
   ]
  },
  {
   "cell_type": "markdown",
   "id": "fc68bfe3",
   "metadata": {},
   "source": [
    "Converting \"order status\" column from object to category"
   ]
  },
  {
   "cell_type": "code",
   "execution_count": 236,
   "id": "ef321520",
   "metadata": {},
   "outputs": [],
   "source": [
    "orders[\"order_status\"] = orders[\"order_status\"].astype(\"category\")"
   ]
  },
  {
   "cell_type": "markdown",
   "id": "315a98e3",
   "metadata": {},
   "source": [
    "## Orders Items Dataframe: treatment and Type Conversion"
   ]
  },
  {
   "cell_type": "code",
   "execution_count": 237,
   "id": "488dd716",
   "metadata": {},
   "outputs": [],
   "source": [
    "order_items = dfs[\"order_items\"]  # Extract the 'order_items' DataFrame"
   ]
  },
  {
   "cell_type": "markdown",
   "id": "facc2223",
   "metadata": {},
   "source": [
    "#### Null and Missing values treatment"
   ]
  },
  {
   "cell_type": "code",
   "execution_count": 238,
   "id": "af4f837b",
   "metadata": {},
   "outputs": [
    {
     "name": "stdout",
     "output_type": "stream",
     "text": [
      "order_id               0\n",
      "order_item_id          0\n",
      "product_id             0\n",
      "seller_id              0\n",
      "shipping_limit_date    0\n",
      "price                  0\n",
      "freight_value          0\n",
      "dtype: int64\n"
     ]
    }
   ],
   "source": [
    "# Identifying null or missing values.\n",
    "print(order_items.isnull().sum())"
   ]
  },
  {
   "cell_type": "markdown",
   "id": "21af44da",
   "metadata": {},
   "source": [
    "There are no null or missing values in the dataframe."
   ]
  },
  {
   "cell_type": "markdown",
   "id": "9df8deb9",
   "metadata": {},
   "source": [
    "#### Columns type conversion"
   ]
  },
  {
   "cell_type": "code",
   "execution_count": 239,
   "id": "7036106d",
   "metadata": {},
   "outputs": [
    {
     "name": "stdout",
     "output_type": "stream",
     "text": [
      "order_id                object\n",
      "order_item_id            int64\n",
      "product_id              object\n",
      "seller_id               object\n",
      "shipping_limit_date     object\n",
      "price                  float64\n",
      "freight_value          float64\n",
      "dtype: object\n"
     ]
    }
   ],
   "source": [
    "# Checking column data types\n",
    "print(order_items.dtypes)"
   ]
  },
  {
   "cell_type": "markdown",
   "id": "74d82841",
   "metadata": {},
   "source": [
    "Converting date columns from object to datetime"
   ]
  },
  {
   "cell_type": "code",
   "execution_count": 240,
   "id": "e0cd5115",
   "metadata": {},
   "outputs": [],
   "source": [
    "order_items[\"shipping_limit_date\"] = pd.to_datetime(\n",
    "    order_items[\"shipping_limit_date\"], errors=\"coerce\")"
   ]
  },
  {
   "cell_type": "markdown",
   "id": "6af5edda",
   "metadata": {},
   "source": [
    "## Customers Dataframe: treatment and Type Conversion"
   ]
  },
  {
   "cell_type": "code",
   "execution_count": 241,
   "id": "d09bbb0b",
   "metadata": {},
   "outputs": [],
   "source": [
    "customer = dfs[\"customer\"]  # Extract the 'customers' DataFrame"
   ]
  },
  {
   "cell_type": "markdown",
   "id": "8f6ea127",
   "metadata": {},
   "source": [
    "#### Null and Missing values treatment"
   ]
  },
  {
   "cell_type": "code",
   "execution_count": 242,
   "id": "93bcbd27",
   "metadata": {},
   "outputs": [
    {
     "name": "stdout",
     "output_type": "stream",
     "text": [
      "customer_id                 0\n",
      "customer_unique_id          0\n",
      "customer_zip_code_prefix    0\n",
      "customer_city               0\n",
      "customer_state              0\n",
      "dtype: int64\n"
     ]
    }
   ],
   "source": [
    "# Identifying null or missing values.\n",
    "print(customer.isnull().sum())"
   ]
  },
  {
   "cell_type": "markdown",
   "id": "8b2b07db",
   "metadata": {},
   "source": [
    "There are no null or missing values in the dataframe."
   ]
  },
  {
   "cell_type": "markdown",
   "id": "f5350e8b",
   "metadata": {},
   "source": [
    "#### Columns type conversion"
   ]
  },
  {
   "cell_type": "code",
   "execution_count": 243,
   "id": "a5eab4b8",
   "metadata": {},
   "outputs": [
    {
     "name": "stdout",
     "output_type": "stream",
     "text": [
      "customer_id                 object\n",
      "customer_unique_id          object\n",
      "customer_zip_code_prefix     int64\n",
      "customer_city               object\n",
      "customer_state              object\n",
      "dtype: object\n"
     ]
    }
   ],
   "source": [
    "# Checking column data types\n",
    "print(customer.dtypes)"
   ]
  },
  {
   "cell_type": "markdown",
   "id": "b22f5acd",
   "metadata": {},
   "source": [
    "The column data types are correct."
   ]
  },
  {
   "cell_type": "markdown",
   "id": "327b9320",
   "metadata": {},
   "source": [
    "## Products Dataframe: treatment and Type Conversion"
   ]
  },
  {
   "cell_type": "code",
   "execution_count": 244,
   "id": "768b889d",
   "metadata": {},
   "outputs": [],
   "source": [
    "products = dfs[\"products\"]  # Extract the 'products' DataFrame"
   ]
  },
  {
   "cell_type": "markdown",
   "id": "cd118b51",
   "metadata": {},
   "source": [
    "#### Null and Missing values treatment"
   ]
  },
  {
   "cell_type": "code",
   "execution_count": 245,
   "id": "ba2c5318",
   "metadata": {},
   "outputs": [
    {
     "name": "stdout",
     "output_type": "stream",
     "text": [
      "product_id                      0\n",
      "product_category_name         610\n",
      "product_name_lenght           610\n",
      "product_description_lenght    610\n",
      "product_photos_qty            610\n",
      "product_weight_g                2\n",
      "product_length_cm               2\n",
      "product_height_cm               2\n",
      "product_width_cm                2\n",
      "dtype: int64\n"
     ]
    }
   ],
   "source": [
    "# Identifying null or missing values.\n",
    "print(products.isnull().sum())"
   ]
  },
  {
   "cell_type": "markdown",
   "id": "33402ace",
   "metadata": {},
   "source": [
    "Null values were found in the product category name, which will be filled with \"Unknown\". Null values were also found in the columns: product name length, description length, and number of photos. These will be filled with the median to avoid distortions caused by extreme values. Finally, two null values were found in the columns: weight, length, height, and width. All of these will also be filled with the median."
   ]
  },
  {
   "cell_type": "code",
   "execution_count": 246,
   "id": "7c109f9a",
   "metadata": {},
   "outputs": [],
   "source": [
    "# Null and missing values treatment.\n",
    "products[\"product_category_name\"].fillna(\"Unknown\", inplace=True)\n",
    "num_cols = [\n",
    "    \"product_name_lenght\", \"product_description_lenght\",\n",
    "    \"product_photos_qty\", \"product_weight_g\", \"product_length_cm\",\n",
    "    \"product_height_cm\", \"product_width_cm\"\n",
    "]\n",
    "for col in num_cols:\n",
    "    products[col].fillna(products[col].median(), inplace=True)"
   ]
  },
  {
   "cell_type": "markdown",
   "id": "0165b066",
   "metadata": {},
   "source": [
    "#### Columns type conversion"
   ]
  },
  {
   "cell_type": "code",
   "execution_count": 247,
   "id": "8ab13bdc",
   "metadata": {},
   "outputs": [
    {
     "name": "stdout",
     "output_type": "stream",
     "text": [
      "customer_id                 object\n",
      "customer_unique_id          object\n",
      "customer_zip_code_prefix     int64\n",
      "customer_city               object\n",
      "customer_state              object\n",
      "dtype: object\n"
     ]
    }
   ],
   "source": [
    "# Checking column data types\n",
    "print(customer.dtypes)"
   ]
  },
  {
   "cell_type": "markdown",
   "id": "ba531290",
   "metadata": {},
   "source": [
    "The column data types are correct."
   ]
  },
  {
   "cell_type": "markdown",
   "id": "62f2ebe2",
   "metadata": {},
   "source": [
    "## Sellers Dataframe: treatment and Type Conversion"
   ]
  },
  {
   "cell_type": "code",
   "execution_count": 248,
   "id": "22f87c31",
   "metadata": {},
   "outputs": [],
   "source": [
    "sellers = dfs[\"sellers\"]  # Extract the 'sellers' DataFrame"
   ]
  },
  {
   "cell_type": "markdown",
   "id": "3d200ea0",
   "metadata": {},
   "source": [
    "#### Null and Missing values treatment"
   ]
  },
  {
   "cell_type": "code",
   "execution_count": 249,
   "id": "00a4c40d",
   "metadata": {},
   "outputs": [
    {
     "name": "stdout",
     "output_type": "stream",
     "text": [
      "seller_id                 0\n",
      "seller_zip_code_prefix    0\n",
      "seller_city               0\n",
      "seller_state              0\n",
      "dtype: int64\n"
     ]
    }
   ],
   "source": [
    "# Identifying null or missing values.\n",
    "print(sellers.isnull().sum())"
   ]
  },
  {
   "cell_type": "markdown",
   "id": "8022f12d",
   "metadata": {},
   "source": [
    "There are no null or missing values in the dataframe."
   ]
  },
  {
   "cell_type": "markdown",
   "id": "e4ac3d31",
   "metadata": {},
   "source": [
    "#### Columns type conversion"
   ]
  },
  {
   "cell_type": "code",
   "execution_count": 250,
   "id": "27ed8e1a",
   "metadata": {},
   "outputs": [
    {
     "name": "stdout",
     "output_type": "stream",
     "text": [
      "seller_id                 object\n",
      "seller_zip_code_prefix     int64\n",
      "seller_city               object\n",
      "seller_state              object\n",
      "dtype: object\n"
     ]
    }
   ],
   "source": [
    "# Checking column data types\n",
    "print(sellers.dtypes)"
   ]
  },
  {
   "cell_type": "markdown",
   "id": "960c5158",
   "metadata": {},
   "source": [
    "The column data types are correct."
   ]
  },
  {
   "cell_type": "markdown",
   "id": "6fcc1f9c",
   "metadata": {},
   "source": [
    "## Payments Dataframe: treatment and Type Conversion"
   ]
  },
  {
   "cell_type": "code",
   "execution_count": 251,
   "id": "383deb1a",
   "metadata": {},
   "outputs": [],
   "source": [
    "payments = dfs[\"payments\"]  # Extract the 'payments' DataFrame"
   ]
  },
  {
   "cell_type": "markdown",
   "id": "58ead4e7",
   "metadata": {},
   "source": [
    "#### Null and Missing values treatment"
   ]
  },
  {
   "cell_type": "code",
   "execution_count": 252,
   "id": "e83593cc",
   "metadata": {},
   "outputs": [
    {
     "name": "stdout",
     "output_type": "stream",
     "text": [
      "order_id                0\n",
      "payment_sequential      0\n",
      "payment_type            0\n",
      "payment_installments    0\n",
      "payment_value           0\n",
      "dtype: int64\n"
     ]
    }
   ],
   "source": [
    "# Identifying null or missing values.\n",
    "print(payments.isnull().sum())"
   ]
  },
  {
   "cell_type": "markdown",
   "id": "a9123a83",
   "metadata": {},
   "source": [
    "There are no null or missing values in the dataframe."
   ]
  },
  {
   "cell_type": "markdown",
   "id": "4c12bda1",
   "metadata": {},
   "source": [
    "#### Columns type conversion"
   ]
  },
  {
   "cell_type": "code",
   "execution_count": 253,
   "id": "ea882b1b",
   "metadata": {},
   "outputs": [
    {
     "name": "stdout",
     "output_type": "stream",
     "text": [
      "order_id                 object\n",
      "payment_sequential        int64\n",
      "payment_type             object\n",
      "payment_installments      int64\n",
      "payment_value           float64\n",
      "dtype: object\n"
     ]
    }
   ],
   "source": [
    "# Checking column data types\n",
    "print(payments.dtypes)"
   ]
  },
  {
   "cell_type": "markdown",
   "id": "e5053e71",
   "metadata": {},
   "source": [
    "Converting 'payment_type' column from object to category."
   ]
  },
  {
   "cell_type": "code",
   "execution_count": 254,
   "id": "4eb2d1d8",
   "metadata": {},
   "outputs": [],
   "source": [
    "payments[\"payment_type\"] = payments[\"payment_type\"].astype(\"category\")"
   ]
  },
  {
   "cell_type": "markdown",
   "id": "9985fdb8",
   "metadata": {},
   "source": [
    "## Geolocation: treatment and Type Conversion"
   ]
  },
  {
   "cell_type": "code",
   "execution_count": 255,
   "id": "8df77f61",
   "metadata": {},
   "outputs": [],
   "source": [
    "geolocation = dfs[\"geolocation\"]  # Extract the 'geolocation' DataFrame"
   ]
  },
  {
   "cell_type": "markdown",
   "id": "c6fb7b54",
   "metadata": {},
   "source": [
    "#### Null and Missing values treatment"
   ]
  },
  {
   "cell_type": "code",
   "execution_count": 256,
   "id": "12302f2a",
   "metadata": {},
   "outputs": [
    {
     "name": "stdout",
     "output_type": "stream",
     "text": [
      "geolocation_zip_code_prefix    0\n",
      "geolocation_lat                0\n",
      "geolocation_lng                0\n",
      "geolocation_city               0\n",
      "geolocation_state              0\n",
      "dtype: int64\n"
     ]
    }
   ],
   "source": [
    "# Identifying null or missing values.\n",
    "print(geolocation.isnull().sum())"
   ]
  },
  {
   "cell_type": "markdown",
   "id": "ab5c891d",
   "metadata": {},
   "source": [
    "There are no null or missing values in the dataframe."
   ]
  },
  {
   "cell_type": "markdown",
   "id": "68f4d01d",
   "metadata": {},
   "source": [
    "#### Columns type conversion"
   ]
  },
  {
   "cell_type": "code",
   "execution_count": 257,
   "id": "628d42c4",
   "metadata": {},
   "outputs": [
    {
     "name": "stdout",
     "output_type": "stream",
     "text": [
      "geolocation_zip_code_prefix      int64\n",
      "geolocation_lat                float64\n",
      "geolocation_lng                float64\n",
      "geolocation_city                object\n",
      "geolocation_state               object\n",
      "dtype: object\n"
     ]
    }
   ],
   "source": [
    "# Checking column data types\n",
    "print(geolocation.dtypes)"
   ]
  },
  {
   "cell_type": "markdown",
   "id": "7af2277a",
   "metadata": {},
   "source": [
    "The column data types are correct."
   ]
  },
  {
   "cell_type": "markdown",
   "id": "a81ed0b7",
   "metadata": {},
   "source": [
    "## Pré processing - Checking data consistency"
   ]
  },
  {
   "cell_type": "code",
   "execution_count": 258,
   "id": "07e5df50",
   "metadata": {},
   "outputs": [
    {
     "data": {
      "image/png": "[encoded data removed]",
      "text/plain": [
       "<Figure size 1000x500 with 1 Axes>"
      ]
     },
     "metadata": {},
     "output_type": "display_data"
    }
   ],
   "source": [
    "# Orders counts by status\n",
    "\n",
    "plt.figure(figsize=(10, 5))\n",
    "ax = sns.countplot(data=orders, x =\"order_status\", order=orders[\"order_status\"].value_counts().index, palette=\"pastel\")\n",
    "plt.xticks(rotation=45)\n",
    "plt.yscale(\"log\")\n",
    "plt.title(\"Order Status Distribution\")\n",
    "plt.xlabel(\"Order Status\")\n",
    "plt.ylabel(\"Number of orders\")\n",
    "for p in ax.patches:\n",
    "    ax.annotate(\n",
    "        f\"{int(p.get_height())}\",\n",
    "        (p.get_x() + p.get_width() / 2, p.get_height()),\n",
    "        ha=\"center\",\n",
    "        va=\"bottom\",\n",
    "        fontsize=10,\n",
    "        color=\"black\"\n",
    "    )\n",
    "plt.show()\n",
    "\n"
   ]
  },
  {
   "cell_type": "code",
   "execution_count": 259,
   "id": "74001847",
   "metadata": {},
   "outputs": [
    {
     "data": {
      "image/png": "[encoded data removed]",
      "text/plain": [
       "<Figure size 1200x600 with 1 Axes>"
      ]
     },
     "metadata": {},
     "output_type": "display_data"
    }
   ],
   "source": [
    "# Orders over time\n",
    "orders[\"order_purchase_month\"] = orders[\"order_purchase_timestamp\"].dt.to_period(\n",
    "    \"M\")\n",
    "monthly_orders = orders.groupby(\"order_purchase_month\")[\"order_id\"].count()\n",
    "plt.figure(figsize=(12, 6))\n",
    "plt.plot(monthly_orders.index.astype(\n",
    "    str), monthly_orders.values, marker='o', linestyle=\"-\", color=\"royalblue\")\n",
    "plt.title(\"Order Trends Over Time\")\n",
    "plt.xlabel(\"Month\")\n",
    "plt.ylabel(\"Number of Orders\")\n",
    "plt.xticks(rotation=45)\n",
    "plt.grid(True)\n",
    "plt.show()"
   ]
  },
  {
   "cell_type": "markdown",
   "id": "53dc6521",
   "metadata": {},
   "source": [
    "There was a growth trend in the number of orders from December 2016 to November 2017, \n",
    "followed by a stabilization period from December 2017 to August 2018. However, there was \n",
    "a sharp drop in orders from August to October. It's important to check whether there is \n",
    "data available for the final months or if the dataset simply ends there."
   ]
  },
  {
   "cell_type": "code",
   "execution_count": 260,
   "id": "c68998db",
   "metadata": {},
   "outputs": [
    {
     "name": "stdout",
     "output_type": "stream",
     "text": [
      "order_purchase_month\n",
      "2016-09       4\n",
      "2016-10     324\n",
      "2016-12       1\n",
      "2017-01     800\n",
      "2017-02    1780\n",
      "2017-03    2682\n",
      "2017-04    2404\n",
      "2017-05    3700\n",
      "2017-06    3245\n",
      "2017-07    4026\n",
      "2017-08    4331\n",
      "2017-09    4285\n",
      "2017-10    4631\n",
      "2017-11    7544\n",
      "2017-12    5673\n",
      "2018-01    7269\n",
      "2018-02    6728\n",
      "2018-03    7211\n",
      "2018-04    6939\n",
      "2018-05    6873\n",
      "2018-06    6167\n",
      "2018-07    6292\n",
      "2018-08    6512\n",
      "2018-09      16\n",
      "2018-10       4\n",
      "Freq: M, Name: order_id, dtype: int64\n"
     ]
    }
   ],
   "source": [
    "# Checking if data exists for the last months\n",
    "print(monthly_orders.tail(30))  # Last 10 months available"
   ]
  },
  {
   "cell_type": "markdown",
   "id": "3e8530cd",
   "metadata": {},
   "source": [
    "There were orders in the last months, but the quantity is well below normal, indicating that the dataset is likely incomplete for the final and initial months."
   ]
  },
  {
   "cell_type": "code",
   "execution_count": 261,
   "id": "683ffe97",
   "metadata": {},
   "outputs": [
    {
     "data": {
      "image/png": "[encoded data removed]",
      "text/plain": [
       "<Figure size 1200x500 with 1 Axes>"
      ]
     },
     "metadata": {},
     "output_type": "display_data"
    }
   ],
   "source": [
    "# Checking order cancellations over time\n",
    "\n",
    "orders.groupby(\"order_purchase_month\")[\"order_status\"].value_counts(normalize=True).unstack()[\"canceled\"].plot(\n",
    "    kind=\"line\", figsize=(12, 5))\n",
    "plt.title(\"Proportion of Canceled Orders per Month\")\n",
    "plt.xlabel(\"Month\")\n",
    "plt.ylabel(\"Cancellations (%)\")\n",
    "plt.show()"
   ]
  },
  {
   "cell_type": "markdown",
   "id": "6c3b190f",
   "metadata": {},
   "source": [
    "The graph shows that the proportion of canceled orders rose to around 100% in the last few months."
   ]
  },
  {
   "cell_type": "markdown",
   "id": "87390516",
   "metadata": {},
   "source": [
    "### Data Note"
   ]
  },
  {
   "cell_type": "markdown",
   "id": "6d0590dc",
   "metadata": {},
   "source": [
    "The charts indicate that there is a normal pattern in the data, except for the months with less than 500 orders, like: 2016-09, 2016-10, 2016-12, 2018-09 and 2018-10. The likely reason is that the data is incomplete. Therefore, the chosen approach to prevent this discrepancy in order volume from affecting further analyses and models will be remove the rows related to those months."
   ]
  },
  {
   "cell_type": "markdown",
   "id": "40627759",
   "metadata": {},
   "source": [
    "#### REMOVING ROWS RELATED TO MONTHS WITH DATA DISCREPANCIES"
   ]
  },
  {
   "cell_type": "code",
   "execution_count": 262,
   "id": "e221a353",
   "metadata": {},
   "outputs": [],
   "source": [
    "def olist_filter_and_save(\n",
    "    orders, order_items, payments, customer, products, sellers\n",
    "):\n",
    "    # Orders purchase count by month\n",
    "    order_counts = orders['order_purchase_month'].value_counts()\n",
    "    valid_months = order_counts[order_counts >= 500].index\n",
    "\n",
    "    # Filtering the orders by valid months.\n",
    "    orders_filtered = orders[orders['order_purchase_month'].isin(valid_months)]\n",
    "\n",
    "    # Valid IDs\n",
    "    valid_order_ids = orders_filtered['order_id']\n",
    "    valid_customer_ids = orders_filtered['customer_id']\n",
    "\n",
    "    # Filtering other dataframes based on valid data\n",
    "    order_items_filtered = order_items[order_items['order_id'].isin(valid_order_ids)]\n",
    "    payments_filtered = payments[payments['order_id'].isin(valid_order_ids)]\n",
    "    customer_filtered = customer[customer['customer_id'].isin(valid_customer_ids)]\n",
    "    products_filtered = products[products['product_id'].isin(order_items_filtered['product_id'])]\n",
    "    sellers_filtered = sellers[sellers['seller_id'].isin(order_items_filtered['seller_id'])]\n",
    "\n",
    "    # Dictionary with filtered DataFrames\n",
    "    dfs = {\n",
    "        \"orders\": orders_filtered,\n",
    "        \"order_items\": order_items_filtered,\n",
    "        \"payments\": payments_filtered,\n",
    "        \"customer\": customer_filtered,\n",
    "        \"products\": products_filtered,\n",
    "        \"sellers\": sellers_filtered,\n",
    "    }\n",
    "\n",
    "    # Relative path to save files\n",
    "    current_dir = os.getcwd()\n",
    "    processed_path = os.path.abspath(os.path.join(current_dir, \"..\", \"data\", \"processed\"))\n",
    "\n",
    "    # Save DataFrames to CSV files\n",
    "    for file_name, df in dfs.items():\n",
    "        file_path = os.path.join(processed_path, f\"{file_name}.csv\")\n",
    "        df.to_csv(file_path, index=False)\n",
    "\n",
    "    return dfs"
   ]
  },
  {
   "cell_type": "code",
   "execution_count": 263,
   "id": "77136927",
   "metadata": {},
   "outputs": [],
   "source": [
    "# Call the function to apply the filter and save the files\n",
    "dfs_filtered = olist_filter_and_save(orders, order_items, payments, customer, products, sellers)\n"
   ]
  },
  {
   "cell_type": "code",
   "execution_count": 264,
   "id": "f9ae885c",
   "metadata": {},
   "outputs": [],
   "source": [
    "#Accessing the filtered DataFrames from the 'dfs_filtered' dictionary\n",
    "orders_filtered = dfs_filtered['orders'].copy()\n",
    "order_items_filtered = dfs_filtered['order_items'].copy()\n",
    "payments_filtered = dfs_filtered['payments'].copy()\n",
    "customer_filtered = dfs_filtered['customer'].copy()\n",
    "products_filtered = dfs_filtered['products'].copy()\n",
    "sellers_filtered = dfs_filtered['sellers'].copy()"
   ]
  },
  {
   "cell_type": "code",
   "execution_count": 265,
   "id": "d44d3a2d",
   "metadata": {},
   "outputs": [
    {
     "data": {
      "image/png": "[encoded data removed]",
      "text/plain": [
       "<Figure size 1200x600 with 1 Axes>"
      ]
     },
     "metadata": {},
     "output_type": "display_data"
    }
   ],
   "source": [
    "orders_filtered[\"order_purchase_month\"] = orders_filtered[\"order_purchase_timestamp\"].dt.to_period(\n",
    "    \"M\")\n",
    "monthly_orders = orders_filtered.groupby(\"order_purchase_month\")[\"order_id\"].count()\n",
    "plt.figure(figsize=(12, 6))\n",
    "plt.plot(monthly_orders.index.astype(\n",
    "    str), monthly_orders.values, marker='o', linestyle=\"-\", color=\"royalblue\")\n",
    "plt.title(\"Order Trends Over Time\")\n",
    "plt.xlabel(\"Month\")\n",
    "plt.ylabel(\"Number of Orders\")\n",
    "plt.xticks(rotation=45)\n",
    "plt.grid(True)\n",
    "plt.show()"
   ]
  },
  {
   "cell_type": "markdown",
   "id": "693a1702",
   "metadata": {},
   "source": [
    "# Feature Engineering\n"
   ]
  },
  {
   "cell_type": "markdown",
   "id": "69563e37",
   "metadata": {},
   "source": [
    "In this project, I will perform an in-depth data analysis on a Brazilian marketplace dataset to predict whether an order will be delivered late or not.\n",
    "I will start by integrating relevant datasets and creating new features that may influence delivery delays.\n",
    "\n"
   ]
  },
  {
   "cell_type": "markdown",
   "id": "ea75a470",
   "metadata": {},
   "source": [
    "## Target Variable\n",
    "The target variable will be a binary feature \"is_late\", the variable based on the order delivered customer date and order estimated delivery date, indicate if a order was delivered late."
   ]
  },
  {
   "cell_type": "code",
   "execution_count": 266,
   "id": "4e72b2df",
   "metadata": {},
   "outputs": [],
   "source": [
    "# Was it delivered late?\n",
    "# Binary feature (0 = on time or early, 1 = late)\n",
    "orders_filtered[\"is_late\"] = (\n",
    "    orders_filtered[\"order_delivered_customer_date\"] > orders_filtered[\"order_estimated_delivery_date\"]\n",
    ").astype(int)"
   ]
  },
  {
   "cell_type": "markdown",
   "id": "31886dd2",
   "metadata": {},
   "source": [
    "## Merging the datasets"
   ]
  },
  {
   "cell_type": "code",
   "execution_count": 267,
   "id": "86a4c6c2",
   "metadata": {},
   "outputs": [],
   "source": [
    "# Merging the datasets\n",
    "df_merged = orders_filtered.merge(order_items_filtered, on='order_id', how='left')\n",
    "df_merged  = df_merged.merge(customer_filtered, on='customer_id', how='left')\n",
    "df_merged  = df_merged.merge(products_filtered, on='product_id', how='left')\n",
    "df_merged  = df_merged.merge(payments_filtered, on='order_id', how='left')\n",
    "df_merged  = df_merged.merge(sellers_filtered, on='seller_id', how='left')"
   ]
  },
  {
   "cell_type": "markdown",
   "id": "cc88ced6",
   "metadata": {},
   "source": [
    "## Product Volume Feature\n",
    "It will be create a feature that represents the product volume. The volume could affect the logistic transportantion, leading possibles order delays."
   ]
  },
  {
   "cell_type": "code",
   "execution_count": 268,
   "id": "d23c984b",
   "metadata": {},
   "outputs": [],
   "source": [
    "# Product Volume\n",
    "df_merged['product_volume'] = df_merged['product_length_cm']*df_merged['product_height_cm']*df_merged['product_width_cm']"
   ]
  },
  {
   "cell_type": "markdown",
   "id": "ed288c3f",
   "metadata": {},
   "source": [
    "## Distance between customer and seller\n",
    "The distance between customer and seller could affect the time of transportantion, leading possibles order delays."
   ]
  },
  {
   "cell_type": "code",
   "execution_count": 269,
   "id": "af53aef3",
   "metadata": {},
   "outputs": [],
   "source": [
    "# Group by zip code prefix and calculate the coordinates overall mean.\n",
    "geo_mean = geolocation.groupby('geolocation_zip_code_prefix', as_index = False).agg({\n",
    "        'geolocation_lat': 'mean',\n",
    "        'geolocation_lng': 'mean'\n",
    "})"
   ]
  },
  {
   "cell_type": "code",
   "execution_count": 270,
   "id": "db78f093",
   "metadata": {},
   "outputs": [],
   "source": [
    "# Rename from geolocation lat and long to customer lat and long\n",
    "customer_geo = geo_mean.rename(columns={\n",
    "    'geolocation_zip_code_prefix': 'customer_zip_code_prefix',\n",
    "    'geolocation_lat': 'customer_lat',\n",
    "    'geolocation_lng': 'customer_lng'\n",
    "})"
   ]
  },
  {
   "cell_type": "code",
   "execution_count": 271,
   "id": "d6e74c4a",
   "metadata": {},
   "outputs": [],
   "source": [
    "# Rename from geolocation lat and long to seller lat and long\n",
    "seller_geo = geo_mean.rename(columns={\n",
    "    'geolocation_zip_code_prefix': 'seller_zip_code_prefix',\n",
    "    'geolocation_lat': 'seller_lat',\n",
    "    'geolocation_lng': 'seller_lng'\n",
    "})"
   ]
  },
  {
   "cell_type": "code",
   "execution_count": 272,
   "id": "d6762811",
   "metadata": {},
   "outputs": [],
   "source": [
    "# Merge the datagrame customer_geo and seller_geo with df_merged\n",
    "df_merged = df_merged.merge(customer_geo, on='customer_zip_code_prefix', how='left')\n",
    "df_merged = df_merged.merge(seller_geo, on='seller_zip_code_prefix', how='left')"
   ]
  },
  {
   "cell_type": "code",
   "execution_count": 273,
   "id": "8dc85cbb",
   "metadata": {},
   "outputs": [],
   "source": [
    "# Euclidian distance between customer and seller\n",
    "df_merged['distance_seller_customer'] = np.sqrt(\n",
    "    (df_merged['customer_lat'] - df_merged['seller_lat'])**2 +\n",
    "    (df_merged['customer_lng'] - df_merged['seller_lng'])**2\n",
    ")"
   ]
  },
  {
   "cell_type": "code",
   "execution_count": 274,
   "id": "c8848754",
   "metadata": {},
   "outputs": [],
   "source": [
    "# Transform the distance between customer and seller categorical variable.\n",
    "df_merged['distance_category'] = pd.cut(df_merged['distance_seller_customer'], bins=[0, 10, 50, 100, 200], labels=['short', 'medium', 'long', 'very_long'])\n"
   ]
  },
  {
   "cell_type": "markdown",
   "id": "b79eff00",
   "metadata": {},
   "source": [
    "## Estimated time delivery (days)\n",
    "If the estimated time delivery doesn't fit with the necessary time to delivery the order, could lead to an orders delays."
   ]
  },
  {
   "cell_type": "code",
   "execution_count": 275,
   "id": "88bd34d8",
   "metadata": {},
   "outputs": [],
   "source": [
    "df_merged['estimated_time'] = (df_merged['order_estimated_delivery_date'] - df_merged['order_approved_at']).dt.days"
   ]
  },
  {
   "cell_type": "markdown",
   "id": "5bd8fc39",
   "metadata": {},
   "source": [
    "# Exploratory Data Analysis"
   ]
  },
  {
   "cell_type": "markdown",
   "id": "b3d776c4",
   "metadata": {},
   "source": [
    "The focus of this analysis is to explore and analyze the delivery delays of orders in a Brazilian e-commerce marketplace. We will identify patterns related to late deliveries, look for factors that could influence delays."
   ]
  },
  {
   "cell_type": "markdown",
   "id": "63cba827",
   "metadata": {},
   "source": [
    "## Categorical features\n",
    "The first step will be select and transform the categorical features in bynaries to fit in our first model try.\n",
    "The transformation using OneHotEncoder is mainly recommended for categorical nominal variables, that is, when there is no order among the categories. "
   ]
  },
  {
   "cell_type": "code",
   "execution_count": 276,
   "id": "be2cfb95",
   "metadata": {},
   "outputs": [
    {
     "data": {
      "text/plain": [
       "Index(['order_id', 'customer_id', 'order_status', 'order_purchase_timestamp',\n",
       "       'order_approved_at', 'order_delivered_carrier_date',\n",
       "       'order_delivered_customer_date', 'order_estimated_delivery_date',\n",
       "       'order_purchase_month', 'is_late', 'order_item_id', 'product_id',\n",
       "       'seller_id', 'shipping_limit_date', 'price', 'freight_value',\n",
       "       'customer_unique_id', 'customer_zip_code_prefix', 'customer_city',\n",
       "       'customer_state', 'product_category_name', 'product_name_lenght',\n",
       "       'product_description_lenght', 'product_photos_qty', 'product_weight_g',\n",
       "       'product_length_cm', 'product_height_cm', 'product_width_cm',\n",
       "       'payment_sequential', 'payment_type', 'payment_installments',\n",
       "       'payment_value', 'seller_zip_code_prefix', 'seller_city',\n",
       "       'seller_state', 'product_volume', 'customer_lat', 'customer_lng',\n",
       "       'seller_lat', 'seller_lng', 'distance_seller_customer',\n",
       "       'distance_category', 'estimated_time'],\n",
       "      dtype='object')"
      ]
     },
     "execution_count": 276,
     "metadata": {},
     "output_type": "execute_result"
    }
   ],
   "source": [
    "# The dataset merged columns    \n",
    "df_merged.columns.unique()"
   ]
  },
  {
   "cell_type": "code",
   "execution_count": 277,
   "id": "cf656675",
   "metadata": {},
   "outputs": [],
   "source": [
    "# create df with categorical features\n",
    "df_cat = df_merged[[\n",
    "    'order_purchase_month',\n",
    "    'customer_state',\n",
    "    'seller_state',\n",
    "    'distance_category'\n",
    "]]"
   ]
  },
  {
   "cell_type": "code",
   "execution_count": 278,
   "id": "c2b9dfdc",
   "metadata": {},
   "outputs": [
    {
     "data": {
      "text/plain": [
       "order_purchase_month       0\n",
       "customer_state             0\n",
       "seller_state             794\n",
       "distance_category       1392\n",
       "dtype: int64"
      ]
     },
     "execution_count": 278,
     "metadata": {},
     "output_type": "execute_result"
    }
   ],
   "source": [
    "# checking null values\n",
    "df_cat.isnull().sum()"
   ]
  },
  {
   "cell_type": "code",
   "execution_count": 279,
   "id": "606889e6",
   "metadata": {},
   "outputs": [],
   "source": [
    "#Null values treatment\n",
    "df_cat = df_cat.apply(lambda col: col.fillna(col.mode()[0]), axis=0)"
   ]
  },
  {
   "cell_type": "code",
   "execution_count": 280,
   "id": "7ceded64",
   "metadata": {},
   "outputs": [],
   "source": [
    "# import libraries\n",
    "from sklearn.preprocessing import OneHotEncoder\n"
   ]
  },
  {
   "cell_type": "code",
   "execution_count": 281,
   "id": "38eb14c5",
   "metadata": {},
   "outputs": [],
   "source": [
    "# Apply OneHotEncoder\n",
    "encoder = OneHotEncoder(sparse_output=False, drop='if_binary')\n",
    "cat_transf = encoder.fit_transform(df_cat)\n"
   ]
  },
  {
   "cell_type": "code",
   "execution_count": 282,
   "id": "679e5a63",
   "metadata": {},
   "outputs": [],
   "source": [
    "# Dataframe transform\n",
    "df_cat_transform = pd.DataFrame(\n",
    "    cat_transf,\n",
    "    columns=encoder.get_feature_names_out(df_cat.columns),\n",
    "    index=df_merged.index\n",
    ")"
   ]
  },
  {
   "cell_type": "code",
   "execution_count": 283,
   "id": "3e56cce8",
   "metadata": {},
   "outputs": [
    {
     "data": {
      "text/html": [
       "<div>\n",
       "<style scoped>\n",
       "    .dataframe tbody tr th:only-of-type {\n",
       "        vertical-align: middle;\n",
       "    }\n",
       "\n",
       "    .dataframe tbody tr th {\n",
       "        vertical-align: top;\n",
       "    }\n",
       "\n",
       "    .dataframe thead th {\n",
       "        text-align: right;\n",
       "    }\n",
       "</style>\n",
       "<table border=\"1\" class=\"dataframe\">\n",
       "  <thead>\n",
       "    <tr style=\"text-align: right;\">\n",
       "      <th></th>\n",
       "      <th>order_purchase_month_2017-01</th>\n",
       "      <th>order_purchase_month_2017-02</th>\n",
       "      <th>order_purchase_month_2017-03</th>\n",
       "      <th>order_purchase_month_2017-04</th>\n",
       "      <th>order_purchase_month_2017-05</th>\n",
       "      <th>order_purchase_month_2017-06</th>\n",
       "      <th>order_purchase_month_2017-07</th>\n",
       "      <th>order_purchase_month_2017-08</th>\n",
       "      <th>order_purchase_month_2017-09</th>\n",
       "      <th>order_purchase_month_2017-10</th>\n",
       "      <th>...</th>\n",
       "      <th>seller_state_RJ</th>\n",
       "      <th>seller_state_RN</th>\n",
       "      <th>seller_state_RO</th>\n",
       "      <th>seller_state_RS</th>\n",
       "      <th>seller_state_SC</th>\n",
       "      <th>seller_state_SE</th>\n",
       "      <th>seller_state_SP</th>\n",
       "      <th>distance_category_long</th>\n",
       "      <th>distance_category_medium</th>\n",
       "      <th>distance_category_short</th>\n",
       "    </tr>\n",
       "  </thead>\n",
       "  <tbody>\n",
       "    <tr>\n",
       "      <th>0</th>\n",
       "      <td>0.0</td>\n",
       "      <td>0.0</td>\n",
       "      <td>0.0</td>\n",
       "      <td>0.0</td>\n",
       "      <td>0.0</td>\n",
       "      <td>0.0</td>\n",
       "      <td>0.0</td>\n",
       "      <td>0.0</td>\n",
       "      <td>0.0</td>\n",
       "      <td>1.0</td>\n",
       "      <td>...</td>\n",
       "      <td>0.0</td>\n",
       "      <td>0.0</td>\n",
       "      <td>0.0</td>\n",
       "      <td>0.0</td>\n",
       "      <td>0.0</td>\n",
       "      <td>0.0</td>\n",
       "      <td>1.0</td>\n",
       "      <td>0.0</td>\n",
       "      <td>0.0</td>\n",
       "      <td>1.0</td>\n",
       "    </tr>\n",
       "    <tr>\n",
       "      <th>1</th>\n",
       "      <td>0.0</td>\n",
       "      <td>0.0</td>\n",
       "      <td>0.0</td>\n",
       "      <td>0.0</td>\n",
       "      <td>0.0</td>\n",
       "      <td>0.0</td>\n",
       "      <td>0.0</td>\n",
       "      <td>0.0</td>\n",
       "      <td>0.0</td>\n",
       "      <td>1.0</td>\n",
       "      <td>...</td>\n",
       "      <td>0.0</td>\n",
       "      <td>0.0</td>\n",
       "      <td>0.0</td>\n",
       "      <td>0.0</td>\n",
       "      <td>0.0</td>\n",
       "      <td>0.0</td>\n",
       "      <td>1.0</td>\n",
       "      <td>0.0</td>\n",
       "      <td>0.0</td>\n",
       "      <td>1.0</td>\n",
       "    </tr>\n",
       "    <tr>\n",
       "      <th>2</th>\n",
       "      <td>0.0</td>\n",
       "      <td>0.0</td>\n",
       "      <td>0.0</td>\n",
       "      <td>0.0</td>\n",
       "      <td>0.0</td>\n",
       "      <td>0.0</td>\n",
       "      <td>0.0</td>\n",
       "      <td>0.0</td>\n",
       "      <td>0.0</td>\n",
       "      <td>1.0</td>\n",
       "      <td>...</td>\n",
       "      <td>0.0</td>\n",
       "      <td>0.0</td>\n",
       "      <td>0.0</td>\n",
       "      <td>0.0</td>\n",
       "      <td>0.0</td>\n",
       "      <td>0.0</td>\n",
       "      <td>1.0</td>\n",
       "      <td>0.0</td>\n",
       "      <td>0.0</td>\n",
       "      <td>1.0</td>\n",
       "    </tr>\n",
       "    <tr>\n",
       "      <th>3</th>\n",
       "      <td>0.0</td>\n",
       "      <td>0.0</td>\n",
       "      <td>0.0</td>\n",
       "      <td>0.0</td>\n",
       "      <td>0.0</td>\n",
       "      <td>0.0</td>\n",
       "      <td>0.0</td>\n",
       "      <td>0.0</td>\n",
       "      <td>0.0</td>\n",
       "      <td>0.0</td>\n",
       "      <td>...</td>\n",
       "      <td>0.0</td>\n",
       "      <td>0.0</td>\n",
       "      <td>0.0</td>\n",
       "      <td>0.0</td>\n",
       "      <td>0.0</td>\n",
       "      <td>0.0</td>\n",
       "      <td>1.0</td>\n",
       "      <td>0.0</td>\n",
       "      <td>0.0</td>\n",
       "      <td>1.0</td>\n",
       "    </tr>\n",
       "    <tr>\n",
       "      <th>4</th>\n",
       "      <td>0.0</td>\n",
       "      <td>0.0</td>\n",
       "      <td>0.0</td>\n",
       "      <td>0.0</td>\n",
       "      <td>0.0</td>\n",
       "      <td>0.0</td>\n",
       "      <td>0.0</td>\n",
       "      <td>0.0</td>\n",
       "      <td>0.0</td>\n",
       "      <td>0.0</td>\n",
       "      <td>...</td>\n",
       "      <td>0.0</td>\n",
       "      <td>0.0</td>\n",
       "      <td>0.0</td>\n",
       "      <td>0.0</td>\n",
       "      <td>0.0</td>\n",
       "      <td>0.0</td>\n",
       "      <td>1.0</td>\n",
       "      <td>0.0</td>\n",
       "      <td>0.0</td>\n",
       "      <td>1.0</td>\n",
       "    </tr>\n",
       "  </tbody>\n",
       "</table>\n",
       "<p>5 rows × 72 columns</p>\n",
       "</div>"
      ],
      "text/plain": [
       "   order_purchase_month_2017-01  order_purchase_month_2017-02  \\\n",
       "0                           0.0                           0.0   \n",
       "1                           0.0                           0.0   \n",
       "2                           0.0                           0.0   \n",
       "3                           0.0                           0.0   \n",
       "4                           0.0                           0.0   \n",
       "\n",
       "   order_purchase_month_2017-03  order_purchase_month_2017-04  \\\n",
       "0                           0.0                           0.0   \n",
       "1                           0.0                           0.0   \n",
       "2                           0.0                           0.0   \n",
       "3                           0.0                           0.0   \n",
       "4                           0.0                           0.0   \n",
       "\n",
       "   order_purchase_month_2017-05  order_purchase_month_2017-06  \\\n",
       "0                           0.0                           0.0   \n",
       "1                           0.0                           0.0   \n",
       "2                           0.0                           0.0   \n",
       "3                           0.0                           0.0   \n",
       "4                           0.0                           0.0   \n",
       "\n",
       "   order_purchase_month_2017-07  order_purchase_month_2017-08  \\\n",
       "0                           0.0                           0.0   \n",
       "1                           0.0                           0.0   \n",
       "2                           0.0                           0.0   \n",
       "3                           0.0                           0.0   \n",
       "4                           0.0                           0.0   \n",
       "\n",
       "   order_purchase_month_2017-09  order_purchase_month_2017-10  ...  \\\n",
       "0                           0.0                           1.0  ...   \n",
       "1                           0.0                           1.0  ...   \n",
       "2                           0.0                           1.0  ...   \n",
       "3                           0.0                           0.0  ...   \n",
       "4                           0.0                           0.0  ...   \n",
       "\n",
       "   seller_state_RJ  seller_state_RN  seller_state_RO  seller_state_RS  \\\n",
       "0              0.0              0.0              0.0              0.0   \n",
       "1              0.0              0.0              0.0              0.0   \n",
       "2              0.0              0.0              0.0              0.0   \n",
       "3              0.0              0.0              0.0              0.0   \n",
       "4              0.0              0.0              0.0              0.0   \n",
       "\n",
       "   seller_state_SC  seller_state_SE  seller_state_SP  distance_category_long  \\\n",
       "0              0.0              0.0              1.0                     0.0   \n",
       "1              0.0              0.0              1.0                     0.0   \n",
       "2              0.0              0.0              1.0                     0.0   \n",
       "3              0.0              0.0              1.0                     0.0   \n",
       "4              0.0              0.0              1.0                     0.0   \n",
       "\n",
       "   distance_category_medium  distance_category_short  \n",
       "0                       0.0                      1.0  \n",
       "1                       0.0                      1.0  \n",
       "2                       0.0                      1.0  \n",
       "3                       0.0                      1.0  \n",
       "4                       0.0                      1.0  \n",
       "\n",
       "[5 rows x 72 columns]"
      ]
     },
     "execution_count": 283,
     "metadata": {},
     "output_type": "execute_result"
    }
   ],
   "source": [
    "df_cat_transform.head()"
   ]
  },
  {
   "cell_type": "code",
   "execution_count": 284,
   "id": "040d8737",
   "metadata": {},
   "outputs": [],
   "source": [
    "# Train and test\n",
    "from sklearn.model_selection import train_test_split\n",
    "X = df_cat_transform\n",
    "y = df_merged['is_late']\n",
    "\n",
    "X_train, X_test, y_train, y_test = train_test_split(\n",
    "    X, y, test_size = 0.2, stratify=y\n",
    ")\n"
   ]
  },
  {
   "cell_type": "code",
   "execution_count": 285,
   "id": "93a36ad2",
   "metadata": {},
   "outputs": [
    {
     "data": {
      "text/html": [
       "<style>#sk-container-id-5 {\n",
       "  /* Definition of color scheme common for light and dark mode */\n",
       "  --sklearn-color-text: #000;\n",
       "  --sklearn-color-text-muted: #666;\n",
       "  --sklearn-color-line: gray;\n",
       "  /* Definition of color scheme for unfitted estimators */\n",
       "  --sklearn-color-unfitted-level-0: #fff5e6;\n",
       "  --sklearn-color-unfitted-level-1: #f6e4d2;\n",
       "  --sklearn-color-unfitted-level-2: #ffe0b3;\n",
       "  --sklearn-color-unfitted-level-3: chocolate;\n",
       "  /* Definition of color scheme for fitted estimators */\n",
       "  --sklearn-color-fitted-level-0: #f0f8ff;\n",
       "  --sklearn-color-fitted-level-1: #d4ebff;\n",
       "  --sklearn-color-fitted-level-2: #b3dbfd;\n",
       "  --sklearn-color-fitted-level-3: cornflowerblue;\n",
       "\n",
       "  /* Specific color for light theme */\n",
       "  --sklearn-color-text-on-default-background: var(--sg-text-color, var(--theme-code-foreground, var(--jp-content-font-color1, black)));\n",
       "  --sklearn-color-background: var(--sg-background-color, var(--theme-background, var(--jp-layout-color0, white)));\n",
       "  --sklearn-color-border-box: var(--sg-text-color, var(--theme-code-foreground, var(--jp-content-font-color1, black)));\n",
       "  --sklearn-color-icon: #696969;\n",
       "\n",
       "  @media (prefers-color-scheme: dark) {\n",
       "    /* Redefinition of color scheme for dark theme */\n",
       "    --sklearn-color-text-on-default-background: var(--sg-text-color, var(--theme-code-foreground, var(--jp-content-font-color1, white)));\n",
       "    --sklearn-color-background: var(--sg-background-color, var(--theme-background, var(--jp-layout-color0, #111)));\n",
       "    --sklearn-color-border-box: var(--sg-text-color, var(--theme-code-foreground, var(--jp-content-font-color1, white)));\n",
       "    --sklearn-color-icon: #878787;\n",
       "  }\n",
       "}\n",
       "\n",
       "#sk-container-id-5 {\n",
       "  color: var(--sklearn-color-text);\n",
       "}\n",
       "\n",
       "#sk-container-id-5 pre {\n",
       "  padding: 0;\n",
       "}\n",
       "\n",
       "#sk-container-id-5 input.sk-hidden--visually {\n",
       "  border: 0;\n",
       "  clip: rect(1px 1px 1px 1px);\n",
       "  clip: rect(1px, 1px, 1px, 1px);\n",
       "  height: 1px;\n",
       "  margin: -1px;\n",
       "  overflow: hidden;\n",
       "  padding: 0;\n",
       "  position: absolute;\n",
       "  width: 1px;\n",
       "}\n",
       "\n",
       "#sk-container-id-5 div.sk-dashed-wrapped {\n",
       "  border: 1px dashed var(--sklearn-color-line);\n",
       "  margin: 0 0.4em 0.5em 0.4em;\n",
       "  box-sizing: border-box;\n",
       "  padding-bottom: 0.4em;\n",
       "  background-color: var(--sklearn-color-background);\n",
       "}\n",
       "\n",
       "#sk-container-id-5 div.sk-container {\n",
       "  /* jupyter's `normalize.less` sets `[hidden] { display: none; }`\n",
       "     but bootstrap.min.css set `[hidden] { display: none !important; }`\n",
       "     so we also need the `!important` here to be able to override the\n",
       "     default hidden behavior on the sphinx rendered scikit-learn.org.\n",
       "     See: https://github.com/scikit-learn/scikit-learn/issues/21755 */\n",
       "  display: inline-block !important;\n",
       "  position: relative;\n",
       "}\n",
       "\n",
       "#sk-container-id-5 div.sk-text-repr-fallback {\n",
       "  display: none;\n",
       "}\n",
       "\n",
       "div.sk-parallel-item,\n",
       "div.sk-serial,\n",
       "div.sk-item {\n",
       "  /* draw centered vertical line to link estimators */\n",
       "  background-image: linear-gradient(var(--sklearn-color-text-on-default-background), var(--sklearn-color-text-on-default-background));\n",
       "  background-size: 2px 100%;\n",
       "  background-repeat: no-repeat;\n",
       "  background-position: center center;\n",
       "}\n",
       "\n",
       "/* Parallel-specific style estimator block */\n",
       "\n",
       "#sk-container-id-5 div.sk-parallel-item::after {\n",
       "  content: \"\";\n",
       "  width: 100%;\n",
       "  border-bottom: 2px solid var(--sklearn-color-text-on-default-background);\n",
       "  flex-grow: 1;\n",
       "}\n",
       "\n",
       "#sk-container-id-5 div.sk-parallel {\n",
       "  display: flex;\n",
       "  align-items: stretch;\n",
       "  justify-content: center;\n",
       "  background-color: var(--sklearn-color-background);\n",
       "  position: relative;\n",
       "}\n",
       "\n",
       "#sk-container-id-5 div.sk-parallel-item {\n",
       "  display: flex;\n",
       "  flex-direction: column;\n",
       "}\n",
       "\n",
       "#sk-container-id-5 div.sk-parallel-item:first-child::after {\n",
       "  align-self: flex-end;\n",
       "  width: 50%;\n",
       "}\n",
       "\n",
       "#sk-container-id-5 div.sk-parallel-item:last-child::after {\n",
       "  align-self: flex-start;\n",
       "  width: 50%;\n",
       "}\n",
       "\n",
       "#sk-container-id-5 div.sk-parallel-item:only-child::after {\n",
       "  width: 0;\n",
       "}\n",
       "\n",
       "/* Serial-specific style estimator block */\n",
       "\n",
       "#sk-container-id-5 div.sk-serial {\n",
       "  display: flex;\n",
       "  flex-direction: column;\n",
       "  align-items: center;\n",
       "  background-color: var(--sklearn-color-background);\n",
       "  padding-right: 1em;\n",
       "  padding-left: 1em;\n",
       "}\n",
       "\n",
       "\n",
       "/* Toggleable style: style used for estimator/Pipeline/ColumnTransformer box that is\n",
       "clickable and can be expanded/collapsed.\n",
       "- Pipeline and ColumnTransformer use this feature and define the default style\n",
       "- Estimators will overwrite some part of the style using the `sk-estimator` class\n",
       "*/\n",
       "\n",
       "/* Pipeline and ColumnTransformer style (default) */\n",
       "\n",
       "#sk-container-id-5 div.sk-toggleable {\n",
       "  /* Default theme specific background. It is overwritten whether we have a\n",
       "  specific estimator or a Pipeline/ColumnTransformer */\n",
       "  background-color: var(--sklearn-color-background);\n",
       "}\n",
       "\n",
       "/* Toggleable label */\n",
       "#sk-container-id-5 label.sk-toggleable__label {\n",
       "  cursor: pointer;\n",
       "  display: flex;\n",
       "  width: 100%;\n",
       "  margin-bottom: 0;\n",
       "  padding: 0.5em;\n",
       "  box-sizing: border-box;\n",
       "  text-align: center;\n",
       "  align-items: start;\n",
       "  justify-content: space-between;\n",
       "  gap: 0.5em;\n",
       "}\n",
       "\n",
       "#sk-container-id-5 label.sk-toggleable__label .caption {\n",
       "  font-size: 0.6rem;\n",
       "  font-weight: lighter;\n",
       "  color: var(--sklearn-color-text-muted);\n",
       "}\n",
       "\n",
       "#sk-container-id-5 label.sk-toggleable__label-arrow:before {\n",
       "  /* Arrow on the left of the label */\n",
       "  content: \"▸\";\n",
       "  float: left;\n",
       "  margin-right: 0.25em;\n",
       "  color: var(--sklearn-color-icon);\n",
       "}\n",
       "\n",
       "#sk-container-id-5 label.sk-toggleable__label-arrow:hover:before {\n",
       "  color: var(--sklearn-color-text);\n",
       "}\n",
       "\n",
       "/* Toggleable content - dropdown */\n",
       "\n",
       "#sk-container-id-5 div.sk-toggleable__content {\n",
       "  max-height: 0;\n",
       "  max-width: 0;\n",
       "  overflow: hidden;\n",
       "  text-align: left;\n",
       "  /* unfitted */\n",
       "  background-color: var(--sklearn-color-unfitted-level-0);\n",
       "}\n",
       "\n",
       "#sk-container-id-5 div.sk-toggleable__content.fitted {\n",
       "  /* fitted */\n",
       "  background-color: var(--sklearn-color-fitted-level-0);\n",
       "}\n",
       "\n",
       "#sk-container-id-5 div.sk-toggleable__content pre {\n",
       "  margin: 0.2em;\n",
       "  border-radius: 0.25em;\n",
       "  color: var(--sklearn-color-text);\n",
       "  /* unfitted */\n",
       "  background-color: var(--sklearn-color-unfitted-level-0);\n",
       "}\n",
       "\n",
       "#sk-container-id-5 div.sk-toggleable__content.fitted pre {\n",
       "  /* unfitted */\n",
       "  background-color: var(--sklearn-color-fitted-level-0);\n",
       "}\n",
       "\n",
       "#sk-container-id-5 input.sk-toggleable__control:checked~div.sk-toggleable__content {\n",
       "  /* Expand drop-down */\n",
       "  max-height: 200px;\n",
       "  max-width: 100%;\n",
       "  overflow: auto;\n",
       "}\n",
       "\n",
       "#sk-container-id-5 input.sk-toggleable__control:checked~label.sk-toggleable__label-arrow:before {\n",
       "  content: \"▾\";\n",
       "}\n",
       "\n",
       "/* Pipeline/ColumnTransformer-specific style */\n",
       "\n",
       "#sk-container-id-5 div.sk-label input.sk-toggleable__control:checked~label.sk-toggleable__label {\n",
       "  color: var(--sklearn-color-text);\n",
       "  background-color: var(--sklearn-color-unfitted-level-2);\n",
       "}\n",
       "\n",
       "#sk-container-id-5 div.sk-label.fitted input.sk-toggleable__control:checked~label.sk-toggleable__label {\n",
       "  background-color: var(--sklearn-color-fitted-level-2);\n",
       "}\n",
       "\n",
       "/* Estimator-specific style */\n",
       "\n",
       "/* Colorize estimator box */\n",
       "#sk-container-id-5 div.sk-estimator input.sk-toggleable__control:checked~label.sk-toggleable__label {\n",
       "  /* unfitted */\n",
       "  background-color: var(--sklearn-color-unfitted-level-2);\n",
       "}\n",
       "\n",
       "#sk-container-id-5 div.sk-estimator.fitted input.sk-toggleable__control:checked~label.sk-toggleable__label {\n",
       "  /* fitted */\n",
       "  background-color: var(--sklearn-color-fitted-level-2);\n",
       "}\n",
       "\n",
       "#sk-container-id-5 div.sk-label label.sk-toggleable__label,\n",
       "#sk-container-id-5 div.sk-label label {\n",
       "  /* The background is the default theme color */\n",
       "  color: var(--sklearn-color-text-on-default-background);\n",
       "}\n",
       "\n",
       "/* On hover, darken the color of the background */\n",
       "#sk-container-id-5 div.sk-label:hover label.sk-toggleable__label {\n",
       "  color: var(--sklearn-color-text);\n",
       "  background-color: var(--sklearn-color-unfitted-level-2);\n",
       "}\n",
       "\n",
       "/* Label box, darken color on hover, fitted */\n",
       "#sk-container-id-5 div.sk-label.fitted:hover label.sk-toggleable__label.fitted {\n",
       "  color: var(--sklearn-color-text);\n",
       "  background-color: var(--sklearn-color-fitted-level-2);\n",
       "}\n",
       "\n",
       "/* Estimator label */\n",
       "\n",
       "#sk-container-id-5 div.sk-label label {\n",
       "  font-family: monospace;\n",
       "  font-weight: bold;\n",
       "  display: inline-block;\n",
       "  line-height: 1.2em;\n",
       "}\n",
       "\n",
       "#sk-container-id-5 div.sk-label-container {\n",
       "  text-align: center;\n",
       "}\n",
       "\n",
       "/* Estimator-specific */\n",
       "#sk-container-id-5 div.sk-estimator {\n",
       "  font-family: monospace;\n",
       "  border: 1px dotted var(--sklearn-color-border-box);\n",
       "  border-radius: 0.25em;\n",
       "  box-sizing: border-box;\n",
       "  margin-bottom: 0.5em;\n",
       "  /* unfitted */\n",
       "  background-color: var(--sklearn-color-unfitted-level-0);\n",
       "}\n",
       "\n",
       "#sk-container-id-5 div.sk-estimator.fitted {\n",
       "  /* fitted */\n",
       "  background-color: var(--sklearn-color-fitted-level-0);\n",
       "}\n",
       "\n",
       "/* on hover */\n",
       "#sk-container-id-5 div.sk-estimator:hover {\n",
       "  /* unfitted */\n",
       "  background-color: var(--sklearn-color-unfitted-level-2);\n",
       "}\n",
       "\n",
       "#sk-container-id-5 div.sk-estimator.fitted:hover {\n",
       "  /* fitted */\n",
       "  background-color: var(--sklearn-color-fitted-level-2);\n",
       "}\n",
       "\n",
       "/* Specification for estimator info (e.g. \"i\" and \"?\") */\n",
       "\n",
       "/* Common style for \"i\" and \"?\" */\n",
       "\n",
       ".sk-estimator-doc-link,\n",
       "a:link.sk-estimator-doc-link,\n",
       "a:visited.sk-estimator-doc-link {\n",
       "  float: right;\n",
       "  font-size: smaller;\n",
       "  line-height: 1em;\n",
       "  font-family: monospace;\n",
       "  background-color: var(--sklearn-color-background);\n",
       "  border-radius: 1em;\n",
       "  height: 1em;\n",
       "  width: 1em;\n",
       "  text-decoration: none !important;\n",
       "  margin-left: 0.5em;\n",
       "  text-align: center;\n",
       "  /* unfitted */\n",
       "  border: var(--sklearn-color-unfitted-level-1) 1pt solid;\n",
       "  color: var(--sklearn-color-unfitted-level-1);\n",
       "}\n",
       "\n",
       ".sk-estimator-doc-link.fitted,\n",
       "a:link.sk-estimator-doc-link.fitted,\n",
       "a:visited.sk-estimator-doc-link.fitted {\n",
       "  /* fitted */\n",
       "  border: var(--sklearn-color-fitted-level-1) 1pt solid;\n",
       "  color: var(--sklearn-color-fitted-level-1);\n",
       "}\n",
       "\n",
       "/* On hover */\n",
       "div.sk-estimator:hover .sk-estimator-doc-link:hover,\n",
       ".sk-estimator-doc-link:hover,\n",
       "div.sk-label-container:hover .sk-estimator-doc-link:hover,\n",
       ".sk-estimator-doc-link:hover {\n",
       "  /* unfitted */\n",
       "  background-color: var(--sklearn-color-unfitted-level-3);\n",
       "  color: var(--sklearn-color-background);\n",
       "  text-decoration: none;\n",
       "}\n",
       "\n",
       "div.sk-estimator.fitted:hover .sk-estimator-doc-link.fitted:hover,\n",
       ".sk-estimator-doc-link.fitted:hover,\n",
       "div.sk-label-container:hover .sk-estimator-doc-link.fitted:hover,\n",
       ".sk-estimator-doc-link.fitted:hover {\n",
       "  /* fitted */\n",
       "  background-color: var(--sklearn-color-fitted-level-3);\n",
       "  color: var(--sklearn-color-background);\n",
       "  text-decoration: none;\n",
       "}\n",
       "\n",
       "/* Span, style for the box shown on hovering the info icon */\n",
       ".sk-estimator-doc-link span {\n",
       "  display: none;\n",
       "  z-index: 9999;\n",
       "  position: relative;\n",
       "  font-weight: normal;\n",
       "  right: .2ex;\n",
       "  padding: .5ex;\n",
       "  margin: .5ex;\n",
       "  width: min-content;\n",
       "  min-width: 20ex;\n",
       "  max-width: 50ex;\n",
       "  color: var(--sklearn-color-text);\n",
       "  box-shadow: 2pt 2pt 4pt #999;\n",
       "  /* unfitted */\n",
       "  background: var(--sklearn-color-unfitted-level-0);\n",
       "  border: .5pt solid var(--sklearn-color-unfitted-level-3);\n",
       "}\n",
       "\n",
       ".sk-estimator-doc-link.fitted span {\n",
       "  /* fitted */\n",
       "  background: var(--sklearn-color-fitted-level-0);\n",
       "  border: var(--sklearn-color-fitted-level-3);\n",
       "}\n",
       "\n",
       ".sk-estimator-doc-link:hover span {\n",
       "  display: block;\n",
       "}\n",
       "\n",
       "/* \"?\"-specific style due to the `<a>` HTML tag */\n",
       "\n",
       "#sk-container-id-5 a.estimator_doc_link {\n",
       "  float: right;\n",
       "  font-size: 1rem;\n",
       "  line-height: 1em;\n",
       "  font-family: monospace;\n",
       "  background-color: var(--sklearn-color-background);\n",
       "  border-radius: 1rem;\n",
       "  height: 1rem;\n",
       "  width: 1rem;\n",
       "  text-decoration: none;\n",
       "  /* unfitted */\n",
       "  color: var(--sklearn-color-unfitted-level-1);\n",
       "  border: var(--sklearn-color-unfitted-level-1) 1pt solid;\n",
       "}\n",
       "\n",
       "#sk-container-id-5 a.estimator_doc_link.fitted {\n",
       "  /* fitted */\n",
       "  border: var(--sklearn-color-fitted-level-1) 1pt solid;\n",
       "  color: var(--sklearn-color-fitted-level-1);\n",
       "}\n",
       "\n",
       "/* On hover */\n",
       "#sk-container-id-5 a.estimator_doc_link:hover {\n",
       "  /* unfitted */\n",
       "  background-color: var(--sklearn-color-unfitted-level-3);\n",
       "  color: var(--sklearn-color-background);\n",
       "  text-decoration: none;\n",
       "}\n",
       "\n",
       "#sk-container-id-5 a.estimator_doc_link.fitted:hover {\n",
       "  /* fitted */\n",
       "  background-color: var(--sklearn-color-fitted-level-3);\n",
       "}\n",
       "</style><div id=\"sk-container-id-5\" class=\"sk-top-container\"><div class=\"sk-text-repr-fallback\"><pre>RandomForestClassifier(class_weight=&#x27;balanced&#x27;, random_state=42)</pre><b>In a Jupyter environment, please rerun this cell to show the HTML representation or trust the notebook. <br />On GitHub, the HTML representation is unable to render, please try loading this page with nbviewer.org.</b></div><div class=\"sk-container\" hidden><div class=\"sk-item\"><div class=\"sk-estimator fitted sk-toggleable\"><input class=\"sk-toggleable__control sk-hidden--visually\" id=\"sk-estimator-id-5\" type=\"checkbox\" checked><label for=\"sk-estimator-id-5\" class=\"sk-toggleable__label fitted sk-toggleable__label-arrow\"><div><div>RandomForestClassifier</div></div><div><a class=\"sk-estimator-doc-link fitted\" rel=\"noreferrer\" target=\"_blank\" href=\"https://scikit-learn.org/1.6/modules/generated/sklearn.ensemble.RandomForestClassifier.html\">?<span>Documentation for RandomForestClassifier</span></a><span class=\"sk-estimator-doc-link fitted\">i<span>Fitted</span></span></div></label><div class=\"sk-toggleable__content fitted\"><pre>RandomForestClassifier(class_weight=&#x27;balanced&#x27;, random_state=42)</pre></div> </div></div></div></div>"
      ],
      "text/plain": [
       "RandomForestClassifier(class_weight='balanced', random_state=42)"
      ]
     },
     "execution_count": 285,
     "metadata": {},
     "output_type": "execute_result"
    }
   ],
   "source": [
    "# Training a model using random forest classifier\n",
    "from sklearn.ensemble import RandomForestClassifier\n",
    "rf = RandomForestClassifier(n_estimators=100, class_weight='balanced', random_state= 42 )\n",
    "rf.fit(X_train, y_train )"
   ]
  },
  {
   "cell_type": "code",
   "execution_count": 286,
   "id": "17eee3dd",
   "metadata": {},
   "outputs": [],
   "source": [
    "# Categorical feature importance\n",
    "def feature_importance(feature, importance):\n",
    "    importance_df = pd.DataFrame({\n",
    "        'feature': feature,\n",
    "        'importance': importance\n",
    "    }).sort_values(by='importance', ascending=False)\n",
    "    return importance_df"
   ]
  },
  {
   "cell_type": "code",
   "execution_count": 287,
   "id": "d7434ef8",
   "metadata": {},
   "outputs": [],
   "source": [
    "importance_df = feature_importance(df_cat_transform.columns, rf.feature_importances_)"
   ]
  },
  {
   "cell_type": "code",
   "execution_count": 288,
   "id": "a7ea91dc",
   "metadata": {},
   "outputs": [],
   "source": [
    "# Plot\n",
    "def importance_barplot (title):\n",
    "    plt.figure(figsize=(10, 6))\n",
    "    sns.barplot(data=importance_df.head(20), x='importance', y='feature')\n",
    "    plt.title(title)\n",
    "    plt.grid(True)\n",
    "    return plt.show()"
   ]
  },
  {
   "cell_type": "code",
   "execution_count": 289,
   "id": "cdd0aebd",
   "metadata": {},
   "outputs": [
    {
     "data": {
      "image/png": "[encoded data removed]",
      "text/plain": [
       "<Figure size 1000x600 with 1 Axes>"
      ]
     },
     "metadata": {},
     "output_type": "display_data"
    }
   ],
   "source": [
    "importance_barplot('Feature importance (Categorical Features)')"
   ]
  },
  {
   "cell_type": "markdown",
   "id": "00a6842f",
   "metadata": {},
   "source": [
    "## Numeric Features\n",
    "In this step, the import columns with the numeric features will be select."
   ]
  },
  {
   "cell_type": "code",
   "execution_count": 290,
   "id": "6379b9cc",
   "metadata": {},
   "outputs": [],
   "source": [
    "# selecting numeric features\n",
    "df_numeric = df_merged[['product_volume',\n",
    "                        'product_weight_g',\n",
    "                        'freight_value',\n",
    "                        'payment_value',\n",
    "                        'price',\n",
    "                        'estimated_time',\n",
    "]]"
   ]
  },
  {
   "cell_type": "code",
   "execution_count": 291,
   "id": "41c2ac7d",
   "metadata": {},
   "outputs": [
    {
     "data": {
      "text/plain": [
       "product_volume      794\n",
       "product_weight_g    794\n",
       "freight_value       794\n",
       "payment_value         0\n",
       "price               794\n",
       "estimated_time      151\n",
       "dtype: int64"
      ]
     },
     "execution_count": 291,
     "metadata": {},
     "output_type": "execute_result"
    }
   ],
   "source": [
    "# checking null values\n",
    "df_numeric.isnull().sum()"
   ]
  },
  {
   "cell_type": "code",
   "execution_count": 292,
   "id": "6b5852e8",
   "metadata": {},
   "outputs": [
    {
     "name": "stdout",
     "output_type": "stream",
     "text": [
      "'unknown' represents 0.69% of the dataset.\n"
     ]
    }
   ],
   "source": [
    "# Verify the percentage of null values\n",
    "total_rows = len(df_numeric)\n",
    "unknown_count = df_numeric.isnull().any(axis=1).sum()\n",
    "percentage_unknown = (unknown_count / total_rows) * 100\n",
    "\n",
    "print(f\"'unknown' represents {percentage_unknown:.2f}% of the dataset.\")"
   ]
  },
  {
   "cell_type": "code",
   "execution_count": 293,
   "id": "0fd91687",
   "metadata": {},
   "outputs": [],
   "source": [
    "# Null values Tratment\n",
    "df_numeric= df_numeric.apply(lambda col: col.fillna(col.median()), axis=0)"
   ]
  },
  {
   "cell_type": "code",
   "execution_count": 294,
   "id": "048425ee",
   "metadata": {},
   "outputs": [],
   "source": [
    "# train and test\n",
    "X = df_numeric\n",
    "y = df_merged['is_late']\n",
    "\n",
    "X_train, X_test, y_train, y_test = train_test_split(\n",
    "    X, y, test_size = 0.2, stratify=y)"
   ]
  },
  {
   "cell_type": "code",
   "execution_count": 295,
   "id": "9e4a97b0",
   "metadata": {},
   "outputs": [
    {
     "data": {
      "text/html": [
       "<style>#sk-container-id-6 {\n",
       "  /* Definition of color scheme common for light and dark mode */\n",
       "  --sklearn-color-text: #000;\n",
       "  --sklearn-color-text-muted: #666;\n",
       "  --sklearn-color-line: gray;\n",
       "  /* Definition of color scheme for unfitted estimators */\n",
       "  --sklearn-color-unfitted-level-0: #fff5e6;\n",
       "  --sklearn-color-unfitted-level-1: #f6e4d2;\n",
       "  --sklearn-color-unfitted-level-2: #ffe0b3;\n",
       "  --sklearn-color-unfitted-level-3: chocolate;\n",
       "  /* Definition of color scheme for fitted estimators */\n",
       "  --sklearn-color-fitted-level-0: #f0f8ff;\n",
       "  --sklearn-color-fitted-level-1: #d4ebff;\n",
       "  --sklearn-color-fitted-level-2: #b3dbfd;\n",
       "  --sklearn-color-fitted-level-3: cornflowerblue;\n",
       "\n",
       "  /* Specific color for light theme */\n",
       "  --sklearn-color-text-on-default-background: var(--sg-text-color, var(--theme-code-foreground, var(--jp-content-font-color1, black)));\n",
       "  --sklearn-color-background: var(--sg-background-color, var(--theme-background, var(--jp-layout-color0, white)));\n",
       "  --sklearn-color-border-box: var(--sg-text-color, var(--theme-code-foreground, var(--jp-content-font-color1, black)));\n",
       "  --sklearn-color-icon: #696969;\n",
       "\n",
       "  @media (prefers-color-scheme: dark) {\n",
       "    /* Redefinition of color scheme for dark theme */\n",
       "    --sklearn-color-text-on-default-background: var(--sg-text-color, var(--theme-code-foreground, var(--jp-content-font-color1, white)));\n",
       "    --sklearn-color-background: var(--sg-background-color, var(--theme-background, var(--jp-layout-color0, #111)));\n",
       "    --sklearn-color-border-box: var(--sg-text-color, var(--theme-code-foreground, var(--jp-content-font-color1, white)));\n",
       "    --sklearn-color-icon: #878787;\n",
       "  }\n",
       "}\n",
       "\n",
       "#sk-container-id-6 {\n",
       "  color: var(--sklearn-color-text);\n",
       "}\n",
       "\n",
       "#sk-container-id-6 pre {\n",
       "  padding: 0;\n",
       "}\n",
       "\n",
       "#sk-container-id-6 input.sk-hidden--visually {\n",
       "  border: 0;\n",
       "  clip: rect(1px 1px 1px 1px);\n",
       "  clip: rect(1px, 1px, 1px, 1px);\n",
       "  height: 1px;\n",
       "  margin: -1px;\n",
       "  overflow: hidden;\n",
       "  padding: 0;\n",
       "  position: absolute;\n",
       "  width: 1px;\n",
       "}\n",
       "\n",
       "#sk-container-id-6 div.sk-dashed-wrapped {\n",
       "  border: 1px dashed var(--sklearn-color-line);\n",
       "  margin: 0 0.4em 0.5em 0.4em;\n",
       "  box-sizing: border-box;\n",
       "  padding-bottom: 0.4em;\n",
       "  background-color: var(--sklearn-color-background);\n",
       "}\n",
       "\n",
       "#sk-container-id-6 div.sk-container {\n",
       "  /* jupyter's `normalize.less` sets `[hidden] { display: none; }`\n",
       "     but bootstrap.min.css set `[hidden] { display: none !important; }`\n",
       "     so we also need the `!important` here to be able to override the\n",
       "     default hidden behavior on the sphinx rendered scikit-learn.org.\n",
       "     See: https://github.com/scikit-learn/scikit-learn/issues/21755 */\n",
       "  display: inline-block !important;\n",
       "  position: relative;\n",
       "}\n",
       "\n",
       "#sk-container-id-6 div.sk-text-repr-fallback {\n",
       "  display: none;\n",
       "}\n",
       "\n",
       "div.sk-parallel-item,\n",
       "div.sk-serial,\n",
       "div.sk-item {\n",
       "  /* draw centered vertical line to link estimators */\n",
       "  background-image: linear-gradient(var(--sklearn-color-text-on-default-background), var(--sklearn-color-text-on-default-background));\n",
       "  background-size: 2px 100%;\n",
       "  background-repeat: no-repeat;\n",
       "  background-position: center center;\n",
       "}\n",
       "\n",
       "/* Parallel-specific style estimator block */\n",
       "\n",
       "#sk-container-id-6 div.sk-parallel-item::after {\n",
       "  content: \"\";\n",
       "  width: 100%;\n",
       "  border-bottom: 2px solid var(--sklearn-color-text-on-default-background);\n",
       "  flex-grow: 1;\n",
       "}\n",
       "\n",
       "#sk-container-id-6 div.sk-parallel {\n",
       "  display: flex;\n",
       "  align-items: stretch;\n",
       "  justify-content: center;\n",
       "  background-color: var(--sklearn-color-background);\n",
       "  position: relative;\n",
       "}\n",
       "\n",
       "#sk-container-id-6 div.sk-parallel-item {\n",
       "  display: flex;\n",
       "  flex-direction: column;\n",
       "}\n",
       "\n",
       "#sk-container-id-6 div.sk-parallel-item:first-child::after {\n",
       "  align-self: flex-end;\n",
       "  width: 50%;\n",
       "}\n",
       "\n",
       "#sk-container-id-6 div.sk-parallel-item:last-child::after {\n",
       "  align-self: flex-start;\n",
       "  width: 50%;\n",
       "}\n",
       "\n",
       "#sk-container-id-6 div.sk-parallel-item:only-child::after {\n",
       "  width: 0;\n",
       "}\n",
       "\n",
       "/* Serial-specific style estimator block */\n",
       "\n",
       "#sk-container-id-6 div.sk-serial {\n",
       "  display: flex;\n",
       "  flex-direction: column;\n",
       "  align-items: center;\n",
       "  background-color: var(--sklearn-color-background);\n",
       "  padding-right: 1em;\n",
       "  padding-left: 1em;\n",
       "}\n",
       "\n",
       "\n",
       "/* Toggleable style: style used for estimator/Pipeline/ColumnTransformer box that is\n",
       "clickable and can be expanded/collapsed.\n",
       "- Pipeline and ColumnTransformer use this feature and define the default style\n",
       "- Estimators will overwrite some part of the style using the `sk-estimator` class\n",
       "*/\n",
       "\n",
       "/* Pipeline and ColumnTransformer style (default) */\n",
       "\n",
       "#sk-container-id-6 div.sk-toggleable {\n",
       "  /* Default theme specific background. It is overwritten whether we have a\n",
       "  specific estimator or a Pipeline/ColumnTransformer */\n",
       "  background-color: var(--sklearn-color-background);\n",
       "}\n",
       "\n",
       "/* Toggleable label */\n",
       "#sk-container-id-6 label.sk-toggleable__label {\n",
       "  cursor: pointer;\n",
       "  display: flex;\n",
       "  width: 100%;\n",
       "  margin-bottom: 0;\n",
       "  padding: 0.5em;\n",
       "  box-sizing: border-box;\n",
       "  text-align: center;\n",
       "  align-items: start;\n",
       "  justify-content: space-between;\n",
       "  gap: 0.5em;\n",
       "}\n",
       "\n",
       "#sk-container-id-6 label.sk-toggleable__label .caption {\n",
       "  font-size: 0.6rem;\n",
       "  font-weight: lighter;\n",
       "  color: var(--sklearn-color-text-muted);\n",
       "}\n",
       "\n",
       "#sk-container-id-6 label.sk-toggleable__label-arrow:before {\n",
       "  /* Arrow on the left of the label */\n",
       "  content: \"▸\";\n",
       "  float: left;\n",
       "  margin-right: 0.25em;\n",
       "  color: var(--sklearn-color-icon);\n",
       "}\n",
       "\n",
       "#sk-container-id-6 label.sk-toggleable__label-arrow:hover:before {\n",
       "  color: var(--sklearn-color-text);\n",
       "}\n",
       "\n",
       "/* Toggleable content - dropdown */\n",
       "\n",
       "#sk-container-id-6 div.sk-toggleable__content {\n",
       "  max-height: 0;\n",
       "  max-width: 0;\n",
       "  overflow: hidden;\n",
       "  text-align: left;\n",
       "  /* unfitted */\n",
       "  background-color: var(--sklearn-color-unfitted-level-0);\n",
       "}\n",
       "\n",
       "#sk-container-id-6 div.sk-toggleable__content.fitted {\n",
       "  /* fitted */\n",
       "  background-color: var(--sklearn-color-fitted-level-0);\n",
       "}\n",
       "\n",
       "#sk-container-id-6 div.sk-toggleable__content pre {\n",
       "  margin: 0.2em;\n",
       "  border-radius: 0.25em;\n",
       "  color: var(--sklearn-color-text);\n",
       "  /* unfitted */\n",
       "  background-color: var(--sklearn-color-unfitted-level-0);\n",
       "}\n",
       "\n",
       "#sk-container-id-6 div.sk-toggleable__content.fitted pre {\n",
       "  /* unfitted */\n",
       "  background-color: var(--sklearn-color-fitted-level-0);\n",
       "}\n",
       "\n",
       "#sk-container-id-6 input.sk-toggleable__control:checked~div.sk-toggleable__content {\n",
       "  /* Expand drop-down */\n",
       "  max-height: 200px;\n",
       "  max-width: 100%;\n",
       "  overflow: auto;\n",
       "}\n",
       "\n",
       "#sk-container-id-6 input.sk-toggleable__control:checked~label.sk-toggleable__label-arrow:before {\n",
       "  content: \"▾\";\n",
       "}\n",
       "\n",
       "/* Pipeline/ColumnTransformer-specific style */\n",
       "\n",
       "#sk-container-id-6 div.sk-label input.sk-toggleable__control:checked~label.sk-toggleable__label {\n",
       "  color: var(--sklearn-color-text);\n",
       "  background-color: var(--sklearn-color-unfitted-level-2);\n",
       "}\n",
       "\n",
       "#sk-container-id-6 div.sk-label.fitted input.sk-toggleable__control:checked~label.sk-toggleable__label {\n",
       "  background-color: var(--sklearn-color-fitted-level-2);\n",
       "}\n",
       "\n",
       "/* Estimator-specific style */\n",
       "\n",
       "/* Colorize estimator box */\n",
       "#sk-container-id-6 div.sk-estimator input.sk-toggleable__control:checked~label.sk-toggleable__label {\n",
       "  /* unfitted */\n",
       "  background-color: var(--sklearn-color-unfitted-level-2);\n",
       "}\n",
       "\n",
       "#sk-container-id-6 div.sk-estimator.fitted input.sk-toggleable__control:checked~label.sk-toggleable__label {\n",
       "  /* fitted */\n",
       "  background-color: var(--sklearn-color-fitted-level-2);\n",
       "}\n",
       "\n",
       "#sk-container-id-6 div.sk-label label.sk-toggleable__label,\n",
       "#sk-container-id-6 div.sk-label label {\n",
       "  /* The background is the default theme color */\n",
       "  color: var(--sklearn-color-text-on-default-background);\n",
       "}\n",
       "\n",
       "/* On hover, darken the color of the background */\n",
       "#sk-container-id-6 div.sk-label:hover label.sk-toggleable__label {\n",
       "  color: var(--sklearn-color-text);\n",
       "  background-color: var(--sklearn-color-unfitted-level-2);\n",
       "}\n",
       "\n",
       "/* Label box, darken color on hover, fitted */\n",
       "#sk-container-id-6 div.sk-label.fitted:hover label.sk-toggleable__label.fitted {\n",
       "  color: var(--sklearn-color-text);\n",
       "  background-color: var(--sklearn-color-fitted-level-2);\n",
       "}\n",
       "\n",
       "/* Estimator label */\n",
       "\n",
       "#sk-container-id-6 div.sk-label label {\n",
       "  font-family: monospace;\n",
       "  font-weight: bold;\n",
       "  display: inline-block;\n",
       "  line-height: 1.2em;\n",
       "}\n",
       "\n",
       "#sk-container-id-6 div.sk-label-container {\n",
       "  text-align: center;\n",
       "}\n",
       "\n",
       "/* Estimator-specific */\n",
       "#sk-container-id-6 div.sk-estimator {\n",
       "  font-family: monospace;\n",
       "  border: 1px dotted var(--sklearn-color-border-box);\n",
       "  border-radius: 0.25em;\n",
       "  box-sizing: border-box;\n",
       "  margin-bottom: 0.5em;\n",
       "  /* unfitted */\n",
       "  background-color: var(--sklearn-color-unfitted-level-0);\n",
       "}\n",
       "\n",
       "#sk-container-id-6 div.sk-estimator.fitted {\n",
       "  /* fitted */\n",
       "  background-color: var(--sklearn-color-fitted-level-0);\n",
       "}\n",
       "\n",
       "/* on hover */\n",
       "#sk-container-id-6 div.sk-estimator:hover {\n",
       "  /* unfitted */\n",
       "  background-color: var(--sklearn-color-unfitted-level-2);\n",
       "}\n",
       "\n",
       "#sk-container-id-6 div.sk-estimator.fitted:hover {\n",
       "  /* fitted */\n",
       "  background-color: var(--sklearn-color-fitted-level-2);\n",
       "}\n",
       "\n",
       "/* Specification for estimator info (e.g. \"i\" and \"?\") */\n",
       "\n",
       "/* Common style for \"i\" and \"?\" */\n",
       "\n",
       ".sk-estimator-doc-link,\n",
       "a:link.sk-estimator-doc-link,\n",
       "a:visited.sk-estimator-doc-link {\n",
       "  float: right;\n",
       "  font-size: smaller;\n",
       "  line-height: 1em;\n",
       "  font-family: monospace;\n",
       "  background-color: var(--sklearn-color-background);\n",
       "  border-radius: 1em;\n",
       "  height: 1em;\n",
       "  width: 1em;\n",
       "  text-decoration: none !important;\n",
       "  margin-left: 0.5em;\n",
       "  text-align: center;\n",
       "  /* unfitted */\n",
       "  border: var(--sklearn-color-unfitted-level-1) 1pt solid;\n",
       "  color: var(--sklearn-color-unfitted-level-1);\n",
       "}\n",
       "\n",
       ".sk-estimator-doc-link.fitted,\n",
       "a:link.sk-estimator-doc-link.fitted,\n",
       "a:visited.sk-estimator-doc-link.fitted {\n",
       "  /* fitted */\n",
       "  border: var(--sklearn-color-fitted-level-1) 1pt solid;\n",
       "  color: var(--sklearn-color-fitted-level-1);\n",
       "}\n",
       "\n",
       "/* On hover */\n",
       "div.sk-estimator:hover .sk-estimator-doc-link:hover,\n",
       ".sk-estimator-doc-link:hover,\n",
       "div.sk-label-container:hover .sk-estimator-doc-link:hover,\n",
       ".sk-estimator-doc-link:hover {\n",
       "  /* unfitted */\n",
       "  background-color: var(--sklearn-color-unfitted-level-3);\n",
       "  color: var(--sklearn-color-background);\n",
       "  text-decoration: none;\n",
       "}\n",
       "\n",
       "div.sk-estimator.fitted:hover .sk-estimator-doc-link.fitted:hover,\n",
       ".sk-estimator-doc-link.fitted:hover,\n",
       "div.sk-label-container:hover .sk-estimator-doc-link.fitted:hover,\n",
       ".sk-estimator-doc-link.fitted:hover {\n",
       "  /* fitted */\n",
       "  background-color: var(--sklearn-color-fitted-level-3);\n",
       "  color: var(--sklearn-color-background);\n",
       "  text-decoration: none;\n",
       "}\n",
       "\n",
       "/* Span, style for the box shown on hovering the info icon */\n",
       ".sk-estimator-doc-link span {\n",
       "  display: none;\n",
       "  z-index: 9999;\n",
       "  position: relative;\n",
       "  font-weight: normal;\n",
       "  right: .2ex;\n",
       "  padding: .5ex;\n",
       "  margin: .5ex;\n",
       "  width: min-content;\n",
       "  min-width: 20ex;\n",
       "  max-width: 50ex;\n",
       "  color: var(--sklearn-color-text);\n",
       "  box-shadow: 2pt 2pt 4pt #999;\n",
       "  /* unfitted */\n",
       "  background: var(--sklearn-color-unfitted-level-0);\n",
       "  border: .5pt solid var(--sklearn-color-unfitted-level-3);\n",
       "}\n",
       "\n",
       ".sk-estimator-doc-link.fitted span {\n",
       "  /* fitted */\n",
       "  background: var(--sklearn-color-fitted-level-0);\n",
       "  border: var(--sklearn-color-fitted-level-3);\n",
       "}\n",
       "\n",
       ".sk-estimator-doc-link:hover span {\n",
       "  display: block;\n",
       "}\n",
       "\n",
       "/* \"?\"-specific style due to the `<a>` HTML tag */\n",
       "\n",
       "#sk-container-id-6 a.estimator_doc_link {\n",
       "  float: right;\n",
       "  font-size: 1rem;\n",
       "  line-height: 1em;\n",
       "  font-family: monospace;\n",
       "  background-color: var(--sklearn-color-background);\n",
       "  border-radius: 1rem;\n",
       "  height: 1rem;\n",
       "  width: 1rem;\n",
       "  text-decoration: none;\n",
       "  /* unfitted */\n",
       "  color: var(--sklearn-color-unfitted-level-1);\n",
       "  border: var(--sklearn-color-unfitted-level-1) 1pt solid;\n",
       "}\n",
       "\n",
       "#sk-container-id-6 a.estimator_doc_link.fitted {\n",
       "  /* fitted */\n",
       "  border: var(--sklearn-color-fitted-level-1) 1pt solid;\n",
       "  color: var(--sklearn-color-fitted-level-1);\n",
       "}\n",
       "\n",
       "/* On hover */\n",
       "#sk-container-id-6 a.estimator_doc_link:hover {\n",
       "  /* unfitted */\n",
       "  background-color: var(--sklearn-color-unfitted-level-3);\n",
       "  color: var(--sklearn-color-background);\n",
       "  text-decoration: none;\n",
       "}\n",
       "\n",
       "#sk-container-id-6 a.estimator_doc_link.fitted:hover {\n",
       "  /* fitted */\n",
       "  background-color: var(--sklearn-color-fitted-level-3);\n",
       "}\n",
       "</style><div id=\"sk-container-id-6\" class=\"sk-top-container\"><div class=\"sk-text-repr-fallback\"><pre>RandomForestClassifier(class_weight=&#x27;balanced&#x27;, random_state=42)</pre><b>In a Jupyter environment, please rerun this cell to show the HTML representation or trust the notebook. <br />On GitHub, the HTML representation is unable to render, please try loading this page with nbviewer.org.</b></div><div class=\"sk-container\" hidden><div class=\"sk-item\"><div class=\"sk-estimator fitted sk-toggleable\"><input class=\"sk-toggleable__control sk-hidden--visually\" id=\"sk-estimator-id-6\" type=\"checkbox\" checked><label for=\"sk-estimator-id-6\" class=\"sk-toggleable__label fitted sk-toggleable__label-arrow\"><div><div>RandomForestClassifier</div></div><div><a class=\"sk-estimator-doc-link fitted\" rel=\"noreferrer\" target=\"_blank\" href=\"https://scikit-learn.org/1.6/modules/generated/sklearn.ensemble.RandomForestClassifier.html\">?<span>Documentation for RandomForestClassifier</span></a><span class=\"sk-estimator-doc-link fitted\">i<span>Fitted</span></span></div></label><div class=\"sk-toggleable__content fitted\"><pre>RandomForestClassifier(class_weight=&#x27;balanced&#x27;, random_state=42)</pre></div> </div></div></div></div>"
      ],
      "text/plain": [
       "RandomForestClassifier(class_weight='balanced', random_state=42)"
      ]
     },
     "execution_count": 295,
     "metadata": {},
     "output_type": "execute_result"
    }
   ],
   "source": [
    "# Training a model using random forest classifier\n",
    "from sklearn.ensemble import RandomForestClassifier\n",
    "rf = RandomForestClassifier(n_estimators=100, class_weight='balanced', random_state= 42 )\n",
    "rf.fit(X_train, y_train )"
   ]
  },
  {
   "cell_type": "code",
   "execution_count": 296,
   "id": "cee189ed",
   "metadata": {},
   "outputs": [],
   "source": [
    "# Correlation between numeric features\n",
    "correlation = pd.concat([X_train, y_train], axis=1).corr()"
   ]
  },
  {
   "cell_type": "code",
   "execution_count": 297,
   "id": "8a1ce839",
   "metadata": {},
   "outputs": [
    {
     "data": {
      "text/plain": [
       "<Axes: >"
      ]
     },
     "execution_count": 297,
     "metadata": {},
     "output_type": "execute_result"
    },
    {
     "data": {
      "image/png": "[encoded data removed]",
      "text/plain": [
       "<Figure size 1000x800 with 2 Axes>"
      ]
     },
     "metadata": {},
     "output_type": "display_data"
    }
   ],
   "source": [
    "# Plot\n",
    "plt.figure(figsize=(10,8))\n",
    "sns.heatmap(correlation, annot=True, cmap='coolwarm', fmt='.2f')"
   ]
  },
  {
   "cell_type": "code",
   "execution_count": 298,
   "id": "43efe9e0",
   "metadata": {},
   "outputs": [],
   "source": [
    "# Feature Importance\n",
    "importance_df = feature_importance(df_numeric.columns, rf.feature_importances_)"
   ]
  },
  {
   "cell_type": "code",
   "execution_count": 299,
   "id": "0dae474c",
   "metadata": {},
   "outputs": [
    {
     "data": {
      "image/png": "[encoded data removed]",
      "text/plain": [
       "<Figure size 1000x600 with 1 Axes>"
      ]
     },
     "metadata": {},
     "output_type": "display_data"
    }
   ],
   "source": [
    "# Plot\n",
    "importance_barplot('Feature importance (Numeric Features)')"
   ]
  },
  {
   "cell_type": "markdown",
   "id": "e4dc9d87",
   "metadata": {},
   "source": [
    "#### First model try"
   ]
  },
  {
   "cell_type": "code",
   "execution_count": 306,
   "id": "aa20f73e",
   "metadata": {},
   "outputs": [],
   "source": [
    "# Train and test split\n",
    "X = pd.concat([df_cat_transform, df_numeric], axis=1)\n",
    "y = df_merged['is_late']\n",
    "X_train, X_test, y_train, y_test = train_test_split(X, y, test_size=0.2, stratify=y)"
   ]
  },
  {
   "cell_type": "code",
   "execution_count": 307,
   "id": "8df1edb1",
   "metadata": {},
   "outputs": [
    {
     "data": {
      "text/html": [
       "<style>#sk-container-id-8 {\n",
       "  /* Definition of color scheme common for light and dark mode */\n",
       "  --sklearn-color-text: #000;\n",
       "  --sklearn-color-text-muted: #666;\n",
       "  --sklearn-color-line: gray;\n",
       "  /* Definition of color scheme for unfitted estimators */\n",
       "  --sklearn-color-unfitted-level-0: #fff5e6;\n",
       "  --sklearn-color-unfitted-level-1: #f6e4d2;\n",
       "  --sklearn-color-unfitted-level-2: #ffe0b3;\n",
       "  --sklearn-color-unfitted-level-3: chocolate;\n",
       "  /* Definition of color scheme for fitted estimators */\n",
       "  --sklearn-color-fitted-level-0: #f0f8ff;\n",
       "  --sklearn-color-fitted-level-1: #d4ebff;\n",
       "  --sklearn-color-fitted-level-2: #b3dbfd;\n",
       "  --sklearn-color-fitted-level-3: cornflowerblue;\n",
       "\n",
       "  /* Specific color for light theme */\n",
       "  --sklearn-color-text-on-default-background: var(--sg-text-color, var(--theme-code-foreground, var(--jp-content-font-color1, black)));\n",
       "  --sklearn-color-background: var(--sg-background-color, var(--theme-background, var(--jp-layout-color0, white)));\n",
       "  --sklearn-color-border-box: var(--sg-text-color, var(--theme-code-foreground, var(--jp-content-font-color1, black)));\n",
       "  --sklearn-color-icon: #696969;\n",
       "\n",
       "  @media (prefers-color-scheme: dark) {\n",
       "    /* Redefinition of color scheme for dark theme */\n",
       "    --sklearn-color-text-on-default-background: var(--sg-text-color, var(--theme-code-foreground, var(--jp-content-font-color1, white)));\n",
       "    --sklearn-color-background: var(--sg-background-color, var(--theme-background, var(--jp-layout-color0, #111)));\n",
       "    --sklearn-color-border-box: var(--sg-text-color, var(--theme-code-foreground, var(--jp-content-font-color1, white)));\n",
       "    --sklearn-color-icon: #878787;\n",
       "  }\n",
       "}\n",
       "\n",
       "#sk-container-id-8 {\n",
       "  color: var(--sklearn-color-text);\n",
       "}\n",
       "\n",
       "#sk-container-id-8 pre {\n",
       "  padding: 0;\n",
       "}\n",
       "\n",
       "#sk-container-id-8 input.sk-hidden--visually {\n",
       "  border: 0;\n",
       "  clip: rect(1px 1px 1px 1px);\n",
       "  clip: rect(1px, 1px, 1px, 1px);\n",
       "  height: 1px;\n",
       "  margin: -1px;\n",
       "  overflow: hidden;\n",
       "  padding: 0;\n",
       "  position: absolute;\n",
       "  width: 1px;\n",
       "}\n",
       "\n",
       "#sk-container-id-8 div.sk-dashed-wrapped {\n",
       "  border: 1px dashed var(--sklearn-color-line);\n",
       "  margin: 0 0.4em 0.5em 0.4em;\n",
       "  box-sizing: border-box;\n",
       "  padding-bottom: 0.4em;\n",
       "  background-color: var(--sklearn-color-background);\n",
       "}\n",
       "\n",
       "#sk-container-id-8 div.sk-container {\n",
       "  /* jupyter's `normalize.less` sets `[hidden] { display: none; }`\n",
       "     but bootstrap.min.css set `[hidden] { display: none !important; }`\n",
       "     so we also need the `!important` here to be able to override the\n",
       "     default hidden behavior on the sphinx rendered scikit-learn.org.\n",
       "     See: https://github.com/scikit-learn/scikit-learn/issues/21755 */\n",
       "  display: inline-block !important;\n",
       "  position: relative;\n",
       "}\n",
       "\n",
       "#sk-container-id-8 div.sk-text-repr-fallback {\n",
       "  display: none;\n",
       "}\n",
       "\n",
       "div.sk-parallel-item,\n",
       "div.sk-serial,\n",
       "div.sk-item {\n",
       "  /* draw centered vertical line to link estimators */\n",
       "  background-image: linear-gradient(var(--sklearn-color-text-on-default-background), var(--sklearn-color-text-on-default-background));\n",
       "  background-size: 2px 100%;\n",
       "  background-repeat: no-repeat;\n",
       "  background-position: center center;\n",
       "}\n",
       "\n",
       "/* Parallel-specific style estimator block */\n",
       "\n",
       "#sk-container-id-8 div.sk-parallel-item::after {\n",
       "  content: \"\";\n",
       "  width: 100%;\n",
       "  border-bottom: 2px solid var(--sklearn-color-text-on-default-background);\n",
       "  flex-grow: 1;\n",
       "}\n",
       "\n",
       "#sk-container-id-8 div.sk-parallel {\n",
       "  display: flex;\n",
       "  align-items: stretch;\n",
       "  justify-content: center;\n",
       "  background-color: var(--sklearn-color-background);\n",
       "  position: relative;\n",
       "}\n",
       "\n",
       "#sk-container-id-8 div.sk-parallel-item {\n",
       "  display: flex;\n",
       "  flex-direction: column;\n",
       "}\n",
       "\n",
       "#sk-container-id-8 div.sk-parallel-item:first-child::after {\n",
       "  align-self: flex-end;\n",
       "  width: 50%;\n",
       "}\n",
       "\n",
       "#sk-container-id-8 div.sk-parallel-item:last-child::after {\n",
       "  align-self: flex-start;\n",
       "  width: 50%;\n",
       "}\n",
       "\n",
       "#sk-container-id-8 div.sk-parallel-item:only-child::after {\n",
       "  width: 0;\n",
       "}\n",
       "\n",
       "/* Serial-specific style estimator block */\n",
       "\n",
       "#sk-container-id-8 div.sk-serial {\n",
       "  display: flex;\n",
       "  flex-direction: column;\n",
       "  align-items: center;\n",
       "  background-color: var(--sklearn-color-background);\n",
       "  padding-right: 1em;\n",
       "  padding-left: 1em;\n",
       "}\n",
       "\n",
       "\n",
       "/* Toggleable style: style used for estimator/Pipeline/ColumnTransformer box that is\n",
       "clickable and can be expanded/collapsed.\n",
       "- Pipeline and ColumnTransformer use this feature and define the default style\n",
       "- Estimators will overwrite some part of the style using the `sk-estimator` class\n",
       "*/\n",
       "\n",
       "/* Pipeline and ColumnTransformer style (default) */\n",
       "\n",
       "#sk-container-id-8 div.sk-toggleable {\n",
       "  /* Default theme specific background. It is overwritten whether we have a\n",
       "  specific estimator or a Pipeline/ColumnTransformer */\n",
       "  background-color: var(--sklearn-color-background);\n",
       "}\n",
       "\n",
       "/* Toggleable label */\n",
       "#sk-container-id-8 label.sk-toggleable__label {\n",
       "  cursor: pointer;\n",
       "  display: flex;\n",
       "  width: 100%;\n",
       "  margin-bottom: 0;\n",
       "  padding: 0.5em;\n",
       "  box-sizing: border-box;\n",
       "  text-align: center;\n",
       "  align-items: start;\n",
       "  justify-content: space-between;\n",
       "  gap: 0.5em;\n",
       "}\n",
       "\n",
       "#sk-container-id-8 label.sk-toggleable__label .caption {\n",
       "  font-size: 0.6rem;\n",
       "  font-weight: lighter;\n",
       "  color: var(--sklearn-color-text-muted);\n",
       "}\n",
       "\n",
       "#sk-container-id-8 label.sk-toggleable__label-arrow:before {\n",
       "  /* Arrow on the left of the label */\n",
       "  content: \"▸\";\n",
       "  float: left;\n",
       "  margin-right: 0.25em;\n",
       "  color: var(--sklearn-color-icon);\n",
       "}\n",
       "\n",
       "#sk-container-id-8 label.sk-toggleable__label-arrow:hover:before {\n",
       "  color: var(--sklearn-color-text);\n",
       "}\n",
       "\n",
       "/* Toggleable content - dropdown */\n",
       "\n",
       "#sk-container-id-8 div.sk-toggleable__content {\n",
       "  max-height: 0;\n",
       "  max-width: 0;\n",
       "  overflow: hidden;\n",
       "  text-align: left;\n",
       "  /* unfitted */\n",
       "  background-color: var(--sklearn-color-unfitted-level-0);\n",
       "}\n",
       "\n",
       "#sk-container-id-8 div.sk-toggleable__content.fitted {\n",
       "  /* fitted */\n",
       "  background-color: var(--sklearn-color-fitted-level-0);\n",
       "}\n",
       "\n",
       "#sk-container-id-8 div.sk-toggleable__content pre {\n",
       "  margin: 0.2em;\n",
       "  border-radius: 0.25em;\n",
       "  color: var(--sklearn-color-text);\n",
       "  /* unfitted */\n",
       "  background-color: var(--sklearn-color-unfitted-level-0);\n",
       "}\n",
       "\n",
       "#sk-container-id-8 div.sk-toggleable__content.fitted pre {\n",
       "  /* unfitted */\n",
       "  background-color: var(--sklearn-color-fitted-level-0);\n",
       "}\n",
       "\n",
       "#sk-container-id-8 input.sk-toggleable__control:checked~div.sk-toggleable__content {\n",
       "  /* Expand drop-down */\n",
       "  max-height: 200px;\n",
       "  max-width: 100%;\n",
       "  overflow: auto;\n",
       "}\n",
       "\n",
       "#sk-container-id-8 input.sk-toggleable__control:checked~label.sk-toggleable__label-arrow:before {\n",
       "  content: \"▾\";\n",
       "}\n",
       "\n",
       "/* Pipeline/ColumnTransformer-specific style */\n",
       "\n",
       "#sk-container-id-8 div.sk-label input.sk-toggleable__control:checked~label.sk-toggleable__label {\n",
       "  color: var(--sklearn-color-text);\n",
       "  background-color: var(--sklearn-color-unfitted-level-2);\n",
       "}\n",
       "\n",
       "#sk-container-id-8 div.sk-label.fitted input.sk-toggleable__control:checked~label.sk-toggleable__label {\n",
       "  background-color: var(--sklearn-color-fitted-level-2);\n",
       "}\n",
       "\n",
       "/* Estimator-specific style */\n",
       "\n",
       "/* Colorize estimator box */\n",
       "#sk-container-id-8 div.sk-estimator input.sk-toggleable__control:checked~label.sk-toggleable__label {\n",
       "  /* unfitted */\n",
       "  background-color: var(--sklearn-color-unfitted-level-2);\n",
       "}\n",
       "\n",
       "#sk-container-id-8 div.sk-estimator.fitted input.sk-toggleable__control:checked~label.sk-toggleable__label {\n",
       "  /* fitted */\n",
       "  background-color: var(--sklearn-color-fitted-level-2);\n",
       "}\n",
       "\n",
       "#sk-container-id-8 div.sk-label label.sk-toggleable__label,\n",
       "#sk-container-id-8 div.sk-label label {\n",
       "  /* The background is the default theme color */\n",
       "  color: var(--sklearn-color-text-on-default-background);\n",
       "}\n",
       "\n",
       "/* On hover, darken the color of the background */\n",
       "#sk-container-id-8 div.sk-label:hover label.sk-toggleable__label {\n",
       "  color: var(--sklearn-color-text);\n",
       "  background-color: var(--sklearn-color-unfitted-level-2);\n",
       "}\n",
       "\n",
       "/* Label box, darken color on hover, fitted */\n",
       "#sk-container-id-8 div.sk-label.fitted:hover label.sk-toggleable__label.fitted {\n",
       "  color: var(--sklearn-color-text);\n",
       "  background-color: var(--sklearn-color-fitted-level-2);\n",
       "}\n",
       "\n",
       "/* Estimator label */\n",
       "\n",
       "#sk-container-id-8 div.sk-label label {\n",
       "  font-family: monospace;\n",
       "  font-weight: bold;\n",
       "  display: inline-block;\n",
       "  line-height: 1.2em;\n",
       "}\n",
       "\n",
       "#sk-container-id-8 div.sk-label-container {\n",
       "  text-align: center;\n",
       "}\n",
       "\n",
       "/* Estimator-specific */\n",
       "#sk-container-id-8 div.sk-estimator {\n",
       "  font-family: monospace;\n",
       "  border: 1px dotted var(--sklearn-color-border-box);\n",
       "  border-radius: 0.25em;\n",
       "  box-sizing: border-box;\n",
       "  margin-bottom: 0.5em;\n",
       "  /* unfitted */\n",
       "  background-color: var(--sklearn-color-unfitted-level-0);\n",
       "}\n",
       "\n",
       "#sk-container-id-8 div.sk-estimator.fitted {\n",
       "  /* fitted */\n",
       "  background-color: var(--sklearn-color-fitted-level-0);\n",
       "}\n",
       "\n",
       "/* on hover */\n",
       "#sk-container-id-8 div.sk-estimator:hover {\n",
       "  /* unfitted */\n",
       "  background-color: var(--sklearn-color-unfitted-level-2);\n",
       "}\n",
       "\n",
       "#sk-container-id-8 div.sk-estimator.fitted:hover {\n",
       "  /* fitted */\n",
       "  background-color: var(--sklearn-color-fitted-level-2);\n",
       "}\n",
       "\n",
       "/* Specification for estimator info (e.g. \"i\" and \"?\") */\n",
       "\n",
       "/* Common style for \"i\" and \"?\" */\n",
       "\n",
       ".sk-estimator-doc-link,\n",
       "a:link.sk-estimator-doc-link,\n",
       "a:visited.sk-estimator-doc-link {\n",
       "  float: right;\n",
       "  font-size: smaller;\n",
       "  line-height: 1em;\n",
       "  font-family: monospace;\n",
       "  background-color: var(--sklearn-color-background);\n",
       "  border-radius: 1em;\n",
       "  height: 1em;\n",
       "  width: 1em;\n",
       "  text-decoration: none !important;\n",
       "  margin-left: 0.5em;\n",
       "  text-align: center;\n",
       "  /* unfitted */\n",
       "  border: var(--sklearn-color-unfitted-level-1) 1pt solid;\n",
       "  color: var(--sklearn-color-unfitted-level-1);\n",
       "}\n",
       "\n",
       ".sk-estimator-doc-link.fitted,\n",
       "a:link.sk-estimator-doc-link.fitted,\n",
       "a:visited.sk-estimator-doc-link.fitted {\n",
       "  /* fitted */\n",
       "  border: var(--sklearn-color-fitted-level-1) 1pt solid;\n",
       "  color: var(--sklearn-color-fitted-level-1);\n",
       "}\n",
       "\n",
       "/* On hover */\n",
       "div.sk-estimator:hover .sk-estimator-doc-link:hover,\n",
       ".sk-estimator-doc-link:hover,\n",
       "div.sk-label-container:hover .sk-estimator-doc-link:hover,\n",
       ".sk-estimator-doc-link:hover {\n",
       "  /* unfitted */\n",
       "  background-color: var(--sklearn-color-unfitted-level-3);\n",
       "  color: var(--sklearn-color-background);\n",
       "  text-decoration: none;\n",
       "}\n",
       "\n",
       "div.sk-estimator.fitted:hover .sk-estimator-doc-link.fitted:hover,\n",
       ".sk-estimator-doc-link.fitted:hover,\n",
       "div.sk-label-container:hover .sk-estimator-doc-link.fitted:hover,\n",
       ".sk-estimator-doc-link.fitted:hover {\n",
       "  /* fitted */\n",
       "  background-color: var(--sklearn-color-fitted-level-3);\n",
       "  color: var(--sklearn-color-background);\n",
       "  text-decoration: none;\n",
       "}\n",
       "\n",
       "/* Span, style for the box shown on hovering the info icon */\n",
       ".sk-estimator-doc-link span {\n",
       "  display: none;\n",
       "  z-index: 9999;\n",
       "  position: relative;\n",
       "  font-weight: normal;\n",
       "  right: .2ex;\n",
       "  padding: .5ex;\n",
       "  margin: .5ex;\n",
       "  width: min-content;\n",
       "  min-width: 20ex;\n",
       "  max-width: 50ex;\n",
       "  color: var(--sklearn-color-text);\n",
       "  box-shadow: 2pt 2pt 4pt #999;\n",
       "  /* unfitted */\n",
       "  background: var(--sklearn-color-unfitted-level-0);\n",
       "  border: .5pt solid var(--sklearn-color-unfitted-level-3);\n",
       "}\n",
       "\n",
       ".sk-estimator-doc-link.fitted span {\n",
       "  /* fitted */\n",
       "  background: var(--sklearn-color-fitted-level-0);\n",
       "  border: var(--sklearn-color-fitted-level-3);\n",
       "}\n",
       "\n",
       ".sk-estimator-doc-link:hover span {\n",
       "  display: block;\n",
       "}\n",
       "\n",
       "/* \"?\"-specific style due to the `<a>` HTML tag */\n",
       "\n",
       "#sk-container-id-8 a.estimator_doc_link {\n",
       "  float: right;\n",
       "  font-size: 1rem;\n",
       "  line-height: 1em;\n",
       "  font-family: monospace;\n",
       "  background-color: var(--sklearn-color-background);\n",
       "  border-radius: 1rem;\n",
       "  height: 1rem;\n",
       "  width: 1rem;\n",
       "  text-decoration: none;\n",
       "  /* unfitted */\n",
       "  color: var(--sklearn-color-unfitted-level-1);\n",
       "  border: var(--sklearn-color-unfitted-level-1) 1pt solid;\n",
       "}\n",
       "\n",
       "#sk-container-id-8 a.estimator_doc_link.fitted {\n",
       "  /* fitted */\n",
       "  border: var(--sklearn-color-fitted-level-1) 1pt solid;\n",
       "  color: var(--sklearn-color-fitted-level-1);\n",
       "}\n",
       "\n",
       "/* On hover */\n",
       "#sk-container-id-8 a.estimator_doc_link:hover {\n",
       "  /* unfitted */\n",
       "  background-color: var(--sklearn-color-unfitted-level-3);\n",
       "  color: var(--sklearn-color-background);\n",
       "  text-decoration: none;\n",
       "}\n",
       "\n",
       "#sk-container-id-8 a.estimator_doc_link.fitted:hover {\n",
       "  /* fitted */\n",
       "  background-color: var(--sklearn-color-fitted-level-3);\n",
       "}\n",
       "</style><div id=\"sk-container-id-8\" class=\"sk-top-container\"><div class=\"sk-text-repr-fallback\"><pre>RandomForestClassifier(class_weight=&#x27;balanced&#x27;, random_state=42)</pre><b>In a Jupyter environment, please rerun this cell to show the HTML representation or trust the notebook. <br />On GitHub, the HTML representation is unable to render, please try loading this page with nbviewer.org.</b></div><div class=\"sk-container\" hidden><div class=\"sk-item\"><div class=\"sk-estimator fitted sk-toggleable\"><input class=\"sk-toggleable__control sk-hidden--visually\" id=\"sk-estimator-id-8\" type=\"checkbox\" checked><label for=\"sk-estimator-id-8\" class=\"sk-toggleable__label fitted sk-toggleable__label-arrow\"><div><div>RandomForestClassifier</div></div><div><a class=\"sk-estimator-doc-link fitted\" rel=\"noreferrer\" target=\"_blank\" href=\"https://scikit-learn.org/1.6/modules/generated/sklearn.ensemble.RandomForestClassifier.html\">?<span>Documentation for RandomForestClassifier</span></a><span class=\"sk-estimator-doc-link fitted\">i<span>Fitted</span></span></div></label><div class=\"sk-toggleable__content fitted\"><pre>RandomForestClassifier(class_weight=&#x27;balanced&#x27;, random_state=42)</pre></div> </div></div></div></div>"
      ],
      "text/plain": [
       "RandomForestClassifier(class_weight='balanced', random_state=42)"
      ]
     },
     "execution_count": 307,
     "metadata": {},
     "output_type": "execute_result"
    }
   ],
   "source": [
    "# Apply RandomForesrClassifier model\n",
    "model = RandomForestClassifier(class_weight='balanced', random_state=42)\n",
    "model.fit(X_train, y_train)"
   ]
  },
  {
   "cell_type": "code",
   "execution_count": null,
   "id": "f10114db",
   "metadata": {},
   "outputs": [],
   "source": [
    "# Feature importance\n",
    "importance_df = feature_importance(X.columns, model.feature_importances_)\n"
   ]
  },
  {
   "cell_type": "code",
   "execution_count": 310,
   "id": "226eecd8",
   "metadata": {},
   "outputs": [
    {
     "data": {
      "image/png": "[encoded data removed]",
      "text/plain": [
       "<Figure size 1000x600 with 1 Axes>"
      ]
     },
     "metadata": {},
     "output_type": "display_data"
    }
   ],
   "source": [
    "# Plot\n",
    "importance_barplot('Feature importance (Categorical and Numeric)')"
   ]
  },
  {
   "cell_type": "code",
   "execution_count": 311,
   "id": "350aa947",
   "metadata": {},
   "outputs": [],
   "source": [
    "# Save predict data\n",
    "y_pred = model.predict(X_test)"
   ]
  },
  {
   "cell_type": "code",
   "execution_count": 312,
   "id": "e76a2702",
   "metadata": {},
   "outputs": [
    {
     "name": "stdout",
     "output_type": "stream",
     "text": [
      "[[21595   203]\n",
      " [ 1377   427]]\n",
      "              precision    recall  f1-score   support\n",
      "\n",
      "           0       0.94      0.99      0.96     21798\n",
      "           1       0.68      0.24      0.35      1804\n",
      "\n",
      "    accuracy                           0.93     23602\n",
      "   macro avg       0.81      0.61      0.66     23602\n",
      "weighted avg       0.92      0.93      0.92     23602\n",
      "\n"
     ]
    }
   ],
   "source": [
    "# Classification Report\n",
    "from sklearn.metrics import classification_report, confusion_matrix\n",
    "print(confusion_matrix(y_test, y_pred))\n",
    "print(classification_report(y_test, y_pred))"
   ]
  },
  {
   "cell_type": "code",
   "execution_count": 320,
   "id": "18409051",
   "metadata": {},
   "outputs": [],
   "source": [
    "# Save the current data set for next modeling steps.\n",
    "df_model = pd.concat([X, y], axis=1)\n",
    "current_dir = os.getcwd()\n",
    "data_path = os.path.abspath(os.path.join(current_dir, \"..\", \"data\", \"processed\"))\n"
   ]
  },
  {
   "cell_type": "code",
   "execution_count": 321,
   "id": "008fbcc5",
   "metadata": {},
   "outputs": [],
   "source": [
    "df_model.to_parquet(os.path.join(data_path, \"df_model.parquet\"))"
   ]
  }
 ],
 "metadata": {
  "jupytext": {
   "cell_metadata_filter": "-all",
   "main_language": "python",
   "notebook_metadata_filter": "-all"
  },
  "kernelspec": {
   "display_name": "base",
   "language": "python",
   "name": "python3"
  },
  "language_info": {
   "codemirror_mode": {
    "name": "ipython",
    "version": 3
   },
   "file_extension": ".py",
   "mimetype": "text/x-python",
   "name": "python",
   "nbconvert_exporter": "python",
   "pygments_lexer": "ipython3",
   "version": "3.11.3"
  }
 },
 "nbformat": 4,
 "nbformat_minor": 5
}
