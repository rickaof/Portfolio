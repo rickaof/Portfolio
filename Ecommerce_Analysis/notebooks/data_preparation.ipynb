{
 "cells": [
  {
   "cell_type": "markdown",
   "id": "d1e19b91",
   "metadata": {},
   "source": [
    "# Data Loading"
   ]
  },
  {
   "cell_type": "code",
   "execution_count": 58,
   "id": "fa334fc9",
   "metadata": {},
   "outputs": [],
   "source": [
    "# Importing libraries\n",
    "import pandas as pd\n",
    "import os\n",
    "import matplotlib.pyplot as plt\n",
    "import seaborn as sns"
   ]
  },
  {
   "cell_type": "code",
   "execution_count": 59,
   "id": "eecab661",
   "metadata": {},
   "outputs": [],
   "source": [
    "# Define path to raw data files\n",
    "current_dir = os.getcwd()\n",
    "data_path = os.path.abspath(os.path.join(current_dir, \"..\", \"data\", \"raw\"))"
   ]
  },
  {
   "cell_type": "code",
   "execution_count": 60,
   "id": "ca2061ab",
   "metadata": {},
   "outputs": [],
   "source": [
    "# files in the data directory\n",
    "files = os.listdir(data_path)"
   ]
  },
  {
   "cell_type": "code",
   "execution_count": 61,
   "id": "8f5b05fd",
   "metadata": {},
   "outputs": [],
   "source": [
    "# Create a dictionary where each key is a file name and the value is a DataFrame with the data.\n",
    "custom_names = {\n",
    "    \"olist_customers_dataset.csv\": \"customer\",\n",
    "    \"olist_geolocation_dataset.csv\": \"geolocation\",\n",
    "    \"olist_order_items_dataset.csv\": \"order_items\",\n",
    "    \"olist_order_payments_dataset.csv\": \"payments\",\n",
    "    \"olist_orders_dataset.csv\": \"orders\",\n",
    "    \"olist_products_dataset.csv\": \"products\",\n",
    "    \"olist_sellers_dataset.csv\": \"sellers\"\n",
    "}\n",
    "\n",
    "dfs = {\n",
    "    custom_names[file]: pd.read_csv(os.path.join(data_path, file))\n",
    "    for file in files if file in custom_names\n",
    "}"
   ]
  },
  {
   "cell_type": "markdown",
   "id": "88923a8b",
   "metadata": {},
   "source": [
    "# Data Cleaning and preprocessing"
   ]
  },
  {
   "cell_type": "markdown",
   "id": "1df768ef",
   "metadata": {},
   "source": [
    "## Orders Dataframe: treatment and Type Conversion"
   ]
  },
  {
   "cell_type": "code",
   "execution_count": 62,
   "id": "e41db7c7",
   "metadata": {},
   "outputs": [],
   "source": [
    "orders = dfs[\"orders\"]  # Extract the 'orders' DataFrame"
   ]
  },
  {
   "cell_type": "markdown",
   "id": "dd3403eb",
   "metadata": {},
   "source": [
    "#### Null and Missing values treatment"
   ]
  },
  {
   "cell_type": "code",
   "execution_count": 63,
   "id": "ce8bc2e7",
   "metadata": {},
   "outputs": [
    {
     "name": "stdout",
     "output_type": "stream",
     "text": [
      "order_id                            0\n",
      "customer_id                         0\n",
      "order_status                        0\n",
      "order_purchase_timestamp            0\n",
      "order_approved_at                 160\n",
      "order_delivered_carrier_date     1783\n",
      "order_delivered_customer_date    2965\n",
      "order_estimated_delivery_date       0\n",
      "dtype: int64\n"
     ]
    }
   ],
   "source": [
    "# Identifying null or missing values.\n",
    "print(orders.isnull().sum())"
   ]
  },
  {
   "cell_type": "markdown",
   "id": "8d58c7a7",
   "metadata": {},
   "source": [
    "There are null numerical values in the order approval date column, indicating that the orders were not approved. The shipping date column also contains null values, indicating that the order was not shipped. Lastly, the delivery date column also contains null values, indicating that the order was not delivered. However, the data will be kept as is, since the column type will be changed to datetime and the null values will become NaT (Not a Time). This maintains data consistency and avoids issues with operations involving dates."
   ]
  },
  {
   "cell_type": "code",
   "execution_count": 64,
   "id": "72fae833",
   "metadata": {},
   "outputs": [
    {
     "name": "stdout",
     "output_type": "stream",
     "text": [
      "order_id                         object\n",
      "customer_id                      object\n",
      "order_status                     object\n",
      "order_purchase_timestamp         object\n",
      "order_approved_at                object\n",
      "order_delivered_carrier_date     object\n",
      "order_delivered_customer_date    object\n",
      "order_estimated_delivery_date    object\n",
      "dtype: object\n"
     ]
    }
   ],
   "source": [
    "# Checking column data types\n",
    "print(orders.dtypes)"
   ]
  },
  {
   "cell_type": "markdown",
   "id": "0021638d",
   "metadata": {},
   "source": [
    "#### Columns type conversion\n"
   ]
  },
  {
   "cell_type": "markdown",
   "id": "9f1d8739",
   "metadata": {},
   "source": [
    "Converting date columns from object to datetime"
   ]
  },
  {
   "cell_type": "code",
   "execution_count": 65,
   "id": "f75fec7b",
   "metadata": {},
   "outputs": [],
   "source": [
    "\n",
    "date_columns = [\n",
    "    \"order_purchase_timestamp\",\n",
    "    \"order_approved_at\",\n",
    "    \"order_delivered_carrier_date\",\n",
    "    \"order_delivered_customer_date\",\n",
    "    \"order_estimated_delivery_date\"\n",
    "]"
   ]
  },
  {
   "cell_type": "code",
   "execution_count": 66,
   "id": "0ac027b7",
   "metadata": {},
   "outputs": [],
   "source": [
    "for col in date_columns:\n",
    "    orders[col] = pd.to_datetime(orders[col], errors=\"coerce\")"
   ]
  },
  {
   "cell_type": "markdown",
   "id": "fc68bfe3",
   "metadata": {},
   "source": [
    "Converting \"order status\" column from object to category"
   ]
  },
  {
   "cell_type": "code",
   "execution_count": 67,
   "id": "ef321520",
   "metadata": {},
   "outputs": [],
   "source": [
    "orders[\"order_status\"] = orders[\"order_status\"].astype(\"category\")"
   ]
  },
  {
   "cell_type": "markdown",
   "id": "315a98e3",
   "metadata": {},
   "source": [
    "## Orders Items Dataframe: treatment and Type Conversion"
   ]
  },
  {
   "cell_type": "code",
   "execution_count": 68,
   "id": "488dd716",
   "metadata": {},
   "outputs": [],
   "source": [
    "order_items = dfs[\"order_items\"]  # Extract the 'order_items' DataFrame"
   ]
  },
  {
   "cell_type": "markdown",
   "id": "facc2223",
   "metadata": {},
   "source": [
    "#### Null and Missing values treatment"
   ]
  },
  {
   "cell_type": "code",
   "execution_count": 69,
   "id": "af4f837b",
   "metadata": {},
   "outputs": [
    {
     "name": "stdout",
     "output_type": "stream",
     "text": [
      "order_id               0\n",
      "order_item_id          0\n",
      "product_id             0\n",
      "seller_id              0\n",
      "shipping_limit_date    0\n",
      "price                  0\n",
      "freight_value          0\n",
      "dtype: int64\n"
     ]
    }
   ],
   "source": [
    "# Identifying null or missing values.\n",
    "print(order_items.isnull().sum())"
   ]
  },
  {
   "cell_type": "markdown",
   "id": "21af44da",
   "metadata": {},
   "source": [
    "There are no null or missing values in the dataframe."
   ]
  },
  {
   "cell_type": "markdown",
   "id": "9df8deb9",
   "metadata": {},
   "source": [
    "#### Columns type conversion"
   ]
  },
  {
   "cell_type": "code",
   "execution_count": 70,
   "id": "7036106d",
   "metadata": {},
   "outputs": [
    {
     "name": "stdout",
     "output_type": "stream",
     "text": [
      "order_id                object\n",
      "order_item_id            int64\n",
      "product_id              object\n",
      "seller_id               object\n",
      "shipping_limit_date     object\n",
      "price                  float64\n",
      "freight_value          float64\n",
      "dtype: object\n"
     ]
    }
   ],
   "source": [
    "# Checking column data types\n",
    "print(order_items.dtypes)"
   ]
  },
  {
   "cell_type": "markdown",
   "id": "74d82841",
   "metadata": {},
   "source": [
    "Converting date columns from object to datetime"
   ]
  },
  {
   "cell_type": "code",
   "execution_count": 71,
   "id": "e0cd5115",
   "metadata": {},
   "outputs": [],
   "source": [
    "order_items[\"shipping_limit_date\"] = pd.to_datetime(\n",
    "    order_items[\"shipping_limit_date\"], errors=\"coerce\")"
   ]
  },
  {
   "cell_type": "markdown",
   "id": "6af5edda",
   "metadata": {},
   "source": [
    "## Customers Dataframe: treatment and Type Conversion"
   ]
  },
  {
   "cell_type": "code",
   "execution_count": 72,
   "id": "d09bbb0b",
   "metadata": {},
   "outputs": [],
   "source": [
    "customer = dfs[\"customer\"]  # Extract the 'customers' DataFrame"
   ]
  },
  {
   "cell_type": "markdown",
   "id": "8f6ea127",
   "metadata": {},
   "source": [
    "#### Null and Missing values treatment"
   ]
  },
  {
   "cell_type": "code",
   "execution_count": 73,
   "id": "93bcbd27",
   "metadata": {},
   "outputs": [
    {
     "name": "stdout",
     "output_type": "stream",
     "text": [
      "customer_id                 0\n",
      "customer_unique_id          0\n",
      "customer_zip_code_prefix    0\n",
      "customer_city               0\n",
      "customer_state              0\n",
      "dtype: int64\n"
     ]
    }
   ],
   "source": [
    "# Identifying null or missing values.\n",
    "print(customer.isnull().sum())"
   ]
  },
  {
   "cell_type": "markdown",
   "id": "8b2b07db",
   "metadata": {},
   "source": [
    "There are no null or missing values in the dataframe."
   ]
  },
  {
   "cell_type": "markdown",
   "id": "f5350e8b",
   "metadata": {},
   "source": [
    "#### Columns type conversion"
   ]
  },
  {
   "cell_type": "code",
   "execution_count": 74,
   "id": "a5eab4b8",
   "metadata": {},
   "outputs": [
    {
     "name": "stdout",
     "output_type": "stream",
     "text": [
      "customer_id                 object\n",
      "customer_unique_id          object\n",
      "customer_zip_code_prefix     int64\n",
      "customer_city               object\n",
      "customer_state              object\n",
      "dtype: object\n"
     ]
    }
   ],
   "source": [
    "# Checking column data types\n",
    "print(customer.dtypes)"
   ]
  },
  {
   "cell_type": "markdown",
   "id": "b22f5acd",
   "metadata": {},
   "source": [
    "The column data types are correct."
   ]
  },
  {
   "cell_type": "markdown",
   "id": "327b9320",
   "metadata": {},
   "source": [
    "## Products Dataframe: treatment and Type Conversion"
   ]
  },
  {
   "cell_type": "code",
   "execution_count": 75,
   "id": "768b889d",
   "metadata": {},
   "outputs": [],
   "source": [
    "products = dfs[\"products\"]  # Extract the 'products' DataFrame"
   ]
  },
  {
   "cell_type": "markdown",
   "id": "cd118b51",
   "metadata": {},
   "source": [
    "#### Null and Missing values treatment"
   ]
  },
  {
   "cell_type": "code",
   "execution_count": 76,
   "id": "ba2c5318",
   "metadata": {},
   "outputs": [
    {
     "name": "stdout",
     "output_type": "stream",
     "text": [
      "product_id                      0\n",
      "product_category_name         610\n",
      "product_name_lenght           610\n",
      "product_description_lenght    610\n",
      "product_photos_qty            610\n",
      "product_weight_g                2\n",
      "product_length_cm               2\n",
      "product_height_cm               2\n",
      "product_width_cm                2\n",
      "dtype: int64\n"
     ]
    }
   ],
   "source": [
    "# Identifying null or missing values.\n",
    "print(products.isnull().sum())"
   ]
  },
  {
   "cell_type": "markdown",
   "id": "33402ace",
   "metadata": {},
   "source": [
    "Null values were found in the product category name, which will be filled with \"Unknown\". Null values were also found in the columns: product name length, description length, and number of photos. These will be filled with the median to avoid distortions caused by extreme values. Finally, two null values were found in the columns: weight, length, height, and width. All of these will also be filled with the median."
   ]
  },
  {
   "cell_type": "code",
   "execution_count": 77,
   "id": "7c109f9a",
   "metadata": {},
   "outputs": [],
   "source": [
    "# Null and missing values treatment.\n",
    "products[\"product_category_name\"].fillna(\"Unknown\", inplace=True)\n",
    "num_cols = [\n",
    "    \"product_name_lenght\", \"product_description_lenght\",\n",
    "    \"product_photos_qty\", \"product_weight_g\", \"product_length_cm\",\n",
    "    \"product_height_cm\", \"product_width_cm\"\n",
    "]\n",
    "for col in num_cols:\n",
    "    products[col].fillna(products[col].median(), inplace=True)"
   ]
  },
  {
   "cell_type": "markdown",
   "id": "0165b066",
   "metadata": {},
   "source": [
    "#### Columns type conversion"
   ]
  },
  {
   "cell_type": "code",
   "execution_count": 78,
   "id": "8ab13bdc",
   "metadata": {},
   "outputs": [
    {
     "name": "stdout",
     "output_type": "stream",
     "text": [
      "customer_id                 object\n",
      "customer_unique_id          object\n",
      "customer_zip_code_prefix     int64\n",
      "customer_city               object\n",
      "customer_state              object\n",
      "dtype: object\n"
     ]
    }
   ],
   "source": [
    "# Checking column data types\n",
    "print(customer.dtypes)"
   ]
  },
  {
   "cell_type": "markdown",
   "id": "ba531290",
   "metadata": {},
   "source": [
    "The column data types are correct."
   ]
  },
  {
   "cell_type": "markdown",
   "id": "62f2ebe2",
   "metadata": {},
   "source": [
    "## Sellers Dataframe: treatment and Type Conversion"
   ]
  },
  {
   "cell_type": "code",
   "execution_count": 79,
   "id": "22f87c31",
   "metadata": {},
   "outputs": [],
   "source": [
    "sellers = dfs[\"sellers\"]  # Extract the 'sellers' DataFrame"
   ]
  },
  {
   "cell_type": "markdown",
   "id": "3d200ea0",
   "metadata": {},
   "source": [
    "#### Null and Missing values treatment"
   ]
  },
  {
   "cell_type": "code",
   "execution_count": 80,
   "id": "00a4c40d",
   "metadata": {},
   "outputs": [
    {
     "name": "stdout",
     "output_type": "stream",
     "text": [
      "seller_id                 0\n",
      "seller_zip_code_prefix    0\n",
      "seller_city               0\n",
      "seller_state              0\n",
      "dtype: int64\n"
     ]
    }
   ],
   "source": [
    "# Identifying null or missing values.\n",
    "print(sellers.isnull().sum())"
   ]
  },
  {
   "cell_type": "markdown",
   "id": "8022f12d",
   "metadata": {},
   "source": [
    "There are no null or missing values in the dataframe."
   ]
  },
  {
   "cell_type": "markdown",
   "id": "e4ac3d31",
   "metadata": {},
   "source": [
    "#### Columns type conversion"
   ]
  },
  {
   "cell_type": "code",
   "execution_count": 81,
   "id": "27ed8e1a",
   "metadata": {},
   "outputs": [
    {
     "name": "stdout",
     "output_type": "stream",
     "text": [
      "seller_id                 object\n",
      "seller_zip_code_prefix     int64\n",
      "seller_city               object\n",
      "seller_state              object\n",
      "dtype: object\n"
     ]
    }
   ],
   "source": [
    "# Checking column data types\n",
    "print(sellers.dtypes)"
   ]
  },
  {
   "cell_type": "markdown",
   "id": "960c5158",
   "metadata": {},
   "source": [
    "The column data types are correct."
   ]
  },
  {
   "cell_type": "markdown",
   "id": "6fcc1f9c",
   "metadata": {},
   "source": [
    "## Payments Dataframe: treatment and Type Conversion"
   ]
  },
  {
   "cell_type": "code",
   "execution_count": 82,
   "id": "383deb1a",
   "metadata": {},
   "outputs": [],
   "source": [
    "payments = dfs[\"payments\"]  # Extract the 'payments' DataFrame"
   ]
  },
  {
   "cell_type": "markdown",
   "id": "58ead4e7",
   "metadata": {},
   "source": [
    "#### Null and Missing values treatment"
   ]
  },
  {
   "cell_type": "code",
   "execution_count": 83,
   "id": "e83593cc",
   "metadata": {},
   "outputs": [
    {
     "name": "stdout",
     "output_type": "stream",
     "text": [
      "order_id                0\n",
      "payment_sequential      0\n",
      "payment_type            0\n",
      "payment_installments    0\n",
      "payment_value           0\n",
      "dtype: int64\n"
     ]
    }
   ],
   "source": [
    "# Identifying null or missing values.\n",
    "print(payments.isnull().sum())"
   ]
  },
  {
   "cell_type": "markdown",
   "id": "a9123a83",
   "metadata": {},
   "source": [
    "There are no null or missing values in the dataframe."
   ]
  },
  {
   "cell_type": "markdown",
   "id": "4c12bda1",
   "metadata": {},
   "source": [
    "#### Columns type conversion"
   ]
  },
  {
   "cell_type": "code",
   "execution_count": 84,
   "id": "ea882b1b",
   "metadata": {},
   "outputs": [
    {
     "name": "stdout",
     "output_type": "stream",
     "text": [
      "order_id                 object\n",
      "payment_sequential        int64\n",
      "payment_type             object\n",
      "payment_installments      int64\n",
      "payment_value           float64\n",
      "dtype: object\n"
     ]
    }
   ],
   "source": [
    "# Checking column data types\n",
    "print(payments.dtypes)"
   ]
  },
  {
   "cell_type": "markdown",
   "id": "e5053e71",
   "metadata": {},
   "source": [
    "Converting 'payment_type' column from object to category."
   ]
  },
  {
   "cell_type": "code",
   "execution_count": 85,
   "id": "4eb2d1d8",
   "metadata": {},
   "outputs": [],
   "source": [
    "payments[\"payment_type\"] = payments[\"payment_type\"].astype(\"category\")"
   ]
  },
  {
   "cell_type": "markdown",
   "id": "9985fdb8",
   "metadata": {},
   "source": [
    "## Geolocation: treatment and Type Conversion"
   ]
  },
  {
   "cell_type": "code",
   "execution_count": 86,
   "id": "8df77f61",
   "metadata": {},
   "outputs": [],
   "source": [
    "geolocation = dfs[\"geolocation\"]  # Extract the 'geolocation' DataFrame"
   ]
  },
  {
   "cell_type": "markdown",
   "id": "c6fb7b54",
   "metadata": {},
   "source": [
    "#### Null and Missing values treatment"
   ]
  },
  {
   "cell_type": "code",
   "execution_count": 87,
   "id": "12302f2a",
   "metadata": {},
   "outputs": [
    {
     "name": "stdout",
     "output_type": "stream",
     "text": [
      "geolocation_zip_code_prefix    0\n",
      "geolocation_lat                0\n",
      "geolocation_lng                0\n",
      "geolocation_city               0\n",
      "geolocation_state              0\n",
      "dtype: int64\n"
     ]
    }
   ],
   "source": [
    "# Identifying null or missing values.\n",
    "print(geolocation.isnull().sum())"
   ]
  },
  {
   "cell_type": "markdown",
   "id": "ab5c891d",
   "metadata": {},
   "source": [
    "There are no null or missing values in the dataframe."
   ]
  },
  {
   "cell_type": "markdown",
   "id": "68f4d01d",
   "metadata": {},
   "source": [
    "#### Columns type conversion"
   ]
  },
  {
   "cell_type": "code",
   "execution_count": 88,
   "id": "628d42c4",
   "metadata": {},
   "outputs": [
    {
     "name": "stdout",
     "output_type": "stream",
     "text": [
      "geolocation_zip_code_prefix      int64\n",
      "geolocation_lat                float64\n",
      "geolocation_lng                float64\n",
      "geolocation_city                object\n",
      "geolocation_state               object\n",
      "dtype: object\n"
     ]
    }
   ],
   "source": [
    "# Checking column data types\n",
    "print(geolocation.dtypes)"
   ]
  },
  {
   "cell_type": "markdown",
   "id": "7af2277a",
   "metadata": {},
   "source": [
    "The column data types are correct."
   ]
  },
  {
   "cell_type": "markdown",
   "id": "a81ed0b7",
   "metadata": {},
   "source": [
    "## Pré processing - Checking data consistency"
   ]
  },
  {
   "cell_type": "code",
   "execution_count": 89,
   "id": "07e5df50",
   "metadata": {},
   "outputs": [
    {
     "data": {
      "image/png": "[encoded data removed]",
      "text/plain": [
       "<Figure size 1000x500 with 1 Axes>"
      ]
     },
     "metadata": {},
     "output_type": "display_data"
    }
   ],
   "source": [
    "# Orders counts by status\n",
    "\n",
    "plt.figure(figsize=(10, 5))\n",
    "ax = sns.countplot(data=orders, x =\"order_status\", order=orders[\"order_status\"].value_counts().index, palette=\"pastel\")\n",
    "plt.xticks(rotation=45)\n",
    "plt.yscale(\"log\")\n",
    "plt.title(\"Order Status Distribution\")\n",
    "plt.xlabel(\"Order Status\")\n",
    "plt.ylabel(\"Number of orders\")\n",
    "for p in ax.patches:\n",
    "    ax.annotate(\n",
    "        f\"{int(p.get_height())}\",\n",
    "        (p.get_x() + p.get_width() / 2, p.get_height()),\n",
    "        ha=\"center\",\n",
    "        va=\"bottom\",\n",
    "        fontsize=10,\n",
    "        color=\"black\"\n",
    "    )\n",
    "plt.show()\n",
    "\n"
   ]
  },
  {
   "cell_type": "code",
   "execution_count": 90,
   "id": "74001847",
   "metadata": {},
   "outputs": [
    {
     "data": {
      "image/png": "[encoded data removed]",
      "text/plain": [
       "<Figure size 1200x600 with 1 Axes>"
      ]
     },
     "metadata": {},
     "output_type": "display_data"
    }
   ],
   "source": [
    "# Orders over time\n",
    "\n",
    "orders[\"order_purchase_month\"] = orders[\"order_purchase_timestamp\"].dt.to_period(\n",
    "    \"M\")\n",
    "monthly_orders = orders.groupby(\"order_purchase_month\")[\"order_id\"].count()\n",
    "plt.figure(figsize=(12, 6))\n",
    "plt.plot(monthly_orders.index.astype(\n",
    "    str), monthly_orders.values, marker='o', linestyle=\"-\", color=\"royalblue\")\n",
    "plt.title(\"Order Trends Over Time\")\n",
    "plt.xlabel(\"Month\")\n",
    "plt.ylabel(\"Number of Orders\")\n",
    "plt.xticks(rotation=45)\n",
    "plt.grid(True)\n",
    "plt.show()"
   ]
  },
  {
   "cell_type": "markdown",
   "id": "53dc6521",
   "metadata": {},
   "source": [
    "There was a growth trend in the number of orders from December 2016 to November 2017, \n",
    "followed by a stabilization period from December 2017 to August 2018. However, there was \n",
    "a sharp drop in orders from August to October. It's important to check whether there is \n",
    "data available for the final months or if the dataset simply ends there."
   ]
  },
  {
   "cell_type": "code",
   "execution_count": 91,
   "id": "c68998db",
   "metadata": {},
   "outputs": [
    {
     "name": "stdout",
     "output_type": "stream",
     "text": [
      "order_purchase_month\n",
      "2018-01    7269\n",
      "2018-02    6728\n",
      "2018-03    7211\n",
      "2018-04    6939\n",
      "2018-05    6873\n",
      "2018-06    6167\n",
      "2018-07    6292\n",
      "2018-08    6512\n",
      "2018-09      16\n",
      "2018-10       4\n",
      "Freq: M, Name: order_id, dtype: int64\n"
     ]
    }
   ],
   "source": [
    "# Checking if data exists for the last months\n",
    "print(monthly_orders.tail(10))  # Last 10 months available"
   ]
  },
  {
   "cell_type": "markdown",
   "id": "3e8530cd",
   "metadata": {},
   "source": [
    "There were orders in the last months, but the quantity is well below normal, indicating that the dataset is likely incomplete for the final months."
   ]
  },
  {
   "cell_type": "code",
   "execution_count": 92,
   "id": "683ffe97",
   "metadata": {},
   "outputs": [
    {
     "data": {
      "image/png": "[encoded data removed]",
      "text/plain": [
       "<Figure size 1200x500 with 1 Axes>"
      ]
     },
     "metadata": {},
     "output_type": "display_data"
    }
   ],
   "source": [
    "# Checking order cancellations over time\n",
    "\n",
    "orders.groupby(\"order_purchase_month\")[\"order_status\"].value_counts(normalize=True).unstack()[\"canceled\"].plot(\n",
    "    kind=\"line\", figsize=(12, 5))\n",
    "plt.title(\"Proportion of Canceled Orders per Month\")\n",
    "plt.xlabel(\"Month\")\n",
    "plt.ylabel(\"Cancellations (%)\")\n",
    "plt.show()"
   ]
  },
  {
   "cell_type": "markdown",
   "id": "6c3b190f",
   "metadata": {},
   "source": [
    "The graph shows that the proportion of canceled orders rose to around 100% in the last few months."
   ]
  },
  {
   "cell_type": "markdown",
   "id": "87390516",
   "metadata": {},
   "source": [
    "### Data Note"
   ]
  },
  {
   "cell_type": "markdown",
   "id": "6d0590dc",
   "metadata": {},
   "source": [
    "The charts indicate that there is a normal pattern in the data, except for the months starting from August. The likely reason is that the data from August onward is incomplete, with only cancellations being imported. Therefore, the chosen approach to prevent this discrepancy in order volume from affecting further analyses and models will be remove the rows related to those months."
   ]
  },
  {
   "cell_type": "markdown",
   "id": "40627759",
   "metadata": {},
   "source": [
    "#### REMOVING ROWS RELATED TO MONTHS WITH DATA DISCREPANCIES"
   ]
  },
  {
   "cell_type": "code",
   "execution_count": 93,
   "id": "e221a353",
   "metadata": {},
   "outputs": [],
   "source": [
    "def olist_filter_and_save(\n",
    "    orders, order_items, payments, customer, products, sellers\n",
    "):\n",
    "    # Filter orders up to July 2018\n",
    "    orders_filtered = orders[orders['order_purchase_timestamp'] < '2018-08-01']\n",
    "\n",
    "    # Valid IDs\n",
    "    valid_order_ids = orders_filtered['order_id']\n",
    "    valid_customer_ids = orders_filtered['customer_id']\n",
    "\n",
    "    # Filtering other dataframes based on valid data\n",
    "    order_items_filtered = order_items[order_items['order_id'].isin(valid_order_ids)]\n",
    "    payments_filtered = payments[payments['order_id'].isin(valid_order_ids)]\n",
    "    customer_filtered = customer[customer['customer_id'].isin(valid_customer_ids)]\n",
    "    products_filtered = products[products['product_id'].isin(order_items_filtered['product_id'])]\n",
    "    sellers_filtered = sellers[sellers['seller_id'].isin(order_items_filtered['seller_id'])]\n",
    "\n",
    "    # Dictionary with filtered DataFrames\n",
    "    dfs = {\n",
    "        \"orders\": orders_filtered,\n",
    "        \"order_items\": order_items_filtered,\n",
    "        \"payments\": payments_filtered,\n",
    "        \"customer\": customer_filtered,\n",
    "        \"products\": products_filtered,\n",
    "        \"sellers\": sellers_filtered,\n",
    "    }\n",
    "\n",
    "    # Relative path to save files\n",
    "    current_dir = os.getcwd()\n",
    "    processed_path = os.path.abspath(os.path.join(current_dir, \"..\", \"data\", \"processed\"))\n",
    "\n",
    "    # Save DataFrames to CSV files\n",
    "    for file_name, df in dfs.items():\n",
    "        file_path = os.path.join(processed_path, f\"{file_name}.csv\")\n",
    "        df.to_csv(file_path, index=False)"
   ]
  },
  {
   "cell_type": "code",
   "execution_count": 94,
   "id": "77136927",
   "metadata": {},
   "outputs": [],
   "source": [
    "# Call the function to apply the filter and save the files\n",
    "olist_filter_and_save(orders, order_items, payments, customer, products, sellers)"
   ]
  },
  {
   "cell_type": "markdown",
   "id": "693a1702",
   "metadata": {},
   "source": [
    "# Feature Engineering\n"
   ]
  },
  {
   "cell_type": "markdown",
   "id": "69563e37",
   "metadata": {},
   "source": [
    "In this project, I will perform an in-depth data analysis on a Brazilian marketplace dataset to predict whether an order will be delivered late or not.\n",
    "I will start by integrating relevant datasets and creating new features that may influence delivery delays.\n",
    "\n"
   ]
  },
  {
   "cell_type": "code",
   "execution_count": 95,
   "id": "df093577",
   "metadata": {},
   "outputs": [],
   "source": [
    "# Merging the datasets\n",
    "df = orders.merge(order_items, on='order_id', how='left')\n",
    "df = df.merge(customer, on='customer_id', how='left')\n",
    "df = df.merge(products, on='product_id', how='left')\n",
    "df = df.merge(payments, on='order_id', how='left')\n",
    "df = df.merge(sellers, on='seller_id', how='left')"
   ]
  },
  {
   "cell_type": "markdown",
   "id": "06b4936a",
   "metadata": {},
   "source": [
    "Creating new variables from the existing data"
   ]
  },
  {
   "cell_type": "code",
   "execution_count": 117,
   "id": "15d74aa2",
   "metadata": {},
   "outputs": [],
   "source": [
    "# Delivery delay (in days)\n",
    "df[\"delivery_delay\"] = (orders[\"order_delivered_customer_date\"] - orders[\"order_estimated_delivery_date\"]).dt.days"
   ]
  },
  {
   "cell_type": "code",
   "execution_count": 118,
   "id": "ccd54f2a",
   "metadata": {},
   "outputs": [],
   "source": [
    "# Delivery time (in days)\n",
    "df[\"delivery_time\"] = (orders[\"order_delivered_customer_date\"] - orders[\"order_purchase_timestamp\"]).dt.days"
   ]
  },
  {
   "cell_type": "code",
   "execution_count": 119,
   "id": "a2e1e8b2",
   "metadata": {},
   "outputs": [],
   "source": [
    "# Estimated delivery time (in days)\n",
    "df[\"estimated_delivery_time\"] = (\n",
    "    orders[\"order_estimated_delivery_date\"] - orders[\"order_purchase_timestamp\"]).dt.days"
   ]
  },
  {
   "cell_type": "code",
   "execution_count": 120,
   "id": "4e72b2df",
   "metadata": {},
   "outputs": [],
   "source": [
    "# Was it delivered late?\n",
    "# Binary feature (0 = on time or early, 1 = late)\n",
    "df[\"is_late\"] = orders[\"delivery_delay\"].apply(lambda x: 1 if x > 0 else 0)"
   ]
  },
  {
   "cell_type": "code",
   "execution_count": 121,
   "id": "5a0f7477",
   "metadata": {},
   "outputs": [],
   "source": [
    "# Purchase weekday\n",
    "# This feature shows the day of the week the order was placed\n",
    "df[\"purchase_weekday\"] = orders[\"order_purchase_timestamp\"].dt.day_name()"
   ]
  },
  {
   "cell_type": "code",
   "execution_count": 122,
   "id": "3f590cb8",
   "metadata": {},
   "outputs": [
    {
     "data": {
      "text/html": [
       "<div>\n",
       "<style scoped>\n",
       "    .dataframe tbody tr th:only-of-type {\n",
       "        vertical-align: middle;\n",
       "    }\n",
       "\n",
       "    .dataframe tbody tr th {\n",
       "        vertical-align: top;\n",
       "    }\n",
       "\n",
       "    .dataframe thead th {\n",
       "        text-align: right;\n",
       "    }\n",
       "</style>\n",
       "<table border=\"1\" class=\"dataframe\">\n",
       "  <thead>\n",
       "    <tr style=\"text-align: right;\">\n",
       "      <th></th>\n",
       "      <th>order_id</th>\n",
       "      <th>delivery_time</th>\n",
       "      <th>estimated_delivery_time</th>\n",
       "      <th>delivery_delay</th>\n",
       "      <th>is_late</th>\n",
       "      <th>order_purchase_month</th>\n",
       "      <th>purchase_weekday</th>\n",
       "    </tr>\n",
       "  </thead>\n",
       "  <tbody>\n",
       "    <tr>\n",
       "      <th>0</th>\n",
       "      <td>e481f51cbdc54678b7cc49136f2d6af7</td>\n",
       "      <td>8.0</td>\n",
       "      <td>15.0</td>\n",
       "      <td>-8.0</td>\n",
       "      <td>0.0</td>\n",
       "      <td>2017-10</td>\n",
       "      <td>Monday</td>\n",
       "    </tr>\n",
       "    <tr>\n",
       "      <th>1</th>\n",
       "      <td>e481f51cbdc54678b7cc49136f2d6af7</td>\n",
       "      <td>13.0</td>\n",
       "      <td>19.0</td>\n",
       "      <td>-6.0</td>\n",
       "      <td>0.0</td>\n",
       "      <td>2017-10</td>\n",
       "      <td>Tuesday</td>\n",
       "    </tr>\n",
       "    <tr>\n",
       "      <th>2</th>\n",
       "      <td>e481f51cbdc54678b7cc49136f2d6af7</td>\n",
       "      <td>9.0</td>\n",
       "      <td>26.0</td>\n",
       "      <td>-18.0</td>\n",
       "      <td>0.0</td>\n",
       "      <td>2017-10</td>\n",
       "      <td>Wednesday</td>\n",
       "    </tr>\n",
       "    <tr>\n",
       "      <th>3</th>\n",
       "      <td>53cdb2fc8bc7dce0b6741e2150273451</td>\n",
       "      <td>13.0</td>\n",
       "      <td>26.0</td>\n",
       "      <td>-13.0</td>\n",
       "      <td>0.0</td>\n",
       "      <td>2018-07</td>\n",
       "      <td>Saturday</td>\n",
       "    </tr>\n",
       "    <tr>\n",
       "      <th>4</th>\n",
       "      <td>47770eb9100c2d0c44946d9cf07ec65d</td>\n",
       "      <td>2.0</td>\n",
       "      <td>12.0</td>\n",
       "      <td>-10.0</td>\n",
       "      <td>0.0</td>\n",
       "      <td>2018-08</td>\n",
       "      <td>Tuesday</td>\n",
       "    </tr>\n",
       "  </tbody>\n",
       "</table>\n",
       "</div>"
      ],
      "text/plain": [
       "                           order_id  delivery_time  estimated_delivery_time  \\\n",
       "0  e481f51cbdc54678b7cc49136f2d6af7            8.0                     15.0   \n",
       "1  e481f51cbdc54678b7cc49136f2d6af7           13.0                     19.0   \n",
       "2  e481f51cbdc54678b7cc49136f2d6af7            9.0                     26.0   \n",
       "3  53cdb2fc8bc7dce0b6741e2150273451           13.0                     26.0   \n",
       "4  47770eb9100c2d0c44946d9cf07ec65d            2.0                     12.0   \n",
       "\n",
       "   delivery_delay  is_late order_purchase_month purchase_weekday  \n",
       "0            -8.0      0.0              2017-10           Monday  \n",
       "1            -6.0      0.0              2017-10          Tuesday  \n",
       "2           -18.0      0.0              2017-10        Wednesday  \n",
       "3           -13.0      0.0              2018-07         Saturday  \n",
       "4           -10.0      0.0              2018-08          Tuesday  "
      ]
     },
     "execution_count": 122,
     "metadata": {},
     "output_type": "execute_result"
    }
   ],
   "source": [
    "df[[\n",
    "    \"order_id\", \"delivery_time\", \"estimated_delivery_time\", \"delivery_delay\", \"is_late\",\n",
    "    \"order_purchase_month\", \"purchase_weekday\"\n",
    "]].head()"
   ]
  },
  {
   "cell_type": "markdown",
   "id": "5bd8fc39",
   "metadata": {},
   "source": [
    "# Exploratory Data Analysis"
   ]
  },
  {
   "cell_type": "markdown",
   "id": "b3d776c4",
   "metadata": {},
   "source": [
    "The focus of this analysis is to explore and analyze the delivery delays of orders in a Brazilian e-commerce marketplace. We will identify patterns related to late deliveries, look for factors that could influence delays."
   ]
  },
  {
   "cell_type": "markdown",
   "id": "248714a8",
   "metadata": {},
   "source": [
    "### Late Deliveries"
   ]
  },
  {
   "cell_type": "markdown",
   "id": "9efaa9e8",
   "metadata": {},
   "source": [
    "#### Late Deliveries Over time\n",
    "This chart shows the proportion of late deliveries by purchase month. It helps identify trends or periods with unusual delays."
   ]
  },
  {
   "cell_type": "code",
   "execution_count": 112,
   "id": "34c78aba",
   "metadata": {},
   "outputs": [],
   "source": [
    "# calculate monthly late delivery rate\n",
    "late_by_month = orders.groupby(\"order_purchase_month\")[\"is_late\"].mean()"
   ]
  },
  {
   "cell_type": "code",
   "execution_count": 113,
   "id": "23de1da0",
   "metadata": {},
   "outputs": [
    {
     "data": {
      "image/png": "[encoded data removed]",
      "text/plain": [
       "<Figure size 1200x500 with 1 Axes>"
      ]
     },
     "metadata": {},
     "output_type": "display_data"
    }
   ],
   "source": [
    "# Plotting\n",
    "plt.figure(figsize = (12, 5))\n",
    "plt.plot(late_by_month.index.astype(str), late_by_month.values, marker='o', color=\"blue\")\n",
    "plt.title(\"Proportion of late deliveries by month\")\n",
    "plt.xlabel(\"Month\")\n",
    "plt.ylabel(\"Late Deliveries Rate\")\n",
    "plt.grid(True)\n",
    "plt.xticks (rotation=45)\n",
    "plt.show()"
   ]
  },
  {
   "cell_type": "code",
   "execution_count": 115,
   "id": "347aeed7",
   "metadata": {},
   "outputs": [
    {
     "name": "stdout",
     "output_type": "stream",
     "text": [
      "<class 'pandas.core.frame.DataFrame'>\n",
      "Int64Index: 118434 entries, 0 to 118433\n",
      "Data columns (total 34 columns):\n",
      " #   Column                         Non-Null Count   Dtype         \n",
      "---  ------                         --------------   -----         \n",
      " 0   order_id                       118434 non-null  object        \n",
      " 1   customer_id                    118434 non-null  object        \n",
      " 2   order_status                   118434 non-null  category      \n",
      " 3   order_purchase_timestamp       118434 non-null  datetime64[ns]\n",
      " 4   order_approved_at              118258 non-null  datetime64[ns]\n",
      " 5   order_delivered_carrier_date   116360 non-null  datetime64[ns]\n",
      " 6   order_delivered_customer_date  115037 non-null  datetime64[ns]\n",
      " 7   order_estimated_delivery_date  118434 non-null  datetime64[ns]\n",
      " 8   order_purchase_month           118434 non-null  period[M]     \n",
      " 9   order_item_id                  117604 non-null  float64       \n",
      " 10  product_id                     117604 non-null  object        \n",
      " 11  seller_id                      117604 non-null  object        \n",
      " 12  shipping_limit_date            117604 non-null  datetime64[ns]\n",
      " 13  price                          117604 non-null  float64       \n",
      " 14  freight_value                  117604 non-null  float64       \n",
      " 15  customer_unique_id             118434 non-null  object        \n",
      " 16  customer_zip_code_prefix       118434 non-null  int64         \n",
      " 17  customer_city                  118434 non-null  object        \n",
      " 18  customer_state                 118434 non-null  object        \n",
      " 19  product_category_name          117604 non-null  object        \n",
      " 20  product_name_lenght            117604 non-null  float64       \n",
      " 21  product_description_lenght     117604 non-null  float64       \n",
      " 22  product_photos_qty             117604 non-null  float64       \n",
      " 23  product_weight_g               117604 non-null  float64       \n",
      " 24  product_length_cm              117604 non-null  float64       \n",
      " 25  product_height_cm              117604 non-null  float64       \n",
      " 26  product_width_cm               117604 non-null  float64       \n",
      " 27  payment_sequential             118431 non-null  float64       \n",
      " 28  payment_type                   118431 non-null  category      \n",
      " 29  payment_installments           118431 non-null  float64       \n",
      " 30  payment_value                  118431 non-null  float64       \n",
      " 31  seller_zip_code_prefix         117604 non-null  float64       \n",
      " 32  seller_city                    117604 non-null  object        \n",
      " 33  seller_state                   117604 non-null  object        \n",
      "dtypes: category(2), datetime64[ns](6), float64(14), int64(1), object(10), period[M](1)\n",
      "memory usage: 30.0+ MB\n"
     ]
    }
   ],
   "source": [
    "df.info()"
   ]
  },
  {
   "cell_type": "markdown",
   "id": "1c7a20fd",
   "metadata": {},
   "source": [
    "### Delay for clients state"
   ]
  },
  {
   "cell_type": "code",
   "execution_count": 123,
   "id": "c00469da",
   "metadata": {},
   "outputs": [
    {
     "data": {
      "image/png": "[encoded data removed]",
      "text/plain": [
       "<Figure size 1400x600 with 1 Axes>"
      ]
     },
     "metadata": {},
     "output_type": "display_data"
    }
   ],
   "source": [
    "# Calculate late delivery rate by customer state\n",
    "late_by_state = df.groupby(\"customer_state\")[\"is_late\"].mean().sort_values(ascending=False)\n",
    "\n",
    "# Plotting\n",
    "plt.figure(figsize=(14, 6))\n",
    "late_by_state.plot(kind='bar', color='tomato')\n",
    "plt.title(\"Late Delivery Rate by Customer State\")\n",
    "plt.xlabel(\"Customer State\")\n",
    "plt.ylabel(\"Proportion of Late Deliveries\")\n",
    "plt.xticks(rotation=45)\n",
    "plt.grid(axis='y')\n",
    "plt.tight_layout()\n",
    "plt.show()\n"
   ]
  }
 ],
 "metadata": {
  "jupytext": {
   "cell_metadata_filter": "-all",
   "main_language": "python",
   "notebook_metadata_filter": "-all"
  },
  "kernelspec": {
   "display_name": "base",
   "language": "python",
   "name": "python3"
  },
  "language_info": {
   "codemirror_mode": {
    "name": "ipython",
    "version": 3
   },
   "file_extension": ".py",
   "mimetype": "text/x-python",
   "name": "python",
   "nbconvert_exporter": "python",
   "pygments_lexer": "ipython3",
   "version": "3.11.3"
  }
 },
 "nbformat": 4,
 "nbformat_minor": 5
}
